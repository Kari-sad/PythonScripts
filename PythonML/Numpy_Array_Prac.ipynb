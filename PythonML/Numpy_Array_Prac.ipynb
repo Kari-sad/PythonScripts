{
 "cells": [
  {
   "cell_type": "code",
   "execution_count": 1,
   "metadata": {},
   "outputs": [],
   "source": [
    "import numpy as np"
   ]
  },
  {
   "cell_type": "markdown",
   "metadata": {},
   "source": [
    "# NumPy Constants"
   ]
  },
  {
   "cell_type": "code",
   "execution_count": 2,
   "metadata": {},
   "outputs": [
    {
     "name": "stdout",
     "output_type": "stream",
     "text": [
      "Inifinity (neg,pos): (-inf,inf)\n",
      "Zero (neg,pos): (-0.0,0.0)\n",
      "Pi: 3.141592653589793\n",
      "Euler Gamma: 0.5772156649015329\n",
      "Epsilon e: 2.718281828459045\n",
      "NotANumber: nan\n"
     ]
    }
   ],
   "source": [
    "print('Inifinity (neg,pos): ({0},{1})'.format(np.NINF,np.inf))\n",
    "print('Zero (neg,pos): ({0},{1})'.format(np.NZERO,np.PZERO))\n",
    "print('Pi: {0}\\nEuler Gamma: {1}\\nEpsilon e: {2}'.format(np.pi,np.euler_gamma,np.e))\n",
    "print('NotANumber: {0}'.format(np.nan))"
   ]
  },
  {
   "cell_type": "markdown",
   "metadata": {},
   "source": [
    "# Array: A collection of similar data types"
   ]
  },
  {
   "cell_type": "code",
   "execution_count": 3,
   "metadata": {},
   "outputs": [
    {
     "data": {
      "text/plain": [
       "array([[6881399, 7536750, 7274608],\n",
       "       [7077999, 6553646, 7733362],\n",
       "       [      0,       0,       0]])"
      ]
     },
     "execution_count": 3,
     "metadata": {},
     "output_type": "execute_result"
    }
   ],
   "source": [
    "## Create an N dimensional array with random values\n",
    "ax = np.empty([3,3], np.int)\n",
    "ax"
   ]
  },
  {
   "cell_type": "code",
   "execution_count": 4,
   "metadata": {},
   "outputs": [
    {
     "data": {
      "text/plain": [
       "array([[1, 0, 0, 0, 0],\n",
       "       [0, 1, 0, 0, 0],\n",
       "       [0, 0, 1, 0, 0],\n",
       "       [0, 0, 0, 1, 0],\n",
       "       [0, 0, 0, 0, 1]], dtype=uint8)"
      ]
     },
     "execution_count": 4,
     "metadata": {},
     "output_type": "execute_result"
    }
   ],
   "source": [
    "## Create an array with the diagnol as 1\n",
    "bx = np.eye(5,dtype=np.uint8) \n",
    "bx\n",
    "## Similar to the below\n",
    "# bx = np.identity(5,dtype=np.uint8) \n",
    "# bx"
   ]
  },
  {
   "cell_type": "code",
   "execution_count": 5,
   "metadata": {},
   "outputs": [
    {
     "data": {
      "text/plain": [
       "array([[0, 1, 0, 0, 0],\n",
       "       [0, 0, 1, 0, 0],\n",
       "       [0, 0, 0, 1, 0],\n",
       "       [0, 0, 0, 0, 1],\n",
       "       [0, 0, 0, 0, 0]], dtype=uint8)"
      ]
     },
     "execution_count": 5,
     "metadata": {},
     "output_type": "execute_result"
    }
   ],
   "source": [
    "#To change the position of 1\n",
    "bx1 = np.eye(5, dtype=np.uint8 , k=1)\n",
    "bx1"
   ]
  },
  {
   "cell_type": "code",
   "execution_count": 6,
   "metadata": {},
   "outputs": [
    {
     "data": {
      "text/plain": [
       "array([[0, 0, 0, 0, 0],\n",
       "       [1, 0, 0, 0, 0],\n",
       "       [0, 1, 0, 0, 0],\n",
       "       [0, 0, 1, 0, 0],\n",
       "       [0, 0, 0, 1, 0]], dtype=uint8)"
      ]
     },
     "execution_count": 6,
     "metadata": {},
     "output_type": "execute_result"
    }
   ],
   "source": [
    "#To change the position of 1 down\n",
    "bx1a = np.eye(5, dtype=np.uint8 , k=-1)\n",
    "bx1a"
   ]
  },
  {
   "cell_type": "code",
   "execution_count": 7,
   "metadata": {},
   "outputs": [
    {
     "data": {
      "text/plain": [
       "array([[[1., 1., 1., 1., 1.],\n",
       "        [1., 1., 1., 1., 1.],\n",
       "        [1., 1., 1., 1., 1.]],\n",
       "\n",
       "       [[1., 1., 1., 1., 1.],\n",
       "        [1., 1., 1., 1., 1.],\n",
       "        [1., 1., 1., 1., 1.]],\n",
       "\n",
       "       [[1., 1., 1., 1., 1.],\n",
       "        [1., 1., 1., 1., 1.],\n",
       "        [1., 1., 1., 1., 1.]]])"
      ]
     },
     "execution_count": 7,
     "metadata": {},
     "output_type": "execute_result"
    }
   ],
   "source": [
    "## To create N dimentional matrix with elements as 1\n",
    "all1 = np.ones((3,3,5))\n",
    "all1"
   ]
  },
  {
   "cell_type": "code",
   "execution_count": 8,
   "metadata": {},
   "outputs": [
    {
     "data": {
      "text/plain": [
       "array([[[0., 0., 0., 0., 0.],\n",
       "        [0., 0., 0., 0., 0.],\n",
       "        [0., 0., 0., 0., 0.]],\n",
       "\n",
       "       [[0., 0., 0., 0., 0.],\n",
       "        [0., 0., 0., 0., 0.],\n",
       "        [0., 0., 0., 0., 0.]],\n",
       "\n",
       "       [[0., 0., 0., 0., 0.],\n",
       "        [0., 0., 0., 0., 0.],\n",
       "        [0., 0., 0., 0., 0.]]])"
      ]
     },
     "execution_count": 8,
     "metadata": {},
     "output_type": "execute_result"
    }
   ],
   "source": [
    "## To create N dimentional matrix with elements as 0\n",
    "all0= np.zeros((3,3,5))\n",
    "all0"
   ]
  },
  {
   "cell_type": "code",
   "execution_count": 9,
   "metadata": {
    "scrolled": true
   },
   "outputs": [
    {
     "data": {
      "text/plain": [
       "array([[[7, 7, 7],\n",
       "        [7, 7, 7],\n",
       "        [7, 7, 7]],\n",
       "\n",
       "       [[7, 7, 7],\n",
       "        [7, 7, 7],\n",
       "        [7, 7, 7]],\n",
       "\n",
       "       [[7, 7, 7],\n",
       "        [7, 7, 7],\n",
       "        [7, 7, 7]]], dtype=uint8)"
      ]
     },
     "execution_count": 9,
     "metadata": {},
     "output_type": "execute_result"
    }
   ],
   "source": [
    "## To create N dimentional matrix with desired elements\n",
    "allD = np.full((3,3,3),dtype=np.uint8,fill_value=7)\n",
    "allD"
   ]
  },
  {
   "cell_type": "code",
   "execution_count": 11,
   "metadata": {},
   "outputs": [
    {
     "data": {
      "text/plain": [
       "array([[1., 0., 0., 0., 0.],\n",
       "       [1., 1., 0., 0., 0.],\n",
       "       [1., 1., 1., 0., 0.],\n",
       "       [1., 1., 1., 1., 0.],\n",
       "       [1., 1., 1., 1., 1.]])"
      ]
     },
     "execution_count": 11,
     "metadata": {},
     "output_type": "execute_result"
    }
   ],
   "source": [
    "## Create a Triangular Matrix\n",
    "tri1 = np.tri(5,5,k=0)\n",
    "tri1"
   ]
  },
  {
   "cell_type": "code",
   "execution_count": 12,
   "metadata": {},
   "outputs": [
    {
     "data": {
      "text/plain": [
       "array([[6881399, 7536750, 7274608],\n",
       "       [      0, 6553646, 7733362],\n",
       "       [      0,       0,       0]])"
      ]
     },
     "execution_count": 12,
     "metadata": {},
     "output_type": "execute_result"
    }
   ],
   "source": [
    "## Upper Triangle\n",
    "ut = np.triu(ax,k=0)\n",
    "ut"
   ]
  },
  {
   "cell_type": "code",
   "execution_count": 13,
   "metadata": {},
   "outputs": [
    {
     "data": {
      "text/plain": [
       "array([[6881399,       0,       0],\n",
       "       [7077999, 6553646,       0],\n",
       "       [      0,       0,       0]])"
      ]
     },
     "execution_count": 13,
     "metadata": {},
     "output_type": "execute_result"
    }
   ],
   "source": [
    "## Lower Triangle\n",
    "lt = np.tril(ax,k=0)\n",
    "lt"
   ]
  },
  {
   "cell_type": "markdown",
   "metadata": {},
   "source": [
    "Creation of custom arrays"
   ]
  },
  {
   "cell_type": "code",
   "execution_count": 14,
   "metadata": {},
   "outputs": [
    {
     "data": {
      "text/plain": [
       "array([1, 2, 3, 4, 5, 6], dtype=int8)"
      ]
     },
     "execution_count": 14,
     "metadata": {},
     "output_type": "execute_result"
    }
   ],
   "source": [
    "# Creating a unidirectional array with int16 datatype\n",
    "x = np.array([1,'2',3,4,5, 6] , np.int8)\n",
    "x # is equalent to x.view()"
   ]
  },
  {
   "cell_type": "code",
   "execution_count": 15,
   "metadata": {},
   "outputs": [
    {
     "name": "stdout",
     "output_type": "stream",
     "text": [
      "2\n",
      "int8\n"
     ]
    }
   ],
   "source": [
    "print(x[1])\n",
    "print(x[1].dtype)"
   ]
  },
  {
   "cell_type": "code",
   "execution_count": 16,
   "metadata": {},
   "outputs": [
    {
     "data": {
      "text/plain": [
       "1"
      ]
     },
     "execution_count": 16,
     "metadata": {},
     "output_type": "execute_result"
    }
   ],
   "source": [
    "## shows how many dimensions are there  in the array\n",
    "x.ndim"
   ]
  },
  {
   "cell_type": "code",
   "execution_count": 17,
   "metadata": {},
   "outputs": [
    {
     "data": {
      "text/plain": [
       "array([1, 2, 3, 4, 5, 6], dtype=int8)"
      ]
     },
     "execution_count": 17,
     "metadata": {},
     "output_type": "execute_result"
    }
   ],
   "source": [
    "## Transpose of the matrix\n",
    "x.T"
   ]
  },
  {
   "cell_type": "code",
   "execution_count": 18,
   "metadata": {},
   "outputs": [
    {
     "data": {
      "text/plain": [
       "array([[ 1,  2,  3,  4,  5],\n",
       "       [ 6,  7,  8,  9, 10]], dtype=int8)"
      ]
     },
     "execution_count": 18,
     "metadata": {},
     "output_type": "execute_result"
    }
   ],
   "source": [
    "x2 = np.array([[1,2,3,4,5], [6,7,8,9,10]], np.int8)\n",
    "x2"
   ]
  },
  {
   "cell_type": "code",
   "execution_count": 19,
   "metadata": {},
   "outputs": [
    {
     "data": {
      "text/plain": [
       "2"
      ]
     },
     "execution_count": 19,
     "metadata": {},
     "output_type": "execute_result"
    }
   ],
   "source": [
    "x2.ndim"
   ]
  },
  {
   "cell_type": "code",
   "execution_count": 20,
   "metadata": {},
   "outputs": [
    {
     "data": {
      "text/plain": [
       "dtype('int8')"
      ]
     },
     "execution_count": 20,
     "metadata": {},
     "output_type": "execute_result"
    }
   ],
   "source": [
    "# The data type of internal elements of the array\n",
    "x2.dtype"
   ]
  },
  {
   "cell_type": "markdown",
   "metadata": {},
   "source": [
    "The number of '[]' mentioned inside the array() method will decide the dimensions of the array, i.e for \n",
    "n number of dimensions use nnumber of []"
   ]
  },
  {
   "cell_type": "code",
   "execution_count": 21,
   "metadata": {},
   "outputs": [
    {
     "data": {
      "text/plain": [
       "array([[ 1,  2,  3,  4,  5],\n",
       "       [ 6,  7,  8,  9, 10]], dtype=int8)"
      ]
     },
     "execution_count": 21,
     "metadata": {},
     "output_type": "execute_result"
    }
   ],
   "source": [
    "x2.view()"
   ]
  },
  {
   "cell_type": "code",
   "execution_count": 22,
   "metadata": {},
   "outputs": [
    {
     "data": {
      "text/plain": [
       "array([[ 1,  6],\n",
       "       [ 2,  7],\n",
       "       [ 3,  8],\n",
       "       [ 4,  9],\n",
       "       [ 5, 10]], dtype=int8)"
      ]
     },
     "execution_count": 22,
     "metadata": {},
     "output_type": "execute_result"
    }
   ],
   "source": [
    "x2.T"
   ]
  },
  {
   "cell_type": "markdown",
   "metadata": {},
   "source": [
    "access values with nameofArray[ROWS,COLLUMNS]"
   ]
  },
  {
   "cell_type": "code",
   "execution_count": 23,
   "metadata": {},
   "outputs": [
    {
     "name": "stdout",
     "output_type": "stream",
     "text": [
      "First row of the array:  [1 2 3 4 5]\n",
      "Second row of the array: [ 6  7  8  9 10]\n",
      "its type is <class 'numpy.ndarray'>\n"
     ]
    }
   ],
   "source": [
    "# To access the elements of the array, \n",
    "print('First row of the array:  {0}\\nSecond row of the array: {1}\\nits type is {2}'.format(x2[0],x2[1],type(x2[0])))"
   ]
  },
  {
   "cell_type": "code",
   "execution_count": 24,
   "metadata": {},
   "outputs": [
    {
     "name": "stdout",
     "output_type": "stream",
     "text": [
      "Access Method 1 x2[1,3]:  9\n",
      "Access Method 2 x2[1][3]: 9\n",
      "Access Method 3 x2[[1],[3]]: [9]\n",
      "Access Type 1:  <class 'numpy.int8'>\n",
      "Access Type 2: <class 'numpy.int8'>\n",
      "Access Type 3: <class 'numpy.ndarray'>\n"
     ]
    }
   ],
   "source": [
    "## Printing the forth element of second row.\n",
    "print('Access Method 1 x2[1,3]:  {0}\\nAccess Method 2 x2[1][3]: {1}\\nAccess Method 3 x2[[1],[3]]: {2}'.format(x2[1,3],x2[1][3],x2[[1],[3]]))\n",
    "print('Access Type 1:  {0}\\nAccess Type 2: {1}\\nAccess Type 3: {2}'.format(type(x2[1,3]) , type(x2[1][3]) , type(x2[[1],[3]]) ))"
   ]
  },
  {
   "cell_type": "markdown",
   "metadata": {},
   "source": [
    "Slicing data from Array Objects"
   ]
  },
  {
   "cell_type": "code",
   "execution_count": 25,
   "metadata": {},
   "outputs": [
    {
     "name": "stdout",
     "output_type": "stream",
     "text": [
      "Access Method 1 x2[1,3]:  9\n",
      "Access Method 2 x2[1][3]: 9\n",
      "Access Method 3 x2[[1],[3]]: [9]\n",
      "Access Type 1:  <class 'numpy.int8'>\n",
      "Access Type 2: <class 'numpy.int8'>\n",
      "Access Type 3: <class 'numpy.ndarray'>\n"
     ]
    }
   ],
   "source": [
    "## Printing the forth element of second row.\n",
    "print('Access Method 1 x2[1,3]:  {0}\\nAccess Method 2 x2[1][3]: {1}\\nAccess Method 3 x2[[1],[3]]: {2}'.format(x2[1,3],x2[1][3],x2[[1],[3]]))\n",
    "print('Access Type 1:  {0}\\nAccess Type 2: {1}\\nAccess Type 3: {2}'.format(type(x2[1,3]) , type(x2[1][3]) , type(x2[[1],[3]]) ))"
   ]
  },
  {
   "cell_type": "code",
   "execution_count": 26,
   "metadata": {},
   "outputs": [
    {
     "data": {
      "text/plain": [
       "array([1, 6], dtype=int8)"
      ]
     },
     "execution_count": 26,
     "metadata": {},
     "output_type": "execute_result"
    }
   ],
   "source": [
    "#to print the  first column of the array\n",
    "x2[:,0]"
   ]
  },
  {
   "cell_type": "code",
   "execution_count": 27,
   "metadata": {},
   "outputs": [
    {
     "data": {
      "text/plain": [
       "array([2, 7], dtype=int8)"
      ]
     },
     "execution_count": 27,
     "metadata": {},
     "output_type": "execute_result"
    }
   ],
   "source": [
    "# Second column\n",
    "x2[:,1]"
   ]
  },
  {
   "cell_type": "code",
   "execution_count": 28,
   "metadata": {},
   "outputs": [
    {
     "data": {
      "text/plain": [
       "array([1, 2, 3, 4, 5], dtype=int8)"
      ]
     },
     "execution_count": 28,
     "metadata": {},
     "output_type": "execute_result"
    }
   ],
   "source": [
    "#To print the entire first row\n",
    "x2[0,:]"
   ]
  },
  {
   "cell_type": "code",
   "execution_count": 29,
   "metadata": {},
   "outputs": [
    {
     "data": {
      "text/plain": [
       "9"
      ]
     },
     "execution_count": 29,
     "metadata": {},
     "output_type": "execute_result"
    }
   ],
   "source": [
    "# To print an element of Second row fourth column\n",
    "x2[1,3]"
   ]
  },
  {
   "cell_type": "code",
   "execution_count": 30,
   "metadata": {},
   "outputs": [
    {
     "data": {
      "text/plain": [
       "array([2, 3, 4], dtype=int8)"
      ]
     },
     "execution_count": 30,
     "metadata": {},
     "output_type": "execute_result"
    }
   ],
   "source": [
    "# To print the elements of first row from second element to fourth element\n",
    "x2[0,1:4]"
   ]
  },
  {
   "cell_type": "code",
   "execution_count": 31,
   "metadata": {},
   "outputs": [
    {
     "data": {
      "text/plain": [
       "array([[2, 3, 4],\n",
       "       [7, 8, 9]], dtype=int8)"
      ]
     },
     "execution_count": 31,
     "metadata": {},
     "output_type": "execute_result"
    }
   ],
   "source": [
    "# To print the elements of array from all the rows but column 2 to 4\n",
    "x2[:,1:4]"
   ]
  },
  {
   "cell_type": "code",
   "execution_count": 32,
   "metadata": {},
   "outputs": [
    {
     "data": {
      "text/plain": [
       "(2, 5)"
      ]
     },
     "execution_count": 32,
     "metadata": {},
     "output_type": "execute_result"
    }
   ],
   "source": [
    "## Shape gives rows,columns value\n",
    "x2.shape"
   ]
  },
  {
   "cell_type": "code",
   "execution_count": 33,
   "metadata": {},
   "outputs": [
    {
     "data": {
      "text/plain": [
       "array([[ 1,  2,  3,  4,  5],\n",
       "       [ 6,  7,  8,  9, 10],\n",
       "       [11, 12, 13, 14, 15]], dtype=int8)"
      ]
     },
     "execution_count": 33,
     "metadata": {},
     "output_type": "execute_result"
    }
   ],
   "source": [
    "xNOT3D = np.array([[1,2,3,4,5], [6,7,8,9,10] , [11, 12, 13, 14, 15]], np.int8)\n",
    "xNOT3D"
   ]
  },
  {
   "cell_type": "code",
   "execution_count": 34,
   "metadata": {},
   "outputs": [
    {
     "name": "stdout",
     "output_type": "stream",
     "text": [
      "Dimensions: 2\n",
      "Shape: (3, 5)\n"
     ]
    }
   ],
   "source": [
    "print('Dimensions: {0}\\nShape: {1}'.format(xNOT3D.ndim,xNOT3D.shape))"
   ]
  },
  {
   "cell_type": "code",
   "execution_count": 35,
   "metadata": {},
   "outputs": [
    {
     "data": {
      "text/plain": [
       "array([[[ 1,  2,  3,  4,  5],\n",
       "        [ 6,  7,  8,  9, 10],\n",
       "        [11, 12, 13, 14, 15]],\n",
       "\n",
       "       [[11, 12, 13, 14, 15],\n",
       "        [ 1,  2,  3,  4,  5],\n",
       "        [ 6,  7,  8,  9, 10]],\n",
       "\n",
       "       [[ 6,  7,  8,  9, 10],\n",
       "        [11, 12, 13, 14, 15],\n",
       "        [ 1,  2,  3,  4,  5]]], dtype=int8)"
      ]
     },
     "execution_count": 35,
     "metadata": {},
     "output_type": "execute_result"
    }
   ],
   "source": [
    "x3 = np.array(\n",
    "    [\n",
    "        [\n",
    "            [1,2,3,4,5], [6,7,8,9,10] , [11, 12, 13, 14, 15] \n",
    "        ],\n",
    "        [\n",
    "           [11, 12, 13, 14, 15] ,  [1,2,3,4,5] , [6,7,8,9,10]\n",
    "        ],\n",
    "        [\n",
    "            [6,7,8,9,10] , [11, 12, 13, 14, 15] ,  [1,2,3,4,5]\n",
    "        ]\n",
    "    ]\n",
    "    , np.int8)\n",
    "x3"
   ]
  },
  {
   "cell_type": "code",
   "execution_count": 36,
   "metadata": {},
   "outputs": [
    {
     "name": "stdout",
     "output_type": "stream",
     "text": [
      "Dimensions: 3\n",
      "Shape: (3, 3, 5)\n"
     ]
    }
   ],
   "source": [
    "print('Dimensions: {0}\\nShape: {1}'.format(x3.ndim,x3.shape))"
   ]
  },
  {
   "cell_type": "code",
   "execution_count": 37,
   "metadata": {
    "scrolled": true
   },
   "outputs": [
    {
     "name": "stdout",
     "output_type": "stream",
     "text": [
      "From Dim 1 x3[0,2,1]: 12\n",
      "From Dim 2 x3[1,0,1]: 12\n",
      "From Dim 3 x3[2,1,1]: 12\n"
     ]
    }
   ],
   "source": [
    "## Print 12 from all the dimensions\n",
    "print('From Dim 1 x3[0,2,1]: {0}\\nFrom Dim 2 x3[1,0,1]: {1}\\nFrom Dim 3 x3[2,1,1]: {2}'.format(x3[0,2,1],x3[1,0,1],x3[2,1,1]))"
   ]
  },
  {
   "cell_type": "code",
   "execution_count": 38,
   "metadata": {},
   "outputs": [
    {
     "data": {
      "text/plain": [
       "array([[ 1,  2,  3],\n",
       "       [ 6,  7,  8],\n",
       "       [11, 12, 13]], dtype=int8)"
      ]
     },
     "execution_count": 38,
     "metadata": {},
     "output_type": "execute_result"
    }
   ],
   "source": [
    "x3[0,:,0:3]"
   ]
  },
  {
   "cell_type": "code",
   "execution_count": 39,
   "metadata": {},
   "outputs": [
    {
     "data": {
      "text/plain": [
       "array([[[ 1,  2,  3],\n",
       "        [ 6,  7,  8],\n",
       "        [11, 12, 13]],\n",
       "\n",
       "       [[11, 12, 13],\n",
       "        [ 1,  2,  3],\n",
       "        [ 6,  7,  8]],\n",
       "\n",
       "       [[ 6,  7,  8],\n",
       "        [11, 12, 13],\n",
       "        [ 1,  2,  3]]], dtype=int8)"
      ]
     },
     "execution_count": 39,
     "metadata": {},
     "output_type": "execute_result"
    }
   ],
   "source": [
    "x3[:,:,0:3]"
   ]
  },
  {
   "cell_type": "code",
   "execution_count": 40,
   "metadata": {},
   "outputs": [
    {
     "data": {
      "text/plain": [
       "array([[[ 2],\n",
       "        [ 7],\n",
       "        [12]],\n",
       "\n",
       "       [[12],\n",
       "        [ 2],\n",
       "        [ 7]],\n",
       "\n",
       "       [[ 7],\n",
       "        [12],\n",
       "        [ 2]]], dtype=int8)"
      ]
     },
     "execution_count": 40,
     "metadata": {},
     "output_type": "execute_result"
    }
   ],
   "source": [
    "x3[:,:,1:2]"
   ]
  },
  {
   "cell_type": "code",
   "execution_count": 41,
   "metadata": {},
   "outputs": [
    {
     "data": {
      "text/plain": [
       "array([[ 7],\n",
       "       [12],\n",
       "       [ 2]], dtype=int8)"
      ]
     },
     "execution_count": 41,
     "metadata": {},
     "output_type": "execute_result"
    }
   ],
   "source": [
    "x3[:,:,1:2][2]"
   ]
  },
  {
   "cell_type": "code",
   "execution_count": 42,
   "metadata": {},
   "outputs": [
    {
     "data": {
      "text/plain": [
       "array([7], dtype=int8)"
      ]
     },
     "execution_count": 42,
     "metadata": {},
     "output_type": "execute_result"
    }
   ],
   "source": [
    "x3[:,:,1:2][2][0]"
   ]
  },
  {
   "cell_type": "code",
   "execution_count": 43,
   "metadata": {},
   "outputs": [
    {
     "data": {
      "text/plain": [
       "array([[[ 1, 11,  6],\n",
       "        [ 6,  1, 11],\n",
       "        [11,  6,  1]],\n",
       "\n",
       "       [[ 2, 12,  7],\n",
       "        [ 7,  2, 12],\n",
       "        [12,  7,  2]],\n",
       "\n",
       "       [[ 3, 13,  8],\n",
       "        [ 8,  3, 13],\n",
       "        [13,  8,  3]],\n",
       "\n",
       "       [[ 4, 14,  9],\n",
       "        [ 9,  4, 14],\n",
       "        [14,  9,  4]],\n",
       "\n",
       "       [[ 5, 15, 10],\n",
       "        [10,  5, 15],\n",
       "        [15, 10,  5]]], dtype=int8)"
      ]
     },
     "execution_count": 43,
     "metadata": {},
     "output_type": "execute_result"
    }
   ],
   "source": [
    "x3.T"
   ]
  },
  {
   "cell_type": "code",
   "execution_count": 44,
   "metadata": {},
   "outputs": [
    {
     "data": {
      "text/plain": [
       "array([[[[list([20, 21, 22, 23, 24]), list([25, 26, 27, 28, 29, 30]),\n",
       "          list([31, 32, 33, 34, 35])],\n",
       "         [list([1, 2, 3, 4, 5]), list([6, 7, 8, 9, 10]),\n",
       "          list([11, 12, 13, 14, 15])],\n",
       "         [list([11, 12, 13, 14, 15]), list([1, 2, 3, 4, 5]),\n",
       "          list([6, 7, 8, 9, 10])],\n",
       "         [list([6, 7, 8, 9, 10]), list([11, 12, 13, 14, 15]),\n",
       "          list([1, 2, 3, 4, 5])],\n",
       "         [list([20, 21, 22, 23, 24]), list([25, 26, 27, 28, 29, 30]),\n",
       "          list([31, 32, 33, 34, 35])]],\n",
       "\n",
       "        [[list([20, 21, 22, 23, 24]), list([25, 26, 27, 28, 29, 30]),\n",
       "          list([31, 32, 33, 34, 35])],\n",
       "         [list([1, 2, 3, 4, 5]), list([6, 7, 8, 9, 10]),\n",
       "          list([11, 12, 13, 14, 15])],\n",
       "         [list([11, 12, 13, 14, 15]), list([1, 2, 3, 4, 5]),\n",
       "          list([6, 7, 8, 9, 10])],\n",
       "         [list([6, 7, 8, 9, 10]), list([11, 12, 13, 14, 15]),\n",
       "          list([1, 2, 3, 4, 5])],\n",
       "         [list([20, 21, 22, 23, 24]), list([25, 26, 27, 28, 29, 30]),\n",
       "          list([31, 32, 33, 34, 35])]],\n",
       "\n",
       "        [[list([20, 21, 22, 23, 24]), list([25, 26, 27, 28, 29, 30]),\n",
       "          list([31, 32, 33, 34, 35])],\n",
       "         [list([1, 2, 3, 4, 5]), list([6, 7, 8, 9, 10]),\n",
       "          list([11, 12, 13, 14, 15])],\n",
       "         [list([11, 12, 13, 14, 15]), list([1, 2, 3, 4, 5]),\n",
       "          list([6, 7, 8, 9, 10])],\n",
       "         [list([6, 7, 8, 9, 10]), list([11, 12, 13, 14, 15]),\n",
       "          list([1, 2, 3, 4, 5])],\n",
       "         [list([20, 21, 22, 23, 24]), list([25, 26, 27, 28, 29, 30]),\n",
       "          list([31, 32, 33, 34, 35])]],\n",
       "\n",
       "        [[list([20, 21, 22, 23, 24]), list([25, 26, 27, 28, 29, 30]),\n",
       "          list([31, 32, 33, 34, 35])],\n",
       "         [list([1, 2, 3, 4, 5]), list([6, 7, 8, 9, 10]),\n",
       "          list([11, 12, 13, 14, 15])],\n",
       "         [list([11, 12, 13, 14, 15]), list([1, 2, 3, 4, 5]),\n",
       "          list([6, 7, 8, 9, 10])],\n",
       "         [list([6, 7, 8, 9, 10]), list([11, 12, 13, 14, 15]),\n",
       "          list([1, 2, 3, 4, 5])],\n",
       "         [list([20, 21, 22, 23, 24]), list([25, 26, 27, 28, 29, 30]),\n",
       "          list([31, 32, 33, 34, 35])]]],\n",
       "\n",
       "\n",
       "       [[[list([20, 21, 22, 23, 24]), list([25, 26, 27, 28, 29, 30]),\n",
       "          list([31, 32, 33, 34, 35])],\n",
       "         [list([1, 2, 3, 4, 5]), list([6, 7, 8, 9, 10]),\n",
       "          list([11, 12, 13, 14, 15])],\n",
       "         [list([11, 12, 13, 14, 15]), list([1, 2, 3, 4, 5]),\n",
       "          list([6, 7, 8, 9, 10])],\n",
       "         [list([6, 7, 8, 9, 10]), list([11, 12, 13, 14, 15]),\n",
       "          list([1, 2, 3, 4, 5])],\n",
       "         [list([20, 21, 22, 23, 24]), list([25, 26, 27, 28, 29, 30]),\n",
       "          list([31, 32, 33, 34, 35])]],\n",
       "\n",
       "        [[list([20, 21, 22, 23, 24]), list([25, 26, 27, 28, 29, 30]),\n",
       "          list([31, 32, 33, 34, 35])],\n",
       "         [list([1, 2, 3, 4, 5]), list([6, 7, 8, 9, 10]),\n",
       "          list([11, 12, 13, 14, 15])],\n",
       "         [list([11, 12, 13, 14, 15]), list([1, 2, 3, 4, 5]),\n",
       "          list([6, 7, 8, 9, 10])],\n",
       "         [list([6, 7, 8, 9, 10]), list([11, 12, 13, 14, 15]),\n",
       "          list([1, 2, 3, 4, 5])],\n",
       "         [list([20, 21, 22, 23, 24]), list([25, 26, 27, 28, 29, 30]),\n",
       "          list([31, 32, 33, 34, 35])]],\n",
       "\n",
       "        [[list([20, 21, 22, 23, 24]), list([25, 26, 27, 28, 29, 30]),\n",
       "          list([31, 32, 33, 34, 35])],\n",
       "         [list([1, 2, 3, 4, 5]), list([6, 7, 8, 9, 10]),\n",
       "          list([11, 12, 13, 14, 15])],\n",
       "         [list([11, 12, 13, 14, 15]), list([1, 2, 3, 4, 5]),\n",
       "          list([6, 7, 8, 9, 10])],\n",
       "         [list([6, 7, 8, 9, 10]), list([11, 12, 13, 14, 15]),\n",
       "          list([1, 2, 3, 4, 5])],\n",
       "         [list([20, 21, 22, 23, 24]), list([25, 26, 27, 28, 29, 30]),\n",
       "          list([31, 32, 33, 34, 35])]],\n",
       "\n",
       "        [[list([20, 21, 22, 23, 24]), list([25, 26, 27, 28, 29, 30]),\n",
       "          list([31, 32, 33, 34, 35])],\n",
       "         [list([1, 2, 3, 4, 5]), list([6, 7, 8, 9, 10]),\n",
       "          list([11, 12, 13, 14, 15])],\n",
       "         [list([11, 12, 13, 14, 15]), list([1, 2, 3, 4, 5]),\n",
       "          list([6, 7, 8, 9, 10])],\n",
       "         [list([6, 7, 8, 9, 10]), list([11, 12, 13, 14, 15]),\n",
       "          list([1, 2, 3, 4, 5])],\n",
       "         [list([20, 21, 22, 23, 24]), list([25, 26, 27, 28, 29, 30]),\n",
       "          list([31, 32, 33, 34, 35])]]],\n",
       "\n",
       "\n",
       "       [[[list([20, 21, 22, 23, 24]), list([25, 26, 27, 28, 29, 30]),\n",
       "          list([31, 32, 33, 34, 35])],\n",
       "         [list([1, 2, 3, 4, 5]), list([6, 7, 8, 9, 10]),\n",
       "          list([11, 12, 13, 14, 15])],\n",
       "         [list([11, 12, 13, 14, 15]), list([1, 2, 3, 4, 5]),\n",
       "          list([6, 7, 8, 9, 10])],\n",
       "         [list([6, 7, 8, 9, 10]), list([11, 12, 13, 14, 15]),\n",
       "          list([1, 2, 3, 4, 5])],\n",
       "         [list([20, 21, 22, 23, 24]), list([25, 26, 27, 28, 29, 30]),\n",
       "          list([31, 32, 33, 34, 35])]],\n",
       "\n",
       "        [[list([20, 21, 22, 23, 24]), list([25, 26, 27, 28, 29, 30]),\n",
       "          list([31, 32, 33, 34, 35])],\n",
       "         [list([1, 2, 3, 4, 5]), list([6, 7, 8, 9, 10]),\n",
       "          list([11, 12, 13, 14, 15])],\n",
       "         [list([11, 12, 13, 14, 15]), list([1, 2, 3, 4, 5]),\n",
       "          list([6, 7, 8, 9, 10])],\n",
       "         [list([6, 7, 8, 9, 10]), list([11, 12, 13, 14, 15]),\n",
       "          list([1, 2, 3, 4, 5])],\n",
       "         [list([20, 21, 22, 23, 24]), list([25, 26, 27, 28, 29, 30]),\n",
       "          list([31, 32, 33, 34, 35])]],\n",
       "\n",
       "        [[list([20, 21, 22, 23, 24]), list([25, 26, 27, 28, 29, 30]),\n",
       "          list([31, 32, 33, 34, 35])],\n",
       "         [list([1, 2, 3, 4, 5]), list([6, 7, 8, 9, 10]),\n",
       "          list([11, 12, 13, 14, 15])],\n",
       "         [list([11, 12, 13, 14, 15]), list([1, 2, 3, 4, 5]),\n",
       "          list([6, 7, 8, 9, 10])],\n",
       "         [list([6, 7, 8, 9, 10]), list([11, 12, 13, 14, 15]),\n",
       "          list([1, 2, 3, 4, 5])],\n",
       "         [list([20, 21, 22, 23, 24]), list([25, 26, 27, 28, 29, 30]),\n",
       "          list([31, 32, 33, 34, 35])]],\n",
       "\n",
       "        [[list([20, 21, 22, 23, 24]), list([25, 26, 27, 28, 29, 30]),\n",
       "          list([31, 32, 33, 34, 35])],\n",
       "         [list([1, 2, 3, 4, 5]), list([6, 7, 8, 9, 10]),\n",
       "          list([11, 12, 13, 14, 15])],\n",
       "         [list([11, 12, 13, 14, 15]), list([1, 2, 3, 4, 5]),\n",
       "          list([6, 7, 8, 9, 10])],\n",
       "         [list([6, 7, 8, 9, 10]), list([11, 12, 13, 14, 15]),\n",
       "          list([1, 2, 3, 4, 5])],\n",
       "         [list([20, 21, 22, 23, 24]), list([25, 26, 27, 28, 29, 30]),\n",
       "          list([31, 32, 33, 34, 35])]]],\n",
       "\n",
       "\n",
       "       [[[list([20, 21, 22, 23, 24]), list([25, 26, 27, 28, 29, 30]),\n",
       "          list([31, 32, 33, 34, 35])],\n",
       "         [list([1, 2, 3, 4, 5]), list([6, 7, 8, 9, 10]),\n",
       "          list([11, 12, 13, 14, 15])],\n",
       "         [list([11, 12, 13, 14, 15]), list([1, 2, 3, 4, 5]),\n",
       "          list([6, 7, 8, 9, 10])],\n",
       "         [list([6, 7, 8, 9, 10]), list([11, 12, 13, 14, 15]),\n",
       "          list([1, 2, 3, 4, 5])],\n",
       "         [list([20, 21, 22, 23, 24]), list([25, 26, 27, 28, 29, 30]),\n",
       "          list([31, 32, 33, 34, 35])]],\n",
       "\n",
       "        [[list([20, 21, 22, 23, 24]), list([25, 26, 27, 28, 29, 30]),\n",
       "          list([31, 32, 33, 34, 35])],\n",
       "         [list([1, 2, 3, 4, 5]), list([6, 7, 8, 9, 10]),\n",
       "          list([11, 12, 13, 14, 15])],\n",
       "         [list([11, 12, 13, 14, 15]), list([1, 2, 3, 4, 5]),\n",
       "          list([6, 7, 8, 9, 10])],\n",
       "         [list([6, 7, 8, 9, 10]), list([11, 12, 13, 14, 15]),\n",
       "          list([1, 2, 3, 4, 5])],\n",
       "         [list([20, 21, 22, 23, 24]), list([25, 26, 27, 28, 29, 30]),\n",
       "          list([31, 32, 33, 34, 35])]],\n",
       "\n",
       "        [[list([20, 21, 22, 23, 24]), list([25, 26, 27, 28, 29, 30]),\n",
       "          list([31, 32, 33, 34, 35])],\n",
       "         [list([1, 2, 3, 4, 5]), list([6, 7, 8, 9, 10]),\n",
       "          list([11, 12, 13, 14, 15])],\n",
       "         [list([11, 12, 13, 14, 15]), list([1, 2, 3, 4, 5]),\n",
       "          list([6, 7, 8, 9, 10])],\n",
       "         [list([6, 7, 8, 9, 10]), list([11, 12, 13, 14, 15]),\n",
       "          list([1, 2, 3, 4, 5])],\n",
       "         [list([20, 21, 22, 23, 24]), list([25, 26, 27, 28, 29, 30]),\n",
       "          list([31, 32, 33, 34, 35])]],\n",
       "\n",
       "        [[list([20, 21, 22, 23, 24]), list([25, 26, 27, 28, 29, 30]),\n",
       "          list([31, 32, 33, 34, 35])],\n",
       "         [list([1, 2, 3, 4, 5]), list([6, 7, 8, 9, 10]),\n",
       "          list([11, 12, 13, 14, 15])],\n",
       "         [list([11, 12, 13, 14, 15]), list([1, 2, 3, 4, 5]),\n",
       "          list([6, 7, 8, 9, 10])],\n",
       "         [list([6, 7, 8, 9, 10]), list([11, 12, 13, 14, 15]),\n",
       "          list([1, 2, 3, 4, 5])],\n",
       "         [list([20, 21, 22, 23, 24]), list([25, 26, 27, 28, 29, 30]),\n",
       "          list([31, 32, 33, 34, 35])]]]], dtype=object)"
      ]
     },
     "execution_count": 44,
     "metadata": {},
     "output_type": "execute_result"
    }
   ],
   "source": [
    "x4 = np.array(\n",
    "    \n",
    "[    [\n",
    "## One Dimenssion\n",
    "        [\n",
    "        [\n",
    "            [20,21,22,23,24] , [25,26,27,28,29,30] , [31,32,33,34,35]\n",
    "        ],\n",
    "        [\n",
    "            [1,2,3,4,5], [6,7,8,9,10] , [11, 12, 13, 14, 15]\n",
    "        ],\n",
    "        [\n",
    "           [11, 12, 13, 14, 15] ,  [1,2,3,4,5] , [6,7,8,9,10]\n",
    "        ],\n",
    "        [\n",
    "            [6,7,8,9,10] , [11, 12, 13, 14, 15] ,  [1,2,3,4,5]\n",
    "        ],       \n",
    "        [\n",
    "            [20,21,22,23,24] , [25,26,27,28,29,30] , [31,32,33,34,35]\n",
    "        ]            \n",
    "        ],\n",
    "##End One Dimenssion        \n",
    "\n",
    "## Two Dimenssion        \n",
    "        [       \n",
    "        [\n",
    "            [20,21,22,23,24] , [25,26,27,28,29,30] , [31,32,33,34,35]\n",
    "        ],\n",
    "        [\n",
    "            [1,2,3,4,5], [6,7,8,9,10] , [11, 12, 13, 14, 15]\n",
    "        ],\n",
    "        [\n",
    "           [11, 12, 13, 14, 15] ,  [1,2,3,4,5] , [6,7,8,9,10]\n",
    "        ],\n",
    "        [\n",
    "            [6,7,8,9,10] , [11, 12, 13, 14, 15] ,  [1,2,3,4,5]\n",
    "        ],       \n",
    "        [\n",
    "            [20,21,22,23,24] , [25,26,27,28,29,30] , [31,32,33,34,35]\n",
    "        ]\n",
    "        ],\n",
    "##End of Two Dimenssion        \n",
    "        \n",
    "## Three Dimenssion        \n",
    "        [\n",
    "             [\n",
    "            [20,21,22,23,24] , [25,26,27,28,29,30] , [31,32,33,34,35]\n",
    "        ],\n",
    "        [\n",
    "            [1,2,3,4,5], [6,7,8,9,10] , [11, 12, 13, 14, 15]\n",
    "        ],\n",
    "        [\n",
    "           [11, 12, 13, 14, 15] ,  [1,2,3,4,5] , [6,7,8,9,10]\n",
    "        ],\n",
    "        [\n",
    "            [6,7,8,9,10] , [11, 12, 13, 14, 15] ,  [1,2,3,4,5]\n",
    "        ],       \n",
    "        \n",
    "        [\n",
    "            [20,21,22,23,24] , [25,26,27,28,29,30] , [31,32,33,34,35]\n",
    "        ]\n",
    "            \n",
    "        ],\n",
    "##End of Three Dimenssion           \n",
    "\n",
    "## Fourth Dimenssion        \n",
    "        [\n",
    "             [\n",
    "            [20,21,22,23,24] , [25,26,27,28,29,30] , [31,32,33,34,35]\n",
    "        ],\n",
    "        [\n",
    "            [1,2,3,4,5], [6,7,8,9,10] , [11, 12, 13, 14, 15]\n",
    "        ],\n",
    "        [\n",
    "           [11, 12, 13, 14, 15] ,  [1,2,3,4,5] , [6,7,8,9,10]\n",
    "        ],\n",
    "        [\n",
    "            [6,7,8,9,10] , [11, 12, 13, 14, 15] ,  [1,2,3,4,5]\n",
    "        ],       \n",
    "        \n",
    "        [\n",
    "            [20,21,22,23,24] , [25,26,27,28,29,30] , [31,32,33,34,35]\n",
    "        ]\n",
    "            \n",
    "        ]\n",
    "## End of Fourth\n",
    "        \n",
    "    ],\n",
    "\n",
    "    [\n",
    "## One Dimenssion\n",
    "        [\n",
    "        [\n",
    "            [20,21,22,23,24] , [25,26,27,28,29,30] , [31,32,33,34,35]\n",
    "        ],\n",
    "        [\n",
    "            [1,2,3,4,5], [6,7,8,9,10] , [11, 12, 13, 14, 15]\n",
    "        ],\n",
    "        [\n",
    "           [11, 12, 13, 14, 15] ,  [1,2,3,4,5] , [6,7,8,9,10]\n",
    "        ],\n",
    "        [\n",
    "            [6,7,8,9,10] , [11, 12, 13, 14, 15] ,  [1,2,3,4,5]\n",
    "        ],       \n",
    "        [\n",
    "            [20,21,22,23,24] , [25,26,27,28,29,30] , [31,32,33,34,35]\n",
    "        ]            \n",
    "        ],\n",
    "##End One Dimenssion        \n",
    "\n",
    "## Two Dimenssion        \n",
    "        [       \n",
    "        [\n",
    "            [20,21,22,23,24] , [25,26,27,28,29,30] , [31,32,33,34,35]\n",
    "        ],\n",
    "        [\n",
    "            [1,2,3,4,5], [6,7,8,9,10] , [11, 12, 13, 14, 15]\n",
    "        ],\n",
    "        [\n",
    "           [11, 12, 13, 14, 15] ,  [1,2,3,4,5] , [6,7,8,9,10]\n",
    "        ],\n",
    "        [\n",
    "            [6,7,8,9,10] , [11, 12, 13, 14, 15] ,  [1,2,3,4,5]\n",
    "        ],       \n",
    "        [\n",
    "            [20,21,22,23,24] , [25,26,27,28,29,30] , [31,32,33,34,35]\n",
    "        ]\n",
    "        ],\n",
    "##End of Two Dimenssion        \n",
    "        \n",
    "## Three Dimenssion        \n",
    "        [\n",
    "             [\n",
    "            [20,21,22,23,24] , [25,26,27,28,29,30] , [31,32,33,34,35]\n",
    "        ],\n",
    "        [\n",
    "            [1,2,3,4,5], [6,7,8,9,10] , [11, 12, 13, 14, 15]\n",
    "        ],\n",
    "        [\n",
    "           [11, 12, 13, 14, 15] ,  [1,2,3,4,5] , [6,7,8,9,10]\n",
    "        ],\n",
    "        [\n",
    "            [6,7,8,9,10] , [11, 12, 13, 14, 15] ,  [1,2,3,4,5]\n",
    "        ],       \n",
    "        \n",
    "        [\n",
    "            [20,21,22,23,24] , [25,26,27,28,29,30] , [31,32,33,34,35]\n",
    "        ]\n",
    "            \n",
    "        ],\n",
    "##End of Three Dimenssion           \n",
    "\n",
    "## Fourth Dimenssion        \n",
    "        [\n",
    "             [\n",
    "            [20,21,22,23,24] , [25,26,27,28,29,30] , [31,32,33,34,35]\n",
    "        ],\n",
    "        [\n",
    "            [1,2,3,4,5], [6,7,8,9,10] , [11, 12, 13, 14, 15]\n",
    "        ],\n",
    "        [\n",
    "           [11, 12, 13, 14, 15] ,  [1,2,3,4,5] , [6,7,8,9,10]\n",
    "        ],\n",
    "        [\n",
    "            [6,7,8,9,10] , [11, 12, 13, 14, 15] ,  [1,2,3,4,5]\n",
    "        ],       \n",
    "        \n",
    "        [\n",
    "            [20,21,22,23,24] , [25,26,27,28,29,30] , [31,32,33,34,35]\n",
    "        ]\n",
    "            \n",
    "        ]\n",
    "## End of Fourth\n",
    "        \n",
    "    ],\n",
    "    \n",
    "[\n",
    "## One Dimenssion\n",
    "        [\n",
    "        [\n",
    "            [20,21,22,23,24] , [25,26,27,28,29,30] , [31,32,33,34,35]\n",
    "        ],\n",
    "        [\n",
    "            [1,2,3,4,5], [6,7,8,9,10] , [11, 12, 13, 14, 15]\n",
    "        ],\n",
    "        [\n",
    "           [11, 12, 13, 14, 15] ,  [1,2,3,4,5] , [6,7,8,9,10]\n",
    "        ],\n",
    "        [\n",
    "            [6,7,8,9,10] , [11, 12, 13, 14, 15] ,  [1,2,3,4,5]\n",
    "        ],       \n",
    "        [\n",
    "            [20,21,22,23,24] , [25,26,27,28,29,30] , [31,32,33,34,35]\n",
    "        ]            \n",
    "        ],\n",
    "##End One Dimenssion        \n",
    "\n",
    "## Two Dimenssion        \n",
    "        [       \n",
    "        [\n",
    "            [20,21,22,23,24] , [25,26,27,28,29,30] , [31,32,33,34,35]\n",
    "        ],\n",
    "        [\n",
    "            [1,2,3,4,5], [6,7,8,9,10] , [11, 12, 13, 14, 15]\n",
    "        ],\n",
    "        [\n",
    "           [11, 12, 13, 14, 15] ,  [1,2,3,4,5] , [6,7,8,9,10]\n",
    "        ],\n",
    "        [\n",
    "            [6,7,8,9,10] , [11, 12, 13, 14, 15] ,  [1,2,3,4,5]\n",
    "        ],       \n",
    "        [\n",
    "            [20,21,22,23,24] , [25,26,27,28,29,30] , [31,32,33,34,35]\n",
    "        ]\n",
    "        ],\n",
    "##End of Two Dimenssion        \n",
    "        \n",
    "## Three Dimenssion        \n",
    "        [\n",
    "             [\n",
    "            [20,21,22,23,24] , [25,26,27,28,29,30] , [31,32,33,34,35]\n",
    "        ],\n",
    "        [\n",
    "            [1,2,3,4,5], [6,7,8,9,10] , [11, 12, 13, 14, 15]\n",
    "        ],\n",
    "        [\n",
    "           [11, 12, 13, 14, 15] ,  [1,2,3,4,5] , [6,7,8,9,10]\n",
    "        ],\n",
    "        [\n",
    "            [6,7,8,9,10] , [11, 12, 13, 14, 15] ,  [1,2,3,4,5]\n",
    "        ],       \n",
    "        \n",
    "        [\n",
    "            [20,21,22,23,24] , [25,26,27,28,29,30] , [31,32,33,34,35]\n",
    "        ]\n",
    "            \n",
    "        ],\n",
    "##End of Three Dimenssion           \n",
    "\n",
    "## Fourth Dimenssion        \n",
    "        [\n",
    "             [\n",
    "            [20,21,22,23,24] , [25,26,27,28,29,30] , [31,32,33,34,35]\n",
    "        ],\n",
    "        [\n",
    "            [1,2,3,4,5], [6,7,8,9,10] , [11, 12, 13, 14, 15]\n",
    "        ],\n",
    "        [\n",
    "           [11, 12, 13, 14, 15] ,  [1,2,3,4,5] , [6,7,8,9,10]\n",
    "        ],\n",
    "        [\n",
    "            [6,7,8,9,10] , [11, 12, 13, 14, 15] ,  [1,2,3,4,5]\n",
    "        ],       \n",
    "        \n",
    "        [\n",
    "            [20,21,22,23,24] , [25,26,27,28,29,30] , [31,32,33,34,35]\n",
    "        ]\n",
    "            \n",
    "        ]\n",
    "## End of Fourth\n",
    "        \n",
    "    ],\n",
    "    \n",
    "[\n",
    "## One Dimenssion\n",
    "        [\n",
    "        [\n",
    "            [20,21,22,23,24] , [25,26,27,28,29,30] , [31,32,33,34,35]\n",
    "        ],\n",
    "        [\n",
    "            [1,2,3,4,5], [6,7,8,9,10] , [11, 12, 13, 14, 15]\n",
    "        ],\n",
    "        [\n",
    "           [11, 12, 13, 14, 15] ,  [1,2,3,4,5] , [6,7,8,9,10]\n",
    "        ],\n",
    "        [\n",
    "            [6,7,8,9,10] , [11, 12, 13, 14, 15] ,  [1,2,3,4,5]\n",
    "        ],       \n",
    "        [\n",
    "            [20,21,22,23,24] , [25,26,27,28,29,30] , [31,32,33,34,35]\n",
    "        ]            \n",
    "        ],\n",
    "##End One Dimenssion        \n",
    "\n",
    "## Two Dimenssion        \n",
    "        [       \n",
    "        [\n",
    "            [20,21,22,23,24] , [25,26,27,28,29,30] , [31,32,33,34,35]\n",
    "        ],\n",
    "        [\n",
    "            [1,2,3,4,5], [6,7,8,9,10] , [11, 12, 13, 14, 15]\n",
    "        ],\n",
    "        [\n",
    "           [11, 12, 13, 14, 15] ,  [1,2,3,4,5] , [6,7,8,9,10]\n",
    "        ],\n",
    "        [\n",
    "            [6,7,8,9,10] , [11, 12, 13, 14, 15] ,  [1,2,3,4,5]\n",
    "        ],       \n",
    "        [\n",
    "            [20,21,22,23,24] , [25,26,27,28,29,30] , [31,32,33,34,35]\n",
    "        ]\n",
    "        ],\n",
    "##End of Two Dimenssion        \n",
    "        \n",
    "## Three Dimenssion        \n",
    "        [\n",
    "             [\n",
    "            [20,21,22,23,24] , [25,26,27,28,29,30] , [31,32,33,34,35]\n",
    "        ],\n",
    "        [\n",
    "            [1,2,3,4,5], [6,7,8,9,10] , [11, 12, 13, 14, 15]\n",
    "        ],\n",
    "        [\n",
    "           [11, 12, 13, 14, 15] ,  [1,2,3,4,5] , [6,7,8,9,10]\n",
    "        ],\n",
    "        [\n",
    "            [6,7,8,9,10] , [11, 12, 13, 14, 15] ,  [1,2,3,4,5]\n",
    "        ],       \n",
    "        \n",
    "        [\n",
    "            [20,21,22,23,24] , [25,26,27,28,29,30] , [31,32,33,34,35]\n",
    "        ]\n",
    "            \n",
    "        ],\n",
    "##End of Three Dimenssion           \n",
    "\n",
    "## Fourth Dimenssion        \n",
    "        [\n",
    "             [\n",
    "            [20,21,22,23,24] , [25,26,27,28,29,30] , [31,32,33,34,35]\n",
    "        ],\n",
    "        [\n",
    "            [1,2,3,4,5], [6,7,8,9,10] , [11, 12, 13, 14, 15]\n",
    "        ],\n",
    "        [\n",
    "           [11, 12, 13, 14, 15] ,  [1,2,3,4,5] , [6,7,8,9,10]\n",
    "        ],\n",
    "        [\n",
    "            [6,7,8,9,10] , [11, 12, 13, 14, 15] ,  [1,2,3,4,5]\n",
    "        ],       \n",
    "        \n",
    "        [\n",
    "            [20,21,22,23,24] , [25,26,27,28,29,30] , [31,32,33,34,35]\n",
    "        ]\n",
    "            \n",
    "        ]\n",
    "## End of Fourth\n",
    "        \n",
    "    ]   \n",
    "    \n",
    "    ]\n",
    ")\n",
    "\n",
    "x4"
   ]
  },
  {
   "cell_type": "code",
   "execution_count": 45,
   "metadata": {},
   "outputs": [
    {
     "name": "stdout",
     "output_type": "stream",
     "text": [
      "Dimensions: 4\n",
      "Shape: (4, 4, 5, 3)\n",
      "Size[no of elements in array] :240\n",
      "Memory Consumption in Bytes(dtype*size): 1920\n"
     ]
    }
   ],
   "source": [
    "print('Dimensions: {0}\\nShape: {1}\\nSize[no of elements in array] :{2}\\nMemory Consumption in Bytes(dtype*size): {3}'.format(x4.ndim,x4.shape,x4.size,x4.nbytes))"
   ]
  },
  {
   "cell_type": "code",
   "execution_count": 46,
   "metadata": {},
   "outputs": [
    {
     "data": {
      "text/plain": [
       "7"
      ]
     },
     "execution_count": 46,
     "metadata": {},
     "output_type": "execute_result"
    }
   ],
   "source": [
    "# To reach an element inside x4\n",
    "x4[1,1,1,1][1]"
   ]
  },
  {
   "cell_type": "code",
   "execution_count": null,
   "metadata": {},
   "outputs": [],
   "source": []
  }
 ],
 "metadata": {
  "kernelspec": {
   "display_name": "Python 3",
   "language": "python",
   "name": "python3"
  },
  "language_info": {
   "codemirror_mode": {
    "name": "ipython",
    "version": 3
   },
   "file_extension": ".py",
   "mimetype": "text/x-python",
   "name": "python",
   "nbconvert_exporter": "python",
   "pygments_lexer": "ipython3",
   "version": "3.7.4"
  }
 },
 "nbformat": 4,
 "nbformat_minor": 4
}
