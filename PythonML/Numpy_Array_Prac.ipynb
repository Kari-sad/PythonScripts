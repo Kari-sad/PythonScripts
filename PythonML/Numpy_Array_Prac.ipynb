{
 "cells": [
  {
   "cell_type": "code",
   "execution_count": 1,
   "metadata": {},
   "outputs": [],
   "source": [
    "import numpy as np"
   ]
  },
  {
   "cell_type": "markdown",
   "metadata": {},
   "source": [
    "# NumPy Constants"
   ]
  },
  {
   "cell_type": "code",
   "execution_count": 2,
   "metadata": {},
   "outputs": [
    {
     "name": "stdout",
     "output_type": "stream",
     "text": [
      "Inifinity (neg,pos): (-inf,inf)\n",
      "Zero (neg,pos): (-0.0,0.0)\n",
      "Pi: 3.141592653589793\n",
      "Euler Gamma: 0.5772156649015329\n",
      "Epsilon e: 2.718281828459045\n",
      "NotANumber: nan\n"
     ]
    }
   ],
   "source": [
    "print('Inifinity (neg,pos): ({0},{1})'.format(np.NINF,np.inf))\n",
    "print('Zero (neg,pos): ({0},{1})'.format(np.NZERO,np.PZERO))\n",
    "print('Pi: {0}\\nEuler Gamma: {1}\\nEpsilon e: {2}'.format(np.pi,np.euler_gamma,np.e))\n",
    "print('NotANumber: {0}'.format(np.nan))"
   ]
  },
  {
   "cell_type": "markdown",
   "metadata": {},
   "source": [
    "# Array: A collection of similar data types"
   ]
  },
  {
   "cell_type": "code",
   "execution_count": 3,
   "metadata": {},
   "outputs": [
    {
     "data": {
      "text/plain": [
       "array([[0, 0, 0],\n",
       "       [0, 0, 0],\n",
       "       [0, 0, 3]], dtype=uint16)"
      ]
     },
     "execution_count": 3,
     "metadata": {},
     "output_type": "execute_result"
    }
   ],
   "source": [
    "## Create an N dimensional array with random values\n",
    "ax = np.empty([3,3], np.uint16)\n",
    "ax"
   ]
  },
  {
   "cell_type": "code",
   "execution_count": 4,
   "metadata": {},
   "outputs": [
    {
     "data": {
      "text/plain": [
       "array([[[0.73431092, 0.69454973, 0.97161082],\n",
       "        [0.55261368, 0.34743391, 0.6567429 ],\n",
       "        [0.93888425, 0.98814134, 0.71430311]],\n",
       "\n",
       "       [[0.16426065, 0.80144068, 0.92779179],\n",
       "        [0.15948604, 0.80363089, 0.22510073],\n",
       "        [0.25949142, 0.14746113, 0.44482087]],\n",
       "\n",
       "       [[0.00735536, 0.39277005, 0.98375175],\n",
       "        [0.52578463, 0.69002365, 0.19788485],\n",
       "        [0.00498003, 0.07873758, 0.64750434]]])"
      ]
     },
     "execution_count": 4,
     "metadata": {},
     "output_type": "execute_result"
    }
   ],
   "source": [
    "# To generate a desired array with random numbers less than 1 used if noise must be introduced\n",
    "randArr = np.random.rand(3,3,3)\n",
    "randArr"
   ]
  },
  {
   "cell_type": "code",
   "execution_count": 5,
   "metadata": {},
   "outputs": [
    {
     "name": "stdout",
     "output_type": "stream",
     "text": [
      "size: 27\n",
      "shape: (3, 3, 3)\n"
     ]
    }
   ],
   "source": [
    "print('size: {0}\\nshape: {1}'.format(randArr.size,randArr.shape))"
   ]
  },
  {
   "cell_type": "code",
   "execution_count": 6,
   "metadata": {},
   "outputs": [
    {
     "data": {
      "text/plain": [
       "array([[1, 0, 0, 0, 0],\n",
       "       [0, 1, 0, 0, 0],\n",
       "       [0, 0, 1, 0, 0],\n",
       "       [0, 0, 0, 1, 0],\n",
       "       [0, 0, 0, 0, 1]], dtype=uint8)"
      ]
     },
     "execution_count": 6,
     "metadata": {},
     "output_type": "execute_result"
    }
   ],
   "source": [
    "## Create an array with the diagnol as 1\n",
    "bx = np.eye(5,dtype=np.uint8) \n",
    "bx\n",
    "## Similar to the below\n",
    "# bx = np.identity(5,dtype=np.uint8) \n",
    "# bx"
   ]
  },
  {
   "cell_type": "code",
   "execution_count": 7,
   "metadata": {},
   "outputs": [
    {
     "data": {
      "text/plain": [
       "array([[0, 1, 0, 0, 0],\n",
       "       [0, 0, 1, 0, 0],\n",
       "       [0, 0, 0, 1, 0],\n",
       "       [0, 0, 0, 0, 1],\n",
       "       [0, 0, 0, 0, 0]], dtype=uint8)"
      ]
     },
     "execution_count": 7,
     "metadata": {},
     "output_type": "execute_result"
    }
   ],
   "source": [
    "#To change the position of 1\n",
    "bx1 = np.eye(5, dtype=np.uint8 , k=1)\n",
    "bx1"
   ]
  },
  {
   "cell_type": "code",
   "execution_count": 8,
   "metadata": {},
   "outputs": [
    {
     "data": {
      "text/plain": [
       "array([[0, 0, 0, 0, 0],\n",
       "       [1, 0, 0, 0, 0],\n",
       "       [0, 1, 0, 0, 0],\n",
       "       [0, 0, 1, 0, 0],\n",
       "       [0, 0, 0, 1, 0]], dtype=uint8)"
      ]
     },
     "execution_count": 8,
     "metadata": {},
     "output_type": "execute_result"
    }
   ],
   "source": [
    "#To change the position of 1 down\n",
    "bx1a = np.eye(5, dtype=np.uint8 , k=-1)\n",
    "bx1a"
   ]
  },
  {
   "cell_type": "code",
   "execution_count": 9,
   "metadata": {},
   "outputs": [
    {
     "data": {
      "text/plain": [
       "array([[[1., 1., 1., 1., 1.],\n",
       "        [1., 1., 1., 1., 1.],\n",
       "        [1., 1., 1., 1., 1.]],\n",
       "\n",
       "       [[1., 1., 1., 1., 1.],\n",
       "        [1., 1., 1., 1., 1.],\n",
       "        [1., 1., 1., 1., 1.]],\n",
       "\n",
       "       [[1., 1., 1., 1., 1.],\n",
       "        [1., 1., 1., 1., 1.],\n",
       "        [1., 1., 1., 1., 1.]]])"
      ]
     },
     "execution_count": 9,
     "metadata": {},
     "output_type": "execute_result"
    }
   ],
   "source": [
    "## To create N dimentional matrix with elements as 1\n",
    "all1 = np.ones((3,3,5))\n",
    "all1"
   ]
  },
  {
   "cell_type": "code",
   "execution_count": 10,
   "metadata": {},
   "outputs": [
    {
     "data": {
      "text/plain": [
       "array([[[0., 0., 0., 0., 0.],\n",
       "        [0., 0., 0., 0., 0.],\n",
       "        [0., 0., 0., 0., 0.]],\n",
       "\n",
       "       [[0., 0., 0., 0., 0.],\n",
       "        [0., 0., 0., 0., 0.],\n",
       "        [0., 0., 0., 0., 0.]],\n",
       "\n",
       "       [[0., 0., 0., 0., 0.],\n",
       "        [0., 0., 0., 0., 0.],\n",
       "        [0., 0., 0., 0., 0.]]])"
      ]
     },
     "execution_count": 10,
     "metadata": {},
     "output_type": "execute_result"
    }
   ],
   "source": [
    "## To create N dimentional matrix with elements as 0\n",
    "all0= np.zeros((3,3,5))\n",
    "all0"
   ]
  },
  {
   "cell_type": "code",
   "execution_count": 11,
   "metadata": {
    "scrolled": true
   },
   "outputs": [
    {
     "data": {
      "text/plain": [
       "array([[[7, 7, 7],\n",
       "        [7, 7, 7],\n",
       "        [7, 7, 7]],\n",
       "\n",
       "       [[7, 7, 7],\n",
       "        [7, 7, 7],\n",
       "        [7, 7, 7]],\n",
       "\n",
       "       [[7, 7, 7],\n",
       "        [7, 7, 7],\n",
       "        [7, 7, 7]]], dtype=uint8)"
      ]
     },
     "execution_count": 11,
     "metadata": {},
     "output_type": "execute_result"
    }
   ],
   "source": [
    "## To create N dimentional matrix with desired elements\n",
    "allD = np.full((3,3,3),dtype=np.uint8,fill_value=7)\n",
    "allD"
   ]
  },
  {
   "cell_type": "code",
   "execution_count": 12,
   "metadata": {},
   "outputs": [
    {
     "data": {
      "text/plain": [
       "array([[1., 0., 0., 0., 0.],\n",
       "       [1., 1., 0., 0., 0.],\n",
       "       [1., 1., 1., 0., 0.],\n",
       "       [1., 1., 1., 1., 0.],\n",
       "       [1., 1., 1., 1., 1.]])"
      ]
     },
     "execution_count": 12,
     "metadata": {},
     "output_type": "execute_result"
    }
   ],
   "source": [
    "## Create a Triangular Matrix\n",
    "tri1 = np.tri(5,5,k=0)\n",
    "tri1"
   ]
  },
  {
   "cell_type": "code",
   "execution_count": 13,
   "metadata": {},
   "outputs": [
    {
     "data": {
      "text/plain": [
       "array([[0, 0, 0],\n",
       "       [0, 0, 0],\n",
       "       [0, 0, 3]], dtype=uint16)"
      ]
     },
     "execution_count": 13,
     "metadata": {},
     "output_type": "execute_result"
    }
   ],
   "source": [
    "## Upper Triangle\n",
    "ut = np.triu(ax,k=0)\n",
    "ut"
   ]
  },
  {
   "cell_type": "code",
   "execution_count": 14,
   "metadata": {},
   "outputs": [
    {
     "data": {
      "text/plain": [
       "array([[0, 0, 0],\n",
       "       [0, 0, 0],\n",
       "       [0, 0, 3]], dtype=uint16)"
      ]
     },
     "execution_count": 14,
     "metadata": {},
     "output_type": "execute_result"
    }
   ],
   "source": [
    "## Lower Triangle\n",
    "lt = np.tril(ax,k=0)\n",
    "lt"
   ]
  },
  {
   "cell_type": "markdown",
   "metadata": {},
   "source": [
    "Creation of custom arrays"
   ]
  },
  {
   "cell_type": "code",
   "execution_count": 15,
   "metadata": {},
   "outputs": [
    {
     "data": {
      "text/plain": [
       "array([1, 2, 3, 4, 5, 6], dtype=int8)"
      ]
     },
     "execution_count": 15,
     "metadata": {},
     "output_type": "execute_result"
    }
   ],
   "source": [
    "# Creating a unidirectional array with int16 datatype\n",
    "x = np.array([1,'2',3,4,5, 6] , np.int8)\n",
    "x # is equalent to x.view()"
   ]
  },
  {
   "cell_type": "code",
   "execution_count": 16,
   "metadata": {},
   "outputs": [
    {
     "name": "stdout",
     "output_type": "stream",
     "text": [
      "2\n",
      "int8\n"
     ]
    }
   ],
   "source": [
    "print(x[1])\n",
    "print(x[1].dtype)"
   ]
  },
  {
   "cell_type": "code",
   "execution_count": 17,
   "metadata": {},
   "outputs": [
    {
     "data": {
      "text/plain": [
       "1"
      ]
     },
     "execution_count": 17,
     "metadata": {},
     "output_type": "execute_result"
    }
   ],
   "source": [
    "## shows how many dimensions are there  in the array\n",
    "x.ndim"
   ]
  },
  {
   "cell_type": "code",
   "execution_count": 18,
   "metadata": {},
   "outputs": [
    {
     "data": {
      "text/plain": [
       "array([1, 2, 3, 4, 5, 6], dtype=int8)"
      ]
     },
     "execution_count": 18,
     "metadata": {},
     "output_type": "execute_result"
    }
   ],
   "source": [
    "## Transpose of the matrix\n",
    "x.T"
   ]
  },
  {
   "cell_type": "code",
   "execution_count": 19,
   "metadata": {},
   "outputs": [
    {
     "data": {
      "text/plain": [
       "array([[ 1,  2,  3,  4,  5],\n",
       "       [ 6,  7,  8,  9, 10]], dtype=int8)"
      ]
     },
     "execution_count": 19,
     "metadata": {},
     "output_type": "execute_result"
    }
   ],
   "source": [
    "x2 = np.array([[1,2,3,4,5], [6,7,8,9,10]], np.int8)\n",
    "x2"
   ]
  },
  {
   "cell_type": "code",
   "execution_count": 20,
   "metadata": {},
   "outputs": [
    {
     "data": {
      "text/plain": [
       "2"
      ]
     },
     "execution_count": 20,
     "metadata": {},
     "output_type": "execute_result"
    }
   ],
   "source": [
    "x2.ndim"
   ]
  },
  {
   "cell_type": "code",
   "execution_count": 21,
   "metadata": {},
   "outputs": [
    {
     "data": {
      "text/plain": [
       "dtype('int8')"
      ]
     },
     "execution_count": 21,
     "metadata": {},
     "output_type": "execute_result"
    }
   ],
   "source": [
    "# The data type of internal elements of the array\n",
    "x2.dtype"
   ]
  },
  {
   "cell_type": "markdown",
   "metadata": {},
   "source": [
    "The number of '[]' mentioned inside the array() method will decide the dimensions of the array, i.e for \n",
    "n number of dimensions use nnumber of []"
   ]
  },
  {
   "cell_type": "code",
   "execution_count": 22,
   "metadata": {},
   "outputs": [
    {
     "data": {
      "text/plain": [
       "array([[ 1,  2,  3,  4,  5],\n",
       "       [ 6,  7,  8,  9, 10]], dtype=int8)"
      ]
     },
     "execution_count": 22,
     "metadata": {},
     "output_type": "execute_result"
    }
   ],
   "source": [
    "x2.view()"
   ]
  },
  {
   "cell_type": "code",
   "execution_count": 23,
   "metadata": {},
   "outputs": [
    {
     "data": {
      "text/plain": [
       "array([[ 1,  6],\n",
       "       [ 2,  7],\n",
       "       [ 3,  8],\n",
       "       [ 4,  9],\n",
       "       [ 5, 10]], dtype=int8)"
      ]
     },
     "execution_count": 23,
     "metadata": {},
     "output_type": "execute_result"
    }
   ],
   "source": [
    "x2.T"
   ]
  },
  {
   "cell_type": "markdown",
   "metadata": {},
   "source": [
    "access values with nameofArray[ROWS,COLLUMNS]"
   ]
  },
  {
   "cell_type": "code",
   "execution_count": 24,
   "metadata": {},
   "outputs": [
    {
     "name": "stdout",
     "output_type": "stream",
     "text": [
      "First row of the array:  [1 2 3 4 5]\n",
      "Second row of the array: [ 6  7  8  9 10]\n",
      "its type is <class 'numpy.ndarray'>\n"
     ]
    }
   ],
   "source": [
    "# To access the elements of the array, \n",
    "print('First row of the array:  {0}\\nSecond row of the array: {1}\\nits type is {2}'.format(x2[0],x2[1],type(x2[0])))"
   ]
  },
  {
   "cell_type": "code",
   "execution_count": 25,
   "metadata": {},
   "outputs": [
    {
     "name": "stdout",
     "output_type": "stream",
     "text": [
      "Access Method 1 x2[1,3]:  9\n",
      "Access Method 2 x2[1][3]: 9\n",
      "Access Method 3 x2[[1],[3]]: [9]\n",
      "Access Type 1:  <class 'numpy.int8'>\n",
      "Access Type 2: <class 'numpy.int8'>\n",
      "Access Type 3: <class 'numpy.ndarray'>\n"
     ]
    }
   ],
   "source": [
    "## Printing the forth element of second row.\n",
    "print('Access Method 1 x2[1,3]:  {0}\\nAccess Method 2 x2[1][3]: {1}\\nAccess Method 3 x2[[1],[3]]: {2}'.format(x2[1,3],x2[1][3],x2[[1],[3]]))\n",
    "print('Access Type 1:  {0}\\nAccess Type 2: {1}\\nAccess Type 3: {2}'.format(type(x2[1,3]) , type(x2[1][3]) , type(x2[[1],[3]]) ))"
   ]
  },
  {
   "cell_type": "markdown",
   "metadata": {},
   "source": [
    "Slicing data from Array Objects"
   ]
  },
  {
   "cell_type": "code",
   "execution_count": 26,
   "metadata": {},
   "outputs": [
    {
     "name": "stdout",
     "output_type": "stream",
     "text": [
      "Access Method 1 x2[1,3]:  9\n",
      "Access Method 2 x2[1][3]: 9\n",
      "Access Method 3 x2[[1],[3]]: [9]\n",
      "Access Type 1:  <class 'numpy.int8'>\n",
      "Access Type 2: <class 'numpy.int8'>\n",
      "Access Type 3: <class 'numpy.ndarray'>\n"
     ]
    }
   ],
   "source": [
    "## Printing the forth element of second row.\n",
    "print('Access Method 1 x2[1,3]:  {0}\\nAccess Method 2 x2[1][3]: {1}\\nAccess Method 3 x2[[1],[3]]: {2}'.format(x2[1,3],x2[1][3],x2[[1],[3]]))\n",
    "print('Access Type 1:  {0}\\nAccess Type 2: {1}\\nAccess Type 3: {2}'.format(type(x2[1,3]) , type(x2[1][3]) , type(x2[[1],[3]]) ))"
   ]
  },
  {
   "cell_type": "code",
   "execution_count": 27,
   "metadata": {},
   "outputs": [
    {
     "data": {
      "text/plain": [
       "array([1, 6], dtype=int8)"
      ]
     },
     "execution_count": 27,
     "metadata": {},
     "output_type": "execute_result"
    }
   ],
   "source": [
    "#to print the  first column of the array\n",
    "x2[:,0]"
   ]
  },
  {
   "cell_type": "code",
   "execution_count": 28,
   "metadata": {},
   "outputs": [
    {
     "data": {
      "text/plain": [
       "array([2, 7], dtype=int8)"
      ]
     },
     "execution_count": 28,
     "metadata": {},
     "output_type": "execute_result"
    }
   ],
   "source": [
    "# Second column\n",
    "x2[:,1]"
   ]
  },
  {
   "cell_type": "code",
   "execution_count": 29,
   "metadata": {},
   "outputs": [
    {
     "data": {
      "text/plain": [
       "array([1, 2, 3, 4, 5], dtype=int8)"
      ]
     },
     "execution_count": 29,
     "metadata": {},
     "output_type": "execute_result"
    }
   ],
   "source": [
    "#To print the entire first row\n",
    "x2[0,:]"
   ]
  },
  {
   "cell_type": "code",
   "execution_count": 30,
   "metadata": {},
   "outputs": [
    {
     "data": {
      "text/plain": [
       "9"
      ]
     },
     "execution_count": 30,
     "metadata": {},
     "output_type": "execute_result"
    }
   ],
   "source": [
    "# To print an element of Second row fourth column\n",
    "x2[1,3]"
   ]
  },
  {
   "cell_type": "code",
   "execution_count": 31,
   "metadata": {},
   "outputs": [
    {
     "data": {
      "text/plain": [
       "array([2, 3, 4], dtype=int8)"
      ]
     },
     "execution_count": 31,
     "metadata": {},
     "output_type": "execute_result"
    }
   ],
   "source": [
    "# To print the elements of first row from second element to fourth element\n",
    "x2[0,1:4]"
   ]
  },
  {
   "cell_type": "code",
   "execution_count": 32,
   "metadata": {},
   "outputs": [
    {
     "data": {
      "text/plain": [
       "array([[2, 3, 4],\n",
       "       [7, 8, 9]], dtype=int8)"
      ]
     },
     "execution_count": 32,
     "metadata": {},
     "output_type": "execute_result"
    }
   ],
   "source": [
    "# To print the elements of array from all the rows but column 2 to 4\n",
    "x2[:,1:4]"
   ]
  },
  {
   "cell_type": "code",
   "execution_count": 33,
   "metadata": {},
   "outputs": [
    {
     "data": {
      "text/plain": [
       "(2, 5)"
      ]
     },
     "execution_count": 33,
     "metadata": {},
     "output_type": "execute_result"
    }
   ],
   "source": [
    "## Shape gives rows,columns value\n",
    "x2.shape"
   ]
  },
  {
   "cell_type": "code",
   "execution_count": 34,
   "metadata": {},
   "outputs": [
    {
     "data": {
      "text/plain": [
       "array([[ 1,  2,  3,  4,  5],\n",
       "       [ 6,  7,  8,  9, 10],\n",
       "       [11, 12, 13, 14, 15]], dtype=int8)"
      ]
     },
     "execution_count": 34,
     "metadata": {},
     "output_type": "execute_result"
    }
   ],
   "source": [
    "xNOT3D = np.array([[1,2,3,4,5], [6,7,8,9,10] , [11, 12, 13, 14, 15]], np.int8)\n",
    "xNOT3D"
   ]
  },
  {
   "cell_type": "code",
   "execution_count": 35,
   "metadata": {},
   "outputs": [
    {
     "name": "stdout",
     "output_type": "stream",
     "text": [
      "Dimensions: 2\n",
      "Shape: (3, 5)\n"
     ]
    }
   ],
   "source": [
    "print('Dimensions: {0}\\nShape: {1}'.format(xNOT3D.ndim,xNOT3D.shape))"
   ]
  },
  {
   "cell_type": "code",
   "execution_count": 36,
   "metadata": {},
   "outputs": [
    {
     "data": {
      "text/plain": [
       "array([[[ 1,  2,  3,  4,  5],\n",
       "        [ 6,  7,  8,  9, 10],\n",
       "        [11, 12, 13, 14, 15]],\n",
       "\n",
       "       [[11, 12, 13, 14, 15],\n",
       "        [ 1,  2,  3,  4,  5],\n",
       "        [ 6,  7,  8,  9, 10]],\n",
       "\n",
       "       [[ 6,  7,  8,  9, 10],\n",
       "        [11, 12, 13, 14, 15],\n",
       "        [ 1,  2,  3,  4,  5]]], dtype=int8)"
      ]
     },
     "execution_count": 36,
     "metadata": {},
     "output_type": "execute_result"
    }
   ],
   "source": [
    "x3 = np.array(\n",
    "    [\n",
    "        [\n",
    "            [1,2,3,4,5], [6,7,8,9,10] , [11, 12, 13, 14, 15] \n",
    "        ],\n",
    "        [\n",
    "           [11, 12, 13, 14, 15] ,  [1,2,3,4,5] , [6,7,8,9,10]\n",
    "        ],\n",
    "        [\n",
    "            [6,7,8,9,10] , [11, 12, 13, 14, 15] ,  [1,2,3,4,5]\n",
    "        ]\n",
    "    ]\n",
    "    , np.int8)\n",
    "x3"
   ]
  },
  {
   "cell_type": "code",
   "execution_count": 37,
   "metadata": {},
   "outputs": [
    {
     "name": "stdout",
     "output_type": "stream",
     "text": [
      "Dimensions: 3\n",
      "Shape: (3, 3, 5)\n"
     ]
    }
   ],
   "source": [
    "print('Dimensions: {0}\\nShape: {1}'.format(x3.ndim,x3.shape))"
   ]
  },
  {
   "cell_type": "code",
   "execution_count": 38,
   "metadata": {
    "scrolled": true
   },
   "outputs": [
    {
     "name": "stdout",
     "output_type": "stream",
     "text": [
      "From Dim 1 x3[0,2,1]: 12\n",
      "From Dim 2 x3[1,0,1]: 12\n",
      "From Dim 3 x3[2,1,1]: 12\n"
     ]
    }
   ],
   "source": [
    "## Print 12 from all the dimensions\n",
    "print('From Dim 1 x3[0,2,1]: {0}\\nFrom Dim 2 x3[1,0,1]: {1}\\nFrom Dim 3 x3[2,1,1]: {2}'.format(x3[0,2,1],x3[1,0,1],x3[2,1,1]))"
   ]
  },
  {
   "cell_type": "code",
   "execution_count": 39,
   "metadata": {},
   "outputs": [
    {
     "data": {
      "text/plain": [
       "array([[ 1,  2,  3],\n",
       "       [ 6,  7,  8],\n",
       "       [11, 12, 13]], dtype=int8)"
      ]
     },
     "execution_count": 39,
     "metadata": {},
     "output_type": "execute_result"
    }
   ],
   "source": [
    "x3[0,:,0:3]"
   ]
  },
  {
   "cell_type": "code",
   "execution_count": 40,
   "metadata": {},
   "outputs": [
    {
     "data": {
      "text/plain": [
       "array([[[ 1,  2,  3],\n",
       "        [ 6,  7,  8],\n",
       "        [11, 12, 13]],\n",
       "\n",
       "       [[11, 12, 13],\n",
       "        [ 1,  2,  3],\n",
       "        [ 6,  7,  8]],\n",
       "\n",
       "       [[ 6,  7,  8],\n",
       "        [11, 12, 13],\n",
       "        [ 1,  2,  3]]], dtype=int8)"
      ]
     },
     "execution_count": 40,
     "metadata": {},
     "output_type": "execute_result"
    }
   ],
   "source": [
    "x3[:,:,0:3]"
   ]
  },
  {
   "cell_type": "code",
   "execution_count": 41,
   "metadata": {},
   "outputs": [
    {
     "data": {
      "text/plain": [
       "array([[[ 2],\n",
       "        [ 7],\n",
       "        [12]],\n",
       "\n",
       "       [[12],\n",
       "        [ 2],\n",
       "        [ 7]],\n",
       "\n",
       "       [[ 7],\n",
       "        [12],\n",
       "        [ 2]]], dtype=int8)"
      ]
     },
     "execution_count": 41,
     "metadata": {},
     "output_type": "execute_result"
    }
   ],
   "source": [
    "x3[:,:,1:2]"
   ]
  },
  {
   "cell_type": "code",
   "execution_count": 42,
   "metadata": {},
   "outputs": [
    {
     "data": {
      "text/plain": [
       "array([[ 7],\n",
       "       [12],\n",
       "       [ 2]], dtype=int8)"
      ]
     },
     "execution_count": 42,
     "metadata": {},
     "output_type": "execute_result"
    }
   ],
   "source": [
    "x3[:,:,1:2][2]"
   ]
  },
  {
   "cell_type": "code",
   "execution_count": 43,
   "metadata": {},
   "outputs": [
    {
     "data": {
      "text/plain": [
       "array([7], dtype=int8)"
      ]
     },
     "execution_count": 43,
     "metadata": {},
     "output_type": "execute_result"
    }
   ],
   "source": [
    "x3[:,:,1:2][2][0]"
   ]
  },
  {
   "cell_type": "code",
   "execution_count": 44,
   "metadata": {},
   "outputs": [
    {
     "data": {
      "text/plain": [
       "array([[[ 1, 11,  6],\n",
       "        [ 6,  1, 11],\n",
       "        [11,  6,  1]],\n",
       "\n",
       "       [[ 2, 12,  7],\n",
       "        [ 7,  2, 12],\n",
       "        [12,  7,  2]],\n",
       "\n",
       "       [[ 3, 13,  8],\n",
       "        [ 8,  3, 13],\n",
       "        [13,  8,  3]],\n",
       "\n",
       "       [[ 4, 14,  9],\n",
       "        [ 9,  4, 14],\n",
       "        [14,  9,  4]],\n",
       "\n",
       "       [[ 5, 15, 10],\n",
       "        [10,  5, 15],\n",
       "        [15, 10,  5]]], dtype=int8)"
      ]
     },
     "execution_count": 44,
     "metadata": {},
     "output_type": "execute_result"
    }
   ],
   "source": [
    "x3.T"
   ]
  },
  {
   "cell_type": "code",
   "execution_count": 45,
   "metadata": {},
   "outputs": [
    {
     "data": {
      "text/plain": [
       "array([[[[list([20, 21, 22, 23, 24]), list([25, 26, 27, 28, 29, 30]),\n",
       "          list([31, 32, 33, 34, 35])],\n",
       "         [list([1, 2, 3, 4, 5]), list([6, 7, 8, 9, 10]),\n",
       "          list([11, 12, 13, 14, 15])],\n",
       "         [list([11, 12, 13, 14, 15]), list([1, 2, 3, 4, 5]),\n",
       "          list([6, 7, 8, 9, 10])],\n",
       "         [list([6, 7, 8, 9, 10]), list([11, 12, 13, 14, 15]),\n",
       "          list([1, 2, 3, 4, 5])],\n",
       "         [list([20, 21, 22, 23, 24]), list([25, 26, 27, 28, 29, 30]),\n",
       "          list([31, 32, 33, 34, 35])]],\n",
       "\n",
       "        [[list([20, 21, 22, 23, 24]), list([25, 26, 27, 28, 29, 30]),\n",
       "          list([31, 32, 33, 34, 35])],\n",
       "         [list([1, 2, 3, 4, 5]), list([6, 7, 8, 9, 10]),\n",
       "          list([11, 12, 13, 14, 15])],\n",
       "         [list([11, 12, 13, 14, 15]), list([1, 2, 3, 4, 5]),\n",
       "          list([6, 7, 8, 9, 10])],\n",
       "         [list([6, 7, 8, 9, 10]), list([11, 12, 13, 14, 15]),\n",
       "          list([1, 2, 3, 4, 5])],\n",
       "         [list([20, 21, 22, 23, 24]), list([25, 26, 27, 28, 29, 30]),\n",
       "          list([31, 32, 33, 34, 35])]],\n",
       "\n",
       "        [[list([20, 21, 22, 23, 24]), list([25, 26, 27, 28, 29, 30]),\n",
       "          list([31, 32, 33, 34, 35])],\n",
       "         [list([1, 2, 3, 4, 5]), list([6, 7, 8, 9, 10]),\n",
       "          list([11, 12, 13, 14, 15])],\n",
       "         [list([11, 12, 13, 14, 15]), list([1, 2, 3, 4, 5]),\n",
       "          list([6, 7, 8, 9, 10])],\n",
       "         [list([6, 7, 8, 9, 10]), list([11, 12, 13, 14, 15]),\n",
       "          list([1, 2, 3, 4, 5])],\n",
       "         [list([20, 21, 22, 23, 24]), list([25, 26, 27, 28, 29, 30]),\n",
       "          list([31, 32, 33, 34, 35])]],\n",
       "\n",
       "        [[list([20, 21, 22, 23, 24]), list([25, 26, 27, 28, 29, 30]),\n",
       "          list([31, 32, 33, 34, 35])],\n",
       "         [list([1, 2, 3, 4, 5]), list([6, 7, 8, 9, 10]),\n",
       "          list([11, 12, 13, 14, 15])],\n",
       "         [list([11, 12, 13, 14, 15]), list([1, 2, 3, 4, 5]),\n",
       "          list([6, 7, 8, 9, 10])],\n",
       "         [list([6, 7, 8, 9, 10]), list([11, 12, 13, 14, 15]),\n",
       "          list([1, 2, 3, 4, 5])],\n",
       "         [list([20, 21, 22, 23, 24]), list([25, 26, 27, 28, 29, 30]),\n",
       "          list([31, 32, 33, 34, 35])]]],\n",
       "\n",
       "\n",
       "       [[[list([20, 21, 22, 23, 24]), list([25, 26, 27, 28, 29, 30]),\n",
       "          list([31, 32, 33, 34, 35])],\n",
       "         [list([1, 2, 3, 4, 5]), list([6, 7, 8, 9, 10]),\n",
       "          list([11, 12, 13, 14, 15])],\n",
       "         [list([11, 12, 13, 14, 15]), list([1, 2, 3, 4, 5]),\n",
       "          list([6, 7, 8, 9, 10])],\n",
       "         [list([6, 7, 8, 9, 10]), list([11, 12, 13, 14, 15]),\n",
       "          list([1, 2, 3, 4, 5])],\n",
       "         [list([20, 21, 22, 23, 24]), list([25, 26, 27, 28, 29, 30]),\n",
       "          list([31, 32, 33, 34, 35])]],\n",
       "\n",
       "        [[list([20, 21, 22, 23, 24]), list([25, 26, 27, 28, 29, 30]),\n",
       "          list([31, 32, 33, 34, 35])],\n",
       "         [list([1, 2, 3, 4, 5]), list([6, 7, 8, 9, 10]),\n",
       "          list([11, 12, 13, 14, 15])],\n",
       "         [list([11, 12, 13, 14, 15]), list([1, 2, 3, 4, 5]),\n",
       "          list([6, 7, 8, 9, 10])],\n",
       "         [list([6, 7, 8, 9, 10]), list([11, 12, 13, 14, 15]),\n",
       "          list([1, 2, 3, 4, 5])],\n",
       "         [list([20, 21, 22, 23, 24]), list([25, 26, 27, 28, 29, 30]),\n",
       "          list([31, 32, 33, 34, 35])]],\n",
       "\n",
       "        [[list([20, 21, 22, 23, 24]), list([25, 26, 27, 28, 29, 30]),\n",
       "          list([31, 32, 33, 34, 35])],\n",
       "         [list([1, 2, 3, 4, 5]), list([6, 7, 8, 9, 10]),\n",
       "          list([11, 12, 13, 14, 15])],\n",
       "         [list([11, 12, 13, 14, 15]), list([1, 2, 3, 4, 5]),\n",
       "          list([6, 7, 8, 9, 10])],\n",
       "         [list([6, 7, 8, 9, 10]), list([11, 12, 13, 14, 15]),\n",
       "          list([1, 2, 3, 4, 5])],\n",
       "         [list([20, 21, 22, 23, 24]), list([25, 26, 27, 28, 29, 30]),\n",
       "          list([31, 32, 33, 34, 35])]],\n",
       "\n",
       "        [[list([20, 21, 22, 23, 24]), list([25, 26, 27, 28, 29, 30]),\n",
       "          list([31, 32, 33, 34, 35])],\n",
       "         [list([1, 2, 3, 4, 5]), list([6, 7, 8, 9, 10]),\n",
       "          list([11, 12, 13, 14, 15])],\n",
       "         [list([11, 12, 13, 14, 15]), list([1, 2, 3, 4, 5]),\n",
       "          list([6, 7, 8, 9, 10])],\n",
       "         [list([6, 7, 8, 9, 10]), list([11, 12, 13, 14, 15]),\n",
       "          list([1, 2, 3, 4, 5])],\n",
       "         [list([20, 21, 22, 23, 24]), list([25, 26, 27, 28, 29, 30]),\n",
       "          list([31, 32, 33, 34, 35])]]],\n",
       "\n",
       "\n",
       "       [[[list([20, 21, 22, 23, 24]), list([25, 26, 27, 28, 29, 30]),\n",
       "          list([31, 32, 33, 34, 35])],\n",
       "         [list([1, 2, 3, 4, 5]), list([6, 7, 8, 9, 10]),\n",
       "          list([11, 12, 13, 14, 15])],\n",
       "         [list([11, 12, 13, 14, 15]), list([1, 2, 3, 4, 5]),\n",
       "          list([6, 7, 8, 9, 10])],\n",
       "         [list([6, 7, 8, 9, 10]), list([11, 12, 13, 14, 15]),\n",
       "          list([1, 2, 3, 4, 5])],\n",
       "         [list([20, 21, 22, 23, 24]), list([25, 26, 27, 28, 29, 30]),\n",
       "          list([31, 32, 33, 34, 35])]],\n",
       "\n",
       "        [[list([20, 21, 22, 23, 24]), list([25, 26, 27, 28, 29, 30]),\n",
       "          list([31, 32, 33, 34, 35])],\n",
       "         [list([1, 2, 3, 4, 5]), list([6, 7, 8, 9, 10]),\n",
       "          list([11, 12, 13, 14, 15])],\n",
       "         [list([11, 12, 13, 14, 15]), list([1, 2, 3, 4, 5]),\n",
       "          list([6, 7, 8, 9, 10])],\n",
       "         [list([6, 7, 8, 9, 10]), list([11, 12, 13, 14, 15]),\n",
       "          list([1, 2, 3, 4, 5])],\n",
       "         [list([20, 21, 22, 23, 24]), list([25, 26, 27, 28, 29, 30]),\n",
       "          list([31, 32, 33, 34, 35])]],\n",
       "\n",
       "        [[list([20, 21, 22, 23, 24]), list([25, 26, 27, 28, 29, 30]),\n",
       "          list([31, 32, 33, 34, 35])],\n",
       "         [list([1, 2, 3, 4, 5]), list([6, 7, 8, 9, 10]),\n",
       "          list([11, 12, 13, 14, 15])],\n",
       "         [list([11, 12, 13, 14, 15]), list([1, 2, 3, 4, 5]),\n",
       "          list([6, 7, 8, 9, 10])],\n",
       "         [list([6, 7, 8, 9, 10]), list([11, 12, 13, 14, 15]),\n",
       "          list([1, 2, 3, 4, 5])],\n",
       "         [list([20, 21, 22, 23, 24]), list([25, 26, 27, 28, 29, 30]),\n",
       "          list([31, 32, 33, 34, 35])]],\n",
       "\n",
       "        [[list([20, 21, 22, 23, 24]), list([25, 26, 27, 28, 29, 30]),\n",
       "          list([31, 32, 33, 34, 35])],\n",
       "         [list([1, 2, 3, 4, 5]), list([6, 7, 8, 9, 10]),\n",
       "          list([11, 12, 13, 14, 15])],\n",
       "         [list([11, 12, 13, 14, 15]), list([1, 2, 3, 4, 5]),\n",
       "          list([6, 7, 8, 9, 10])],\n",
       "         [list([6, 7, 8, 9, 10]), list([11, 12, 13, 14, 15]),\n",
       "          list([1, 2, 3, 4, 5])],\n",
       "         [list([20, 21, 22, 23, 24]), list([25, 26, 27, 28, 29, 30]),\n",
       "          list([31, 32, 33, 34, 35])]]],\n",
       "\n",
       "\n",
       "       [[[list([20, 21, 22, 23, 24]), list([25, 26, 27, 28, 29, 30]),\n",
       "          list([31, 32, 33, 34, 35])],\n",
       "         [list([1, 2, 3, 4, 5]), list([6, 7, 8, 9, 10]),\n",
       "          list([11, 12, 13, 14, 15])],\n",
       "         [list([11, 12, 13, 14, 15]), list([1, 2, 3, 4, 5]),\n",
       "          list([6, 7, 8, 9, 10])],\n",
       "         [list([6, 7, 8, 9, 10]), list([11, 12, 13, 14, 15]),\n",
       "          list([1, 2, 3, 4, 5])],\n",
       "         [list([20, 21, 22, 23, 24]), list([25, 26, 27, 28, 29, 30]),\n",
       "          list([31, 32, 33, 34, 35])]],\n",
       "\n",
       "        [[list([20, 21, 22, 23, 24]), list([25, 26, 27, 28, 29, 30]),\n",
       "          list([31, 32, 33, 34, 35])],\n",
       "         [list([1, 2, 3, 4, 5]), list([6, 7, 8, 9, 10]),\n",
       "          list([11, 12, 13, 14, 15])],\n",
       "         [list([11, 12, 13, 14, 15]), list([1, 2, 3, 4, 5]),\n",
       "          list([6, 7, 8, 9, 10])],\n",
       "         [list([6, 7, 8, 9, 10]), list([11, 12, 13, 14, 15]),\n",
       "          list([1, 2, 3, 4, 5])],\n",
       "         [list([20, 21, 22, 23, 24]), list([25, 26, 27, 28, 29, 30]),\n",
       "          list([31, 32, 33, 34, 35])]],\n",
       "\n",
       "        [[list([20, 21, 22, 23, 24]), list([25, 26, 27, 28, 29, 30]),\n",
       "          list([31, 32, 33, 34, 35])],\n",
       "         [list([1, 2, 3, 4, 5]), list([6, 7, 8, 9, 10]),\n",
       "          list([11, 12, 13, 14, 15])],\n",
       "         [list([11, 12, 13, 14, 15]), list([1, 2, 3, 4, 5]),\n",
       "          list([6, 7, 8, 9, 10])],\n",
       "         [list([6, 7, 8, 9, 10]), list([11, 12, 13, 14, 15]),\n",
       "          list([1, 2, 3, 4, 5])],\n",
       "         [list([20, 21, 22, 23, 24]), list([25, 26, 27, 28, 29, 30]),\n",
       "          list([31, 32, 33, 34, 35])]],\n",
       "\n",
       "        [[list([20, 21, 22, 23, 24]), list([25, 26, 27, 28, 29, 30]),\n",
       "          list([31, 32, 33, 34, 35])],\n",
       "         [list([1, 2, 3, 4, 5]), list([6, 7, 8, 9, 10]),\n",
       "          list([11, 12, 13, 14, 15])],\n",
       "         [list([11, 12, 13, 14, 15]), list([1, 2, 3, 4, 5]),\n",
       "          list([6, 7, 8, 9, 10])],\n",
       "         [list([6, 7, 8, 9, 10]), list([11, 12, 13, 14, 15]),\n",
       "          list([1, 2, 3, 4, 5])],\n",
       "         [list([20, 21, 22, 23, 24]), list([25, 26, 27, 28, 29, 30]),\n",
       "          list([31, 32, 33, 34, 35])]]]], dtype=object)"
      ]
     },
     "execution_count": 45,
     "metadata": {},
     "output_type": "execute_result"
    }
   ],
   "source": [
    "x4 = np.array(\n",
    "    \n",
    "[    [\n",
    "## One Dimenssion\n",
    "        [\n",
    "        [\n",
    "            [20,21,22,23,24] , [25,26,27,28,29,30] , [31,32,33,34,35]\n",
    "        ],\n",
    "        [\n",
    "            [1,2,3,4,5], [6,7,8,9,10] , [11, 12, 13, 14, 15]\n",
    "        ],\n",
    "        [\n",
    "           [11, 12, 13, 14, 15] ,  [1,2,3,4,5] , [6,7,8,9,10]\n",
    "        ],\n",
    "        [\n",
    "            [6,7,8,9,10] , [11, 12, 13, 14, 15] ,  [1,2,3,4,5]\n",
    "        ],       \n",
    "        [\n",
    "            [20,21,22,23,24] , [25,26,27,28,29,30] , [31,32,33,34,35]\n",
    "        ]            \n",
    "        ],\n",
    "##End One Dimenssion        \n",
    "\n",
    "## Two Dimenssion        \n",
    "        [       \n",
    "        [\n",
    "            [20,21,22,23,24] , [25,26,27,28,29,30] , [31,32,33,34,35]\n",
    "        ],\n",
    "        [\n",
    "            [1,2,3,4,5], [6,7,8,9,10] , [11, 12, 13, 14, 15]\n",
    "        ],\n",
    "        [\n",
    "           [11, 12, 13, 14, 15] ,  [1,2,3,4,5] , [6,7,8,9,10]\n",
    "        ],\n",
    "        [\n",
    "            [6,7,8,9,10] , [11, 12, 13, 14, 15] ,  [1,2,3,4,5]\n",
    "        ],       \n",
    "        [\n",
    "            [20,21,22,23,24] , [25,26,27,28,29,30] , [31,32,33,34,35]\n",
    "        ]\n",
    "        ],\n",
    "##End of Two Dimenssion        \n",
    "        \n",
    "## Three Dimenssion        \n",
    "        [\n",
    "             [\n",
    "            [20,21,22,23,24] , [25,26,27,28,29,30] , [31,32,33,34,35]\n",
    "        ],\n",
    "        [\n",
    "            [1,2,3,4,5], [6,7,8,9,10] , [11, 12, 13, 14, 15]\n",
    "        ],\n",
    "        [\n",
    "           [11, 12, 13, 14, 15] ,  [1,2,3,4,5] , [6,7,8,9,10]\n",
    "        ],\n",
    "        [\n",
    "            [6,7,8,9,10] , [11, 12, 13, 14, 15] ,  [1,2,3,4,5]\n",
    "        ],       \n",
    "        \n",
    "        [\n",
    "            [20,21,22,23,24] , [25,26,27,28,29,30] , [31,32,33,34,35]\n",
    "        ]\n",
    "            \n",
    "        ],\n",
    "##End of Three Dimenssion           \n",
    "\n",
    "## Fourth Dimenssion        \n",
    "        [\n",
    "             [\n",
    "            [20,21,22,23,24] , [25,26,27,28,29,30] , [31,32,33,34,35]\n",
    "        ],\n",
    "        [\n",
    "            [1,2,3,4,5], [6,7,8,9,10] , [11, 12, 13, 14, 15]\n",
    "        ],\n",
    "        [\n",
    "           [11, 12, 13, 14, 15] ,  [1,2,3,4,5] , [6,7,8,9,10]\n",
    "        ],\n",
    "        [\n",
    "            [6,7,8,9,10] , [11, 12, 13, 14, 15] ,  [1,2,3,4,5]\n",
    "        ],       \n",
    "        \n",
    "        [\n",
    "            [20,21,22,23,24] , [25,26,27,28,29,30] , [31,32,33,34,35]\n",
    "        ]\n",
    "            \n",
    "        ]\n",
    "## End of Fourth\n",
    "        \n",
    "    ],\n",
    "\n",
    "    [\n",
    "## One Dimenssion\n",
    "        [\n",
    "        [\n",
    "            [20,21,22,23,24] , [25,26,27,28,29,30] , [31,32,33,34,35]\n",
    "        ],\n",
    "        [\n",
    "            [1,2,3,4,5], [6,7,8,9,10] , [11, 12, 13, 14, 15]\n",
    "        ],\n",
    "        [\n",
    "           [11, 12, 13, 14, 15] ,  [1,2,3,4,5] , [6,7,8,9,10]\n",
    "        ],\n",
    "        [\n",
    "            [6,7,8,9,10] , [11, 12, 13, 14, 15] ,  [1,2,3,4,5]\n",
    "        ],       \n",
    "        [\n",
    "            [20,21,22,23,24] , [25,26,27,28,29,30] , [31,32,33,34,35]\n",
    "        ]            \n",
    "        ],\n",
    "##End One Dimenssion        \n",
    "\n",
    "## Two Dimenssion        \n",
    "        [       \n",
    "        [\n",
    "            [20,21,22,23,24] , [25,26,27,28,29,30] , [31,32,33,34,35]\n",
    "        ],\n",
    "        [\n",
    "            [1,2,3,4,5], [6,7,8,9,10] , [11, 12, 13, 14, 15]\n",
    "        ],\n",
    "        [\n",
    "           [11, 12, 13, 14, 15] ,  [1,2,3,4,5] , [6,7,8,9,10]\n",
    "        ],\n",
    "        [\n",
    "            [6,7,8,9,10] , [11, 12, 13, 14, 15] ,  [1,2,3,4,5]\n",
    "        ],       \n",
    "        [\n",
    "            [20,21,22,23,24] , [25,26,27,28,29,30] , [31,32,33,34,35]\n",
    "        ]\n",
    "        ],\n",
    "##End of Two Dimenssion        \n",
    "        \n",
    "## Three Dimenssion        \n",
    "        [\n",
    "             [\n",
    "            [20,21,22,23,24] , [25,26,27,28,29,30] , [31,32,33,34,35]\n",
    "        ],\n",
    "        [\n",
    "            [1,2,3,4,5], [6,7,8,9,10] , [11, 12, 13, 14, 15]\n",
    "        ],\n",
    "        [\n",
    "           [11, 12, 13, 14, 15] ,  [1,2,3,4,5] , [6,7,8,9,10]\n",
    "        ],\n",
    "        [\n",
    "            [6,7,8,9,10] , [11, 12, 13, 14, 15] ,  [1,2,3,4,5]\n",
    "        ],       \n",
    "        \n",
    "        [\n",
    "            [20,21,22,23,24] , [25,26,27,28,29,30] , [31,32,33,34,35]\n",
    "        ]\n",
    "            \n",
    "        ],\n",
    "##End of Three Dimenssion           \n",
    "\n",
    "## Fourth Dimenssion        \n",
    "        [\n",
    "             [\n",
    "            [20,21,22,23,24] , [25,26,27,28,29,30] , [31,32,33,34,35]\n",
    "        ],\n",
    "        [\n",
    "            [1,2,3,4,5], [6,7,8,9,10] , [11, 12, 13, 14, 15]\n",
    "        ],\n",
    "        [\n",
    "           [11, 12, 13, 14, 15] ,  [1,2,3,4,5] , [6,7,8,9,10]\n",
    "        ],\n",
    "        [\n",
    "            [6,7,8,9,10] , [11, 12, 13, 14, 15] ,  [1,2,3,4,5]\n",
    "        ],       \n",
    "        \n",
    "        [\n",
    "            [20,21,22,23,24] , [25,26,27,28,29,30] , [31,32,33,34,35]\n",
    "        ]\n",
    "            \n",
    "        ]\n",
    "## End of Fourth\n",
    "        \n",
    "    ],\n",
    "    \n",
    "[\n",
    "## One Dimenssion\n",
    "        [\n",
    "        [\n",
    "            [20,21,22,23,24] , [25,26,27,28,29,30] , [31,32,33,34,35]\n",
    "        ],\n",
    "        [\n",
    "            [1,2,3,4,5], [6,7,8,9,10] , [11, 12, 13, 14, 15]\n",
    "        ],\n",
    "        [\n",
    "           [11, 12, 13, 14, 15] ,  [1,2,3,4,5] , [6,7,8,9,10]\n",
    "        ],\n",
    "        [\n",
    "            [6,7,8,9,10] , [11, 12, 13, 14, 15] ,  [1,2,3,4,5]\n",
    "        ],       \n",
    "        [\n",
    "            [20,21,22,23,24] , [25,26,27,28,29,30] , [31,32,33,34,35]\n",
    "        ]            \n",
    "        ],\n",
    "##End One Dimenssion        \n",
    "\n",
    "## Two Dimenssion        \n",
    "        [       \n",
    "        [\n",
    "            [20,21,22,23,24] , [25,26,27,28,29,30] , [31,32,33,34,35]\n",
    "        ],\n",
    "        [\n",
    "            [1,2,3,4,5], [6,7,8,9,10] , [11, 12, 13, 14, 15]\n",
    "        ],\n",
    "        [\n",
    "           [11, 12, 13, 14, 15] ,  [1,2,3,4,5] , [6,7,8,9,10]\n",
    "        ],\n",
    "        [\n",
    "            [6,7,8,9,10] , [11, 12, 13, 14, 15] ,  [1,2,3,4,5]\n",
    "        ],       \n",
    "        [\n",
    "            [20,21,22,23,24] , [25,26,27,28,29,30] , [31,32,33,34,35]\n",
    "        ]\n",
    "        ],\n",
    "##End of Two Dimenssion        \n",
    "        \n",
    "## Three Dimenssion        \n",
    "        [\n",
    "             [\n",
    "            [20,21,22,23,24] , [25,26,27,28,29,30] , [31,32,33,34,35]\n",
    "        ],\n",
    "        [\n",
    "            [1,2,3,4,5], [6,7,8,9,10] , [11, 12, 13, 14, 15]\n",
    "        ],\n",
    "        [\n",
    "           [11, 12, 13, 14, 15] ,  [1,2,3,4,5] , [6,7,8,9,10]\n",
    "        ],\n",
    "        [\n",
    "            [6,7,8,9,10] , [11, 12, 13, 14, 15] ,  [1,2,3,4,5]\n",
    "        ],       \n",
    "        \n",
    "        [\n",
    "            [20,21,22,23,24] , [25,26,27,28,29,30] , [31,32,33,34,35]\n",
    "        ]\n",
    "            \n",
    "        ],\n",
    "##End of Three Dimenssion           \n",
    "\n",
    "## Fourth Dimenssion        \n",
    "        [\n",
    "             [\n",
    "            [20,21,22,23,24] , [25,26,27,28,29,30] , [31,32,33,34,35]\n",
    "        ],\n",
    "        [\n",
    "            [1,2,3,4,5], [6,7,8,9,10] , [11, 12, 13, 14, 15]\n",
    "        ],\n",
    "        [\n",
    "           [11, 12, 13, 14, 15] ,  [1,2,3,4,5] , [6,7,8,9,10]\n",
    "        ],\n",
    "        [\n",
    "            [6,7,8,9,10] , [11, 12, 13, 14, 15] ,  [1,2,3,4,5]\n",
    "        ],       \n",
    "        \n",
    "        [\n",
    "            [20,21,22,23,24] , [25,26,27,28,29,30] , [31,32,33,34,35]\n",
    "        ]\n",
    "            \n",
    "        ]\n",
    "## End of Fourth\n",
    "        \n",
    "    ],\n",
    "    \n",
    "[\n",
    "## One Dimenssion\n",
    "        [\n",
    "        [\n",
    "            [20,21,22,23,24] , [25,26,27,28,29,30] , [31,32,33,34,35]\n",
    "        ],\n",
    "        [\n",
    "            [1,2,3,4,5], [6,7,8,9,10] , [11, 12, 13, 14, 15]\n",
    "        ],\n",
    "        [\n",
    "           [11, 12, 13, 14, 15] ,  [1,2,3,4,5] , [6,7,8,9,10]\n",
    "        ],\n",
    "        [\n",
    "            [6,7,8,9,10] , [11, 12, 13, 14, 15] ,  [1,2,3,4,5]\n",
    "        ],       \n",
    "        [\n",
    "            [20,21,22,23,24] , [25,26,27,28,29,30] , [31,32,33,34,35]\n",
    "        ]            \n",
    "        ],\n",
    "##End One Dimenssion        \n",
    "\n",
    "## Two Dimenssion        \n",
    "        [       \n",
    "        [\n",
    "            [20,21,22,23,24] , [25,26,27,28,29,30] , [31,32,33,34,35]\n",
    "        ],\n",
    "        [\n",
    "            [1,2,3,4,5], [6,7,8,9,10] , [11, 12, 13, 14, 15]\n",
    "        ],\n",
    "        [\n",
    "           [11, 12, 13, 14, 15] ,  [1,2,3,4,5] , [6,7,8,9,10]\n",
    "        ],\n",
    "        [\n",
    "            [6,7,8,9,10] , [11, 12, 13, 14, 15] ,  [1,2,3,4,5]\n",
    "        ],       \n",
    "        [\n",
    "            [20,21,22,23,24] , [25,26,27,28,29,30] , [31,32,33,34,35]\n",
    "        ]\n",
    "        ],\n",
    "##End of Two Dimenssion        \n",
    "        \n",
    "## Three Dimenssion        \n",
    "        [\n",
    "             [\n",
    "            [20,21,22,23,24] , [25,26,27,28,29,30] , [31,32,33,34,35]\n",
    "        ],\n",
    "        [\n",
    "            [1,2,3,4,5], [6,7,8,9,10] , [11, 12, 13, 14, 15]\n",
    "        ],\n",
    "        [\n",
    "           [11, 12, 13, 14, 15] ,  [1,2,3,4,5] , [6,7,8,9,10]\n",
    "        ],\n",
    "        [\n",
    "            [6,7,8,9,10] , [11, 12, 13, 14, 15] ,  [1,2,3,4,5]\n",
    "        ],       \n",
    "        \n",
    "        [\n",
    "            [20,21,22,23,24] , [25,26,27,28,29,30] , [31,32,33,34,35]\n",
    "        ]\n",
    "            \n",
    "        ],\n",
    "##End of Three Dimenssion           \n",
    "\n",
    "## Fourth Dimenssion        \n",
    "        [\n",
    "             [\n",
    "            [20,21,22,23,24] , [25,26,27,28,29,30] , [31,32,33,34,35]\n",
    "        ],\n",
    "        [\n",
    "            [1,2,3,4,5], [6,7,8,9,10] , [11, 12, 13, 14, 15]\n",
    "        ],\n",
    "        [\n",
    "           [11, 12, 13, 14, 15] ,  [1,2,3,4,5] , [6,7,8,9,10]\n",
    "        ],\n",
    "        [\n",
    "            [6,7,8,9,10] , [11, 12, 13, 14, 15] ,  [1,2,3,4,5]\n",
    "        ],       \n",
    "        \n",
    "        [\n",
    "            [20,21,22,23,24] , [25,26,27,28,29,30] , [31,32,33,34,35]\n",
    "        ]\n",
    "            \n",
    "        ]\n",
    "## End of Fourth\n",
    "        \n",
    "    ]   \n",
    "    \n",
    "    ]\n",
    ")\n",
    "\n",
    "x4"
   ]
  },
  {
   "cell_type": "code",
   "execution_count": 46,
   "metadata": {},
   "outputs": [
    {
     "name": "stdout",
     "output_type": "stream",
     "text": [
      "Dimensions: 4\n",
      "Shape: (4, 4, 5, 3)\n",
      "Size[no of elements in array] :240\n",
      "Memory Consumption in Bytes(dtype*size): 1920\n"
     ]
    }
   ],
   "source": [
    "print('Dimensions: {0}\\nShape: {1}\\nSize[no of elements in array] :{2}\\nMemory Consumption in Bytes(dtype*size): {3}'.format(x4.ndim,x4.shape,x4.size,x4.nbytes))"
   ]
  },
  {
   "cell_type": "code",
   "execution_count": 47,
   "metadata": {},
   "outputs": [
    {
     "data": {
      "text/plain": [
       "7"
      ]
     },
     "execution_count": 47,
     "metadata": {},
     "output_type": "execute_result"
    }
   ],
   "source": [
    "# To reach an element inside x4\n",
    "x4[1,1,1,1][1]"
   ]
  },
  {
   "cell_type": "markdown",
   "metadata": {},
   "source": [
    "Array Manipulation"
   ]
  },
  {
   "cell_type": "code",
   "execution_count": 48,
   "metadata": {},
   "outputs": [
    {
     "data": {
      "text/plain": [
       "array([0, 1, 2, 3, 4, 5, 6, 7, 8, 9])"
      ]
     },
     "execution_count": 48,
     "metadata": {},
     "output_type": "execute_result"
    }
   ],
   "source": [
    "ar1 = np.arange(10)\n",
    "ar1"
   ]
  },
  {
   "cell_type": "code",
   "execution_count": 49,
   "metadata": {},
   "outputs": [
    {
     "data": {
      "text/plain": [
       "array([[0, 1],\n",
       "       [2, 3],\n",
       "       [4, 5],\n",
       "       [6, 7],\n",
       "       [8, 9]])"
      ]
     },
     "execution_count": 49,
     "metadata": {},
     "output_type": "execute_result"
    }
   ],
   "source": [
    "ar2 = ar1.reshape((5,2))\n",
    "ar2"
   ]
  },
  {
   "cell_type": "code",
   "execution_count": 50,
   "metadata": {},
   "outputs": [
    {
     "data": {
      "text/plain": [
       "array([0, 1, 2, 3, 4, 5, 6, 7, 8, 9])"
      ]
     },
     "execution_count": 50,
     "metadata": {},
     "output_type": "execute_result"
    }
   ],
   "source": [
    "# Flattening the matrix/Array [mostly used in signal processing and image processing]\n",
    "# flatten(...)\n",
    "#  |      a.flatten(order='C')\n",
    "#  |      \n",
    "#  |      Return a copy of the array collapsed into one dimension.\n",
    "#  |      \n",
    "#  |      Parameters\n",
    "#  |      ----------\n",
    "#  |      order : {'C', 'F', 'A', 'K'}, optional\n",
    "#  |          'C' means to flatten in row-major (C-style) order.\n",
    "#  |          'F' means to flatten in column-major (Fortran-\n",
    "#  |          style) order. 'A' means to flatten in column-major\n",
    "#  |          order if `a` is Fortran *contiguous* in memory,\n",
    "#  |          row-major order otherwise. 'K' means to flatten\n",
    "#  |          `a` in the order the elements occur in memory.\n",
    "#  |          The default is 'C'.\n",
    "fl1 = ar2.flatten()\n",
    "fl1"
   ]
  },
  {
   "cell_type": "code",
   "execution_count": 51,
   "metadata": {},
   "outputs": [
    {
     "data": {
      "text/plain": [
       "1"
      ]
     },
     "execution_count": 51,
     "metadata": {},
     "output_type": "execute_result"
    }
   ],
   "source": [
    "fl1.ndim"
   ]
  },
  {
   "cell_type": "code",
   "execution_count": 52,
   "metadata": {},
   "outputs": [
    {
     "data": {
      "text/plain": [
       "array([list([20, 21, 22, 23, 24]), list([25, 26, 27, 28, 29, 30]),\n",
       "       list([31, 32, 33, 34, 35]), list([1, 2, 3, 4, 5]),\n",
       "       list([6, 7, 8, 9, 10]), list([11, 12, 13, 14, 15]),\n",
       "       list([11, 12, 13, 14, 15]), list([1, 2, 3, 4, 5]),\n",
       "       list([6, 7, 8, 9, 10]), list([6, 7, 8, 9, 10]),\n",
       "       list([11, 12, 13, 14, 15]), list([1, 2, 3, 4, 5]),\n",
       "       list([20, 21, 22, 23, 24]), list([25, 26, 27, 28, 29, 30]),\n",
       "       list([31, 32, 33, 34, 35]), list([20, 21, 22, 23, 24]),\n",
       "       list([25, 26, 27, 28, 29, 30]), list([31, 32, 33, 34, 35]),\n",
       "       list([1, 2, 3, 4, 5]), list([6, 7, 8, 9, 10]),\n",
       "       list([11, 12, 13, 14, 15]), list([11, 12, 13, 14, 15]),\n",
       "       list([1, 2, 3, 4, 5]), list([6, 7, 8, 9, 10]),\n",
       "       list([6, 7, 8, 9, 10]), list([11, 12, 13, 14, 15]),\n",
       "       list([1, 2, 3, 4, 5]), list([20, 21, 22, 23, 24]),\n",
       "       list([25, 26, 27, 28, 29, 30]), list([31, 32, 33, 34, 35]),\n",
       "       list([20, 21, 22, 23, 24]), list([25, 26, 27, 28, 29, 30]),\n",
       "       list([31, 32, 33, 34, 35]), list([1, 2, 3, 4, 5]),\n",
       "       list([6, 7, 8, 9, 10]), list([11, 12, 13, 14, 15]),\n",
       "       list([11, 12, 13, 14, 15]), list([1, 2, 3, 4, 5]),\n",
       "       list([6, 7, 8, 9, 10]), list([6, 7, 8, 9, 10]),\n",
       "       list([11, 12, 13, 14, 15]), list([1, 2, 3, 4, 5]),\n",
       "       list([20, 21, 22, 23, 24]), list([25, 26, 27, 28, 29, 30]),\n",
       "       list([31, 32, 33, 34, 35]), list([20, 21, 22, 23, 24]),\n",
       "       list([25, 26, 27, 28, 29, 30]), list([31, 32, 33, 34, 35]),\n",
       "       list([1, 2, 3, 4, 5]), list([6, 7, 8, 9, 10]),\n",
       "       list([11, 12, 13, 14, 15]), list([11, 12, 13, 14, 15]),\n",
       "       list([1, 2, 3, 4, 5]), list([6, 7, 8, 9, 10]),\n",
       "       list([6, 7, 8, 9, 10]), list([11, 12, 13, 14, 15]),\n",
       "       list([1, 2, 3, 4, 5]), list([20, 21, 22, 23, 24]),\n",
       "       list([25, 26, 27, 28, 29, 30]), list([31, 32, 33, 34, 35]),\n",
       "       list([20, 21, 22, 23, 24]), list([25, 26, 27, 28, 29, 30]),\n",
       "       list([31, 32, 33, 34, 35]), list([1, 2, 3, 4, 5]),\n",
       "       list([6, 7, 8, 9, 10]), list([11, 12, 13, 14, 15]),\n",
       "       list([11, 12, 13, 14, 15]), list([1, 2, 3, 4, 5]),\n",
       "       list([6, 7, 8, 9, 10]), list([6, 7, 8, 9, 10]),\n",
       "       list([11, 12, 13, 14, 15]), list([1, 2, 3, 4, 5]),\n",
       "       list([20, 21, 22, 23, 24]), list([25, 26, 27, 28, 29, 30]),\n",
       "       list([31, 32, 33, 34, 35]), list([20, 21, 22, 23, 24]),\n",
       "       list([25, 26, 27, 28, 29, 30]), list([31, 32, 33, 34, 35]),\n",
       "       list([1, 2, 3, 4, 5]), list([6, 7, 8, 9, 10]),\n",
       "       list([11, 12, 13, 14, 15]), list([11, 12, 13, 14, 15]),\n",
       "       list([1, 2, 3, 4, 5]), list([6, 7, 8, 9, 10]),\n",
       "       list([6, 7, 8, 9, 10]), list([11, 12, 13, 14, 15]),\n",
       "       list([1, 2, 3, 4, 5]), list([20, 21, 22, 23, 24]),\n",
       "       list([25, 26, 27, 28, 29, 30]), list([31, 32, 33, 34, 35]),\n",
       "       list([20, 21, 22, 23, 24]), list([25, 26, 27, 28, 29, 30]),\n",
       "       list([31, 32, 33, 34, 35]), list([1, 2, 3, 4, 5]),\n",
       "       list([6, 7, 8, 9, 10]), list([11, 12, 13, 14, 15]),\n",
       "       list([11, 12, 13, 14, 15]), list([1, 2, 3, 4, 5]),\n",
       "       list([6, 7, 8, 9, 10]), list([6, 7, 8, 9, 10]),\n",
       "       list([11, 12, 13, 14, 15]), list([1, 2, 3, 4, 5]),\n",
       "       list([20, 21, 22, 23, 24]), list([25, 26, 27, 28, 29, 30]),\n",
       "       list([31, 32, 33, 34, 35]), list([20, 21, 22, 23, 24]),\n",
       "       list([25, 26, 27, 28, 29, 30]), list([31, 32, 33, 34, 35]),\n",
       "       list([1, 2, 3, 4, 5]), list([6, 7, 8, 9, 10]),\n",
       "       list([11, 12, 13, 14, 15]), list([11, 12, 13, 14, 15]),\n",
       "       list([1, 2, 3, 4, 5]), list([6, 7, 8, 9, 10]),\n",
       "       list([6, 7, 8, 9, 10]), list([11, 12, 13, 14, 15]),\n",
       "       list([1, 2, 3, 4, 5]), list([20, 21, 22, 23, 24]),\n",
       "       list([25, 26, 27, 28, 29, 30]), list([31, 32, 33, 34, 35]),\n",
       "       list([20, 21, 22, 23, 24]), list([25, 26, 27, 28, 29, 30]),\n",
       "       list([31, 32, 33, 34, 35]), list([1, 2, 3, 4, 5]),\n",
       "       list([6, 7, 8, 9, 10]), list([11, 12, 13, 14, 15]),\n",
       "       list([11, 12, 13, 14, 15]), list([1, 2, 3, 4, 5]),\n",
       "       list([6, 7, 8, 9, 10]), list([6, 7, 8, 9, 10]),\n",
       "       list([11, 12, 13, 14, 15]), list([1, 2, 3, 4, 5]),\n",
       "       list([20, 21, 22, 23, 24]), list([25, 26, 27, 28, 29, 30]),\n",
       "       list([31, 32, 33, 34, 35]), list([20, 21, 22, 23, 24]),\n",
       "       list([25, 26, 27, 28, 29, 30]), list([31, 32, 33, 34, 35]),\n",
       "       list([1, 2, 3, 4, 5]), list([6, 7, 8, 9, 10]),\n",
       "       list([11, 12, 13, 14, 15]), list([11, 12, 13, 14, 15]),\n",
       "       list([1, 2, 3, 4, 5]), list([6, 7, 8, 9, 10]),\n",
       "       list([6, 7, 8, 9, 10]), list([11, 12, 13, 14, 15]),\n",
       "       list([1, 2, 3, 4, 5]), list([20, 21, 22, 23, 24]),\n",
       "       list([25, 26, 27, 28, 29, 30]), list([31, 32, 33, 34, 35]),\n",
       "       list([20, 21, 22, 23, 24]), list([25, 26, 27, 28, 29, 30]),\n",
       "       list([31, 32, 33, 34, 35]), list([1, 2, 3, 4, 5]),\n",
       "       list([6, 7, 8, 9, 10]), list([11, 12, 13, 14, 15]),\n",
       "       list([11, 12, 13, 14, 15]), list([1, 2, 3, 4, 5]),\n",
       "       list([6, 7, 8, 9, 10]), list([6, 7, 8, 9, 10]),\n",
       "       list([11, 12, 13, 14, 15]), list([1, 2, 3, 4, 5]),\n",
       "       list([20, 21, 22, 23, 24]), list([25, 26, 27, 28, 29, 30]),\n",
       "       list([31, 32, 33, 34, 35]), list([20, 21, 22, 23, 24]),\n",
       "       list([25, 26, 27, 28, 29, 30]), list([31, 32, 33, 34, 35]),\n",
       "       list([1, 2, 3, 4, 5]), list([6, 7, 8, 9, 10]),\n",
       "       list([11, 12, 13, 14, 15]), list([11, 12, 13, 14, 15]),\n",
       "       list([1, 2, 3, 4, 5]), list([6, 7, 8, 9, 10]),\n",
       "       list([6, 7, 8, 9, 10]), list([11, 12, 13, 14, 15]),\n",
       "       list([1, 2, 3, 4, 5]), list([20, 21, 22, 23, 24]),\n",
       "       list([25, 26, 27, 28, 29, 30]), list([31, 32, 33, 34, 35]),\n",
       "       list([20, 21, 22, 23, 24]), list([25, 26, 27, 28, 29, 30]),\n",
       "       list([31, 32, 33, 34, 35]), list([1, 2, 3, 4, 5]),\n",
       "       list([6, 7, 8, 9, 10]), list([11, 12, 13, 14, 15]),\n",
       "       list([11, 12, 13, 14, 15]), list([1, 2, 3, 4, 5]),\n",
       "       list([6, 7, 8, 9, 10]), list([6, 7, 8, 9, 10]),\n",
       "       list([11, 12, 13, 14, 15]), list([1, 2, 3, 4, 5]),\n",
       "       list([20, 21, 22, 23, 24]), list([25, 26, 27, 28, 29, 30]),\n",
       "       list([31, 32, 33, 34, 35]), list([20, 21, 22, 23, 24]),\n",
       "       list([25, 26, 27, 28, 29, 30]), list([31, 32, 33, 34, 35]),\n",
       "       list([1, 2, 3, 4, 5]), list([6, 7, 8, 9, 10]),\n",
       "       list([11, 12, 13, 14, 15]), list([11, 12, 13, 14, 15]),\n",
       "       list([1, 2, 3, 4, 5]), list([6, 7, 8, 9, 10]),\n",
       "       list([6, 7, 8, 9, 10]), list([11, 12, 13, 14, 15]),\n",
       "       list([1, 2, 3, 4, 5]), list([20, 21, 22, 23, 24]),\n",
       "       list([25, 26, 27, 28, 29, 30]), list([31, 32, 33, 34, 35]),\n",
       "       list([20, 21, 22, 23, 24]), list([25, 26, 27, 28, 29, 30]),\n",
       "       list([31, 32, 33, 34, 35]), list([1, 2, 3, 4, 5]),\n",
       "       list([6, 7, 8, 9, 10]), list([11, 12, 13, 14, 15]),\n",
       "       list([11, 12, 13, 14, 15]), list([1, 2, 3, 4, 5]),\n",
       "       list([6, 7, 8, 9, 10]), list([6, 7, 8, 9, 10]),\n",
       "       list([11, 12, 13, 14, 15]), list([1, 2, 3, 4, 5]),\n",
       "       list([20, 21, 22, 23, 24]), list([25, 26, 27, 28, 29, 30]),\n",
       "       list([31, 32, 33, 34, 35]), list([20, 21, 22, 23, 24]),\n",
       "       list([25, 26, 27, 28, 29, 30]), list([31, 32, 33, 34, 35]),\n",
       "       list([1, 2, 3, 4, 5]), list([6, 7, 8, 9, 10]),\n",
       "       list([11, 12, 13, 14, 15]), list([11, 12, 13, 14, 15]),\n",
       "       list([1, 2, 3, 4, 5]), list([6, 7, 8, 9, 10]),\n",
       "       list([6, 7, 8, 9, 10]), list([11, 12, 13, 14, 15]),\n",
       "       list([1, 2, 3, 4, 5]), list([20, 21, 22, 23, 24]),\n",
       "       list([25, 26, 27, 28, 29, 30]), list([31, 32, 33, 34, 35])],\n",
       "      dtype=object)"
      ]
     },
     "execution_count": 52,
     "metadata": {},
     "output_type": "execute_result"
    }
   ],
   "source": [
    "fl2 = x4.flatten()\n",
    "fl2"
   ]
  },
  {
   "cell_type": "code",
   "execution_count": 53,
   "metadata": {},
   "outputs": [
    {
     "data": {
      "text/plain": [
       "1"
      ]
     },
     "execution_count": 53,
     "metadata": {},
     "output_type": "execute_result"
    }
   ],
   "source": [
    "fl2.ndim"
   ]
  },
  {
   "cell_type": "code",
   "execution_count": 54,
   "metadata": {},
   "outputs": [
    {
     "data": {
      "text/plain": [
       "array([[1, 2, 3],\n",
       "       [4, 5, 6]])"
      ]
     },
     "execution_count": 54,
     "metadata": {},
     "output_type": "execute_result"
    }
   ],
   "source": [
    "xaf = np.array([[1,2,3],[4,5,6]], order='F')\n",
    "xaf"
   ]
  },
  {
   "cell_type": "code",
   "execution_count": 55,
   "metadata": {},
   "outputs": [
    {
     "data": {
      "text/plain": [
       "array([[1, 2, 3],\n",
       "       [4, 5, 6]])"
      ]
     },
     "execution_count": 55,
     "metadata": {},
     "output_type": "execute_result"
    }
   ],
   "source": [
    "xac = np.array([[1,2,3],[4,5,6]], order='C')\n",
    "xac"
   ]
  },
  {
   "cell_type": "code",
   "execution_count": 56,
   "metadata": {},
   "outputs": [
    {
     "data": {
      "text/plain": [
       "array([[ True,  True,  True],\n",
       "       [ True,  True,  True]])"
      ]
     },
     "execution_count": 56,
     "metadata": {},
     "output_type": "execute_result"
    }
   ],
   "source": [
    "xaf == xac"
   ]
  },
  {
   "cell_type": "code",
   "execution_count": 57,
   "metadata": {},
   "outputs": [
    {
     "data": {
      "text/plain": [
       "False"
      ]
     },
     "execution_count": 57,
     "metadata": {},
     "output_type": "execute_result"
    }
   ],
   "source": [
    "id(xaf) == id(xac)"
   ]
  },
  {
   "cell_type": "code",
   "execution_count": 58,
   "metadata": {},
   "outputs": [
    {
     "name": "stdout",
     "output_type": "stream",
     "text": [
      "[0 1 2 3 4 5] [ 6  7  8  9 10 11] type: <class 'numpy.ndarray'>\n"
     ]
    }
   ],
   "source": [
    "## Merging two Series or lists and making them into arrays\n",
    "vecVal1 = np.arange(6)\n",
    "vecVal2 = np.arange(6,12)\n",
    "print(vecVal1,vecVal2, 'type: {0}'.format(type(vecVal1)))"
   ]
  },
  {
   "cell_type": "code",
   "execution_count": 59,
   "metadata": {},
   "outputs": [
    {
     "data": {
      "text/plain": [
       "array([[ 0,  1,  2,  3,  4,  5],\n",
       "       [ 6,  7,  8,  9, 10, 11]])"
      ]
     },
     "execution_count": 59,
     "metadata": {},
     "output_type": "execute_result"
    }
   ],
   "source": [
    "RStk = np.stack([vecVal1, vecVal2], axis=0)\n",
    "RStk"
   ]
  },
  {
   "cell_type": "code",
   "execution_count": 60,
   "metadata": {
    "scrolled": true
   },
   "outputs": [
    {
     "name": "stdout",
     "output_type": "stream",
     "text": [
      "Matrisx: \n",
      "[[ 0  6]\n",
      " [ 1  7]\n",
      " [ 2  8]\n",
      " [ 3  9]\n",
      " [ 4 10]\n",
      " [ 5 11]]\n",
      "Type: <class 'numpy.ndarray'>\n",
      "Dimensions: 2\n",
      "Shape: (6, 2)\n",
      "Size: 12\n"
     ]
    }
   ],
   "source": [
    "CStk = np.stack([vecVal1, vecVal2], axis=1)\n",
    "print('Matrisx: \\n{0}\\nType: {1}\\nDimensions: {2}\\nShape: {3}\\nSize: {4}'.format(CStk,type(CStk),CStk.ndim,CStk.shape,CStk.size))"
   ]
  },
  {
   "cell_type": "code",
   "execution_count": 61,
   "metadata": {},
   "outputs": [
    {
     "name": "stdout",
     "output_type": "stream",
     "text": [
      "Matrix: \n",
      "[[[ 0  6]\n",
      "  [ 1  7]\n",
      "  [ 2  8]\n",
      "  [ 3  9]\n",
      "  [ 4 10]\n",
      "  [ 5 11]]]\n",
      "Type: <class 'numpy.ndarray'>\n",
      "Dimensions: 3\n",
      "Shape: (1, 6, 2)\n",
      "Size: 12\n"
     ]
    }
   ],
   "source": [
    "# To stack the data in multiple ergonomic way D-Stack\n",
    "DStk = np.dstack([vecVal1, vecVal2])\n",
    "print('Matrix: \\n{0}\\nType: {1}\\nDimensions: {2}\\nShape: {3}\\nSize: {4}'.format(DStk,type(DStk),DStk.ndim,DStk.shape,DStk.size))"
   ]
  },
  {
   "cell_type": "code",
   "execution_count": 62,
   "metadata": {},
   "outputs": [
    {
     "name": "stdout",
     "output_type": "stream",
     "text": [
      "Matrix: \n",
      "[ 0  1  2  3  4  5  6  7  8  9 10 11]\n",
      "Type: <class 'numpy.ndarray'>\n",
      "Dimensions: 1\n",
      "Shape: (12,)\n",
      "Size: 12\n"
     ]
    }
   ],
   "source": [
    "#Stacking everything Horizontally\n",
    "HStk = np.hstack([vecVal1, vecVal2])\n",
    "print('Matrix: \\n{0}\\nType: {1}\\nDimensions: {2}\\nShape: {3}\\nSize: {4}'.format(HStk,type(HStk),HStk.ndim,HStk.shape,HStk.size))"
   ]
  },
  {
   "cell_type": "code",
   "execution_count": 63,
   "metadata": {},
   "outputs": [
    {
     "name": "stdout",
     "output_type": "stream",
     "text": [
      "Matrix: \n",
      "[[ 0  1  2  3  4  5]\n",
      " [ 6  7  8  9 10 11]]\n",
      "Type: <class 'numpy.ndarray'>\n",
      "Dimensions: 2\n",
      "Shape: (2, 6)\n",
      "Size: 12\n"
     ]
    }
   ],
   "source": [
    "VStk = np.vstack([vecVal1, vecVal2])\n",
    "print('Matrix: \\n{0}\\nType: {1}\\nDimensions: {2}\\nShape: {3}\\nSize: {4}'.format(VStk,type(VStk),VStk.ndim,VStk.shape,VStk.size))"
   ]
  },
  {
   "cell_type": "code",
   "execution_count": 64,
   "metadata": {},
   "outputs": [
    {
     "data": {
      "text/plain": [
       "array([[[0.91777882, 0.84068607, 0.45749073, 0.22380792],\n",
       "        [0.182047  , 0.97898376, 0.48470782, 0.97526069],\n",
       "        [0.78325789, 0.73118427, 0.28001838, 0.39514943],\n",
       "        [0.69453263, 0.20882112, 0.30085553, 0.7351615 ]],\n",
       "\n",
       "       [[0.66688071, 0.2512307 , 0.49295583, 0.70642739],\n",
       "        [0.43316812, 0.48181128, 0.57629706, 0.70399387],\n",
       "        [0.87228206, 0.5024881 , 0.00241244, 0.83536672],\n",
       "        [0.85960587, 0.33680156, 0.65061774, 0.73869582]],\n",
       "\n",
       "       [[0.85794219, 0.55516374, 0.6004701 , 0.56233252],\n",
       "        [0.31244028, 0.00424396, 0.40678073, 0.77256869],\n",
       "        [0.16956219, 0.7660012 , 0.04165779, 0.27330116],\n",
       "        [0.44163912, 0.96569878, 0.24195956, 0.11108548]],\n",
       "\n",
       "       [[0.0984262 , 0.26592246, 0.3635443 , 0.1146214 ],\n",
       "        [0.6011081 , 0.12440823, 0.97892592, 0.20229005],\n",
       "        [0.72963234, 0.44111818, 0.78410562, 0.95157501],\n",
       "        [0.09562839, 0.32476753, 0.94370859, 0.35217014]]])"
      ]
     },
     "execution_count": 64,
     "metadata": {},
     "output_type": "execute_result"
    }
   ],
   "source": [
    "randArray1 = np.random.rand(4,4,4)\n",
    "randArray1"
   ]
  },
  {
   "cell_type": "code",
   "execution_count": 65,
   "metadata": {},
   "outputs": [
    {
     "name": "stdout",
     "output_type": "stream",
     "text": [
      "[0 1 2] [3 4 5] [6 7 8] [ 9 10 11]\n"
     ]
    }
   ],
   "source": [
    "## Spliting data into equal parts mostly of the data is in divedents of 2\n",
    "a,b,c,d = np.split(HStk,4)\n",
    "print(a,b,c,d)"
   ]
  },
  {
   "cell_type": "code",
   "execution_count": 66,
   "metadata": {},
   "outputs": [
    {
     "name": "stdout",
     "output_type": "stream",
     "text": [
      "[[[0.91777882 0.84068607 0.45749073 0.22380792]]\n",
      "\n",
      " [[0.66688071 0.2512307  0.49295583 0.70642739]]\n",
      "\n",
      " [[0.85794219 0.55516374 0.6004701  0.56233252]]\n",
      "\n",
      " [[0.0984262  0.26592246 0.3635443  0.1146214 ]]] [[[0.182047   0.97898376 0.48470782 0.97526069]]\n",
      "\n",
      " [[0.43316812 0.48181128 0.57629706 0.70399387]]\n",
      "\n",
      " [[0.31244028 0.00424396 0.40678073 0.77256869]]\n",
      "\n",
      " [[0.6011081  0.12440823 0.97892592 0.20229005]]] [[[0.78325789 0.73118427 0.28001838 0.39514943]]\n",
      "\n",
      " [[0.87228206 0.5024881  0.00241244 0.83536672]]\n",
      "\n",
      " [[0.16956219 0.7660012  0.04165779 0.27330116]]\n",
      "\n",
      " [[0.72963234 0.44111818 0.78410562 0.95157501]]] [[[0.69453263 0.20882112 0.30085553 0.7351615 ]]\n",
      "\n",
      " [[0.85960587 0.33680156 0.65061774 0.73869582]]\n",
      "\n",
      " [[0.44163912 0.96569878 0.24195956 0.11108548]]\n",
      "\n",
      " [[0.09562839 0.32476753 0.94370859 0.35217014]]]\n"
     ]
    }
   ],
   "source": [
    "a,b,c,d = np.hsplit(randArray1,4)\n",
    "print(a,b,c,d)"
   ]
  },
  {
   "cell_type": "code",
   "execution_count": 67,
   "metadata": {},
   "outputs": [
    {
     "name": "stdout",
     "output_type": "stream",
     "text": [
      "Matrix: \n",
      "[[[0.91777882 0.84068607 0.45749073 0.22380792]]\n",
      "\n",
      " [[0.66688071 0.2512307  0.49295583 0.70642739]]\n",
      "\n",
      " [[0.85794219 0.55516374 0.6004701  0.56233252]]\n",
      "\n",
      " [[0.0984262  0.26592246 0.3635443  0.1146214 ]]]\n",
      "Type: <class 'numpy.ndarray'>\n",
      "Dimensions: 3\n",
      "Shape: (4, 1, 4)\n",
      "Size: 16\n"
     ]
    }
   ],
   "source": [
    "print('Matrix: \\n{0}\\nType: {1}\\nDimensions: {2}\\nShape: {3}\\nSize: {4}'.format(a,type(a),a.ndim,a.shape,a.size))"
   ]
  },
  {
   "cell_type": "code",
   "execution_count": 68,
   "metadata": {},
   "outputs": [
    {
     "name": "stdout",
     "output_type": "stream",
     "text": [
      "[[[0.91777882 0.84068607 0.45749073 0.22380792]\n",
      "  [0.182047   0.97898376 0.48470782 0.97526069]\n",
      "  [0.78325789 0.73118427 0.28001838 0.39514943]\n",
      "  [0.69453263 0.20882112 0.30085553 0.7351615 ]]] [[[0.66688071 0.2512307  0.49295583 0.70642739]\n",
      "  [0.43316812 0.48181128 0.57629706 0.70399387]\n",
      "  [0.87228206 0.5024881  0.00241244 0.83536672]\n",
      "  [0.85960587 0.33680156 0.65061774 0.73869582]]] [[[0.85794219 0.55516374 0.6004701  0.56233252]\n",
      "  [0.31244028 0.00424396 0.40678073 0.77256869]\n",
      "  [0.16956219 0.7660012  0.04165779 0.27330116]\n",
      "  [0.44163912 0.96569878 0.24195956 0.11108548]]] [[[0.0984262  0.26592246 0.3635443  0.1146214 ]\n",
      "  [0.6011081  0.12440823 0.97892592 0.20229005]\n",
      "  [0.72963234 0.44111818 0.78410562 0.95157501]\n",
      "  [0.09562839 0.32476753 0.94370859 0.35217014]]]\n"
     ]
    }
   ],
   "source": [
    "a,b,c,d = np.vsplit(randArray1,4)\n",
    "print(a,b,c,d)"
   ]
  },
  {
   "cell_type": "code",
   "execution_count": 69,
   "metadata": {},
   "outputs": [
    {
     "name": "stdout",
     "output_type": "stream",
     "text": [
      "Matrix: \n",
      "[[[0.91777882 0.84068607 0.45749073 0.22380792]\n",
      "  [0.182047   0.97898376 0.48470782 0.97526069]\n",
      "  [0.78325789 0.73118427 0.28001838 0.39514943]\n",
      "  [0.69453263 0.20882112 0.30085553 0.7351615 ]]]\n",
      "Type: <class 'numpy.ndarray'>\n",
      "Dimensions: 3\n",
      "Shape: (1, 4, 4)\n",
      "Size: 16\n"
     ]
    }
   ],
   "source": [
    "print('Matrix: \\n{0}\\nType: {1}\\nDimensions: {2}\\nShape: {3}\\nSize: {4}'.format(a,type(a),a.ndim,a.shape,a.size))"
   ]
  },
  {
   "cell_type": "code",
   "execution_count": 70,
   "metadata": {},
   "outputs": [
    {
     "data": {
      "text/plain": [
       "array([[[0.91777882, 0.84068607, 0.45749073, 0.22380792],\n",
       "        [0.182047  , 0.97898376, 0.48470782, 0.97526069],\n",
       "        [0.78325789, 0.73118427, 0.28001838, 0.39514943],\n",
       "        [0.69453263, 0.20882112, 0.30085553, 0.7351615 ]]])"
      ]
     },
     "execution_count": 70,
     "metadata": {},
     "output_type": "execute_result"
    }
   ],
   "source": [
    "a"
   ]
  },
  {
   "cell_type": "code",
   "execution_count": 71,
   "metadata": {},
   "outputs": [
    {
     "data": {
      "text/plain": [
       "array([[[0.69453263, 0.20882112, 0.30085553, 0.7351615 ],\n",
       "        [0.78325789, 0.73118427, 0.28001838, 0.39514943],\n",
       "        [0.182047  , 0.97898376, 0.48470782, 0.97526069],\n",
       "        [0.91777882, 0.84068607, 0.45749073, 0.22380792]]])"
      ]
     },
     "execution_count": 71,
     "metadata": {},
     "output_type": "execute_result"
    }
   ],
   "source": [
    "## It litraly flips as per the axis: -ve(Ndim - 1),+ve(Ndim - 1)\n",
    "np.flip(a, axis=1)"
   ]
  },
  {
   "cell_type": "code",
   "execution_count": 72,
   "metadata": {},
   "outputs": [
    {
     "data": {
      "text/plain": [
       "array([[[0.22380792, 0.45749073, 0.84068607, 0.91777882],\n",
       "        [0.97526069, 0.48470782, 0.97898376, 0.182047  ],\n",
       "        [0.39514943, 0.28001838, 0.73118427, 0.78325789],\n",
       "        [0.7351615 , 0.30085553, 0.20882112, 0.69453263]]])"
      ]
     },
     "execution_count": 72,
     "metadata": {},
     "output_type": "execute_result"
    }
   ],
   "source": [
    "np.flip(a, axis=-1)"
   ]
  },
  {
   "cell_type": "code",
   "execution_count": 73,
   "metadata": {},
   "outputs": [
    {
     "data": {
      "text/plain": [
       "array([[[0.66688071, 0.2512307 , 0.49295583, 0.70642739],\n",
       "        [0.43316812, 0.48181128, 0.57629706, 0.70399387],\n",
       "        [0.87228206, 0.5024881 , 0.00241244, 0.83536672],\n",
       "        [0.85960587, 0.33680156, 0.65061774, 0.73869582]]])"
      ]
     },
     "execution_count": 73,
     "metadata": {},
     "output_type": "execute_result"
    }
   ],
   "source": [
    "b"
   ]
  },
  {
   "cell_type": "code",
   "execution_count": 74,
   "metadata": {},
   "outputs": [
    {
     "data": {
      "text/plain": [
       "array([[[0.85960587, 0.33680156, 0.65061774, 0.73869582],\n",
       "        [0.66688071, 0.2512307 , 0.49295583, 0.70642739],\n",
       "        [0.43316812, 0.48181128, 0.57629706, 0.70399387],\n",
       "        [0.87228206, 0.5024881 , 0.00241244, 0.83536672]]])"
      ]
     },
     "execution_count": 74,
     "metadata": {},
     "output_type": "execute_result"
    }
   ],
   "source": [
    "## Swaps the bottom most N elements to up\n",
    "np.roll(b,4)"
   ]
  },
  {
   "cell_type": "code",
   "execution_count": 75,
   "metadata": {},
   "outputs": [
    {
     "name": "stdout",
     "output_type": "stream",
     "text": [
      "[0 0 0 1]\n",
      "[0 1 1 1]\n",
      "[0 1 1 0]\n",
      "[255 255 254 254]\n"
     ]
    }
   ],
   "source": [
    "# BitWise Opperations\n",
    "x = np.array([0,1,0,1], np.uint8)\n",
    "y = np.array([0,0,1,1], np.uint8)\n",
    "\n",
    "print(np.bitwise_and(x,y))\n",
    "print(np.bitwise_or(x,y))\n",
    "print(np.bitwise_xor(x,y))\n",
    "print(np.bitwise_not(y))"
   ]
  },
  {
   "cell_type": "markdown",
   "metadata": {},
   "source": [
    "# Statistical and Arthematic Calculation"
   ]
  },
  {
   "cell_type": "code",
   "execution_count": 76,
   "metadata": {},
   "outputs": [
    {
     "data": {
      "text/plain": [
       "array([24, 32, 15, 36, 72, 55, 41, 41, 77, 20])"
      ]
     },
     "execution_count": 76,
     "metadata": {},
     "output_type": "execute_result"
    }
   ],
   "source": [
    "randArr = np.random.randint(10,100,10)\n",
    "randArr"
   ]
  },
  {
   "cell_type": "code",
   "execution_count": 77,
   "metadata": {},
   "outputs": [
    {
     "name": "stdout",
     "output_type": "stream",
     "text": [
      "Mean: 41.3\n",
      "Median: 38.5\n",
      "Average: 41.3\n",
      "Standard_Deviation: 19.91004771465905\n",
      "Variance: 396.41\n"
     ]
    }
   ],
   "source": [
    "print('Mean: {0}\\nMedian: {1}\\nAverage: {2}\\nStandard_Deviation: {3}\\nVariance: {4}'.format(\n",
    "    np.mean(randArr),\n",
    "    np.median(randArr),\n",
    "    np.average(randArr),\n",
    "    np.std(randArr),\n",
    "    np.var(randArr)))"
   ]
  },
  {
   "cell_type": "code",
   "execution_count": 78,
   "metadata": {},
   "outputs": [
    {
     "data": {
      "text/plain": [
       "(array([2, 1, 1, 1, 2, 0, 1, 0, 0, 2], dtype=int64),\n",
       " array([15. , 21.2, 27.4, 33.6, 39.8, 46. , 52.2, 58.4, 64.6, 70.8, 77. ]))"
      ]
     },
     "execution_count": 78,
     "metadata": {},
     "output_type": "execute_result"
    }
   ],
   "source": [
    "np.histogram(randArr)"
   ]
  },
  {
   "cell_type": "markdown",
   "metadata": {},
   "source": [
    "# Dot Product\n",
    "--> Array should always be 2 Dimensional to execute dot product.\n",
    "\n",
    "            <!-- e = np.linalg.multi_dot([a,b,c,d])\n",
    "                        print(e) -->\n",
    "                        Will throw the below error\n",
    "LinAlgError                               Traceback (most recent call last)\n",
    "<ipython-input-80-66f087b1270d> in <module>\n",
    "      1 # Array should always be 2 Dimensional to execute dot product\n",
    "----> 2 e = np.linalg.multi_dot([a,b,c,d])\n",
    "      3 e\n",
    "\n",
    "<__array_function__ internals> in multi_dot(*args, **kwargs)\n",
    "\n",
    "c:\\program files\\python37\\lib\\site-packages\\numpy\\linalg\\linalg.py in multi_dot(arrays)\n",
    "   2658     if arrays[-1].ndim == 1:\n",
    "   2659         arrays[-1] = atleast_2d(arrays[-1]).T\n",
    "-> 2660     _assert_2d(*arrays)\n",
    "   2661 \n",
    "   2662     # _multi_dot_three is much faster than _multi_dot_matrix_chain_order\n",
    "\n",
    "c:\\program files\\python37\\lib\\site-packages\\numpy\\linalg\\linalg.py in _assert_2d(*arrays)\n",
    "    199         if a.ndim != 2:\n",
    "    200             raise LinAlgError('%d-dimensional array given. Array must be '\n",
    "--> 201                     'two-dimensional' % a.ndim)\n",
    "    202 \n",
    "    203 def _assert_stacked_2d(*arrays):\n",
    "\n",
    "LinAlgError: 3-dimensional array given. Array must be two-dimensional\n"
   ]
  },
  {
   "cell_type": "code",
   "execution_count": 79,
   "metadata": {},
   "outputs": [
    {
     "name": "stdout",
     "output_type": "stream",
     "text": [
      "a:\n",
      "[[0.2332446  0.67379963 0.06810032]\n",
      " [0.36056905 0.35622203 0.4794675 ]\n",
      " [0.43790023 0.93753285 0.87739489]]\n",
      "DIM: (3, 3)\n",
      "-----------------\n",
      "\n",
      "b:\n",
      "[[0.60370021 0.64121573 0.98945431]\n",
      " [0.81625767 0.66653825 0.73469933]\n",
      " [0.2739682  0.84982048 0.10658646]]\n",
      "DIM: (3, 3)\n",
      "-----------------\n",
      "\n",
      "c:\n",
      "[[0.70946125 0.65654638 0.73308358]\n",
      " [0.63980343 0.87609946 0.66958743]\n",
      " [1.27000714 1.65131817 1.21560544]]\n",
      "DIM: (3, 3)\n",
      "Dot Product\n",
      "\n"
     ]
    }
   ],
   "source": [
    "##Equal size gives out equal original length\n",
    "a = np.random.rand(3,3)\n",
    "b = np.random.rand(3,3)\n",
    "print('a:\\n{0}\\nDIM: {1}\\n-----------------\\n'.format(a,a.shape))\n",
    "print('b:\\n{0}\\nDIM: {1}\\n-----------------\\n'.format(b,b.shape))\n",
    "c = np.dot(a,b)\n",
    "print('c:\\n{0}\\nDIM: {1}\\nDot Product\\n'.format(c,c.shape))"
   ]
  },
  {
   "cell_type": "code",
   "execution_count": 80,
   "metadata": {},
   "outputs": [
    {
     "name": "stdout",
     "output_type": "stream",
     "text": [
      "a:\n",
      "[[0.77286043 0.61451827 0.28872376]\n",
      " [0.73459485 0.70481962 0.16960319]\n",
      " [0.9978127  0.08817586 0.5568824 ]\n",
      " [0.18789536 0.15841896 0.00316382]\n",
      " [0.55061983 0.66257528 0.363117  ]]\n",
      "DIM: (5, 3)\n",
      "-----------------\n",
      "\n",
      "b:\n",
      "[[0.76756662 0.71055889 0.78642586]\n",
      " [0.30856238 0.48158812 0.39302238]\n",
      " [0.03173254 0.78160611 0.8372476 ]]\n",
      "DIM: (3, 3)\n",
      "-----------------\n",
      "\n",
      "c:\n",
      "[[0.79200103 1.07077581 1.09105014]\n",
      " [0.78671324 0.99396855 0.99671414]\n",
      " [0.81076676 1.18673182 1.28560925]\n",
      " [0.19320473 0.21227627 0.21267686]\n",
      " [0.63860583 0.99415066 0.99744742]]\n",
      "DIM: (5, 3)\n",
      "Dot Product\n",
      "\n"
     ]
    }
   ],
   "source": [
    "## Unequal length gives the Highest possible matrix shape\n",
    "a = np.random.rand(5,3)\n",
    "b = np.random.rand(3,3)\n",
    "print('a:\\n{0}\\nDIM: {1}\\n-----------------\\n'.format(a,a.shape))\n",
    "print('b:\\n{0}\\nDIM: {1}\\n-----------------\\n'.format(b,b.shape))\n",
    "d = np.dot(a,b)\n",
    "print('c:\\n{0}\\nDIM: {1}\\nDot Product\\n'.format(d,d.shape))"
   ]
  },
  {
   "cell_type": "code",
   "execution_count": 81,
   "metadata": {},
   "outputs": [
    {
     "name": "stdout",
     "output_type": "stream",
     "text": [
      "a:\n",
      "[[0.82030995 0.71882112 0.20535289]\n",
      " [0.47372342 0.03390547 0.33395692]\n",
      " [0.18454933 0.61036278 0.7761807 ]\n",
      " [0.67808356 0.15761609 0.84283199]\n",
      " [0.45419218 0.70828142 0.42828919]]\n",
      "DIM: (5, 3)\n",
      "-----------------\n",
      "\n",
      "b:\n",
      "[[0.5858466 ]\n",
      " [0.34176269]\n",
      " [0.19892214]]\n",
      "DIM: (3, 1)\n",
      "-----------------\n",
      "\n",
      "c:\n",
      "[[0.76709127]\n",
      " [0.3555483 ]\n",
      " [0.47111634]\n",
      " [0.61877819]\n",
      " [0.59334731]]\n",
      "DIM: (5, 1)\n",
      "Dot Product\n",
      "\n"
     ]
    }
   ],
   "source": [
    "a = np.random.rand(5,3)\n",
    "b = np.random.rand(3,1)\n",
    "print('a:\\n{0}\\nDIM: {1}\\n-----------------\\n'.format(a,a.shape))\n",
    "print('b:\\n{0}\\nDIM: {1}\\n-----------------\\n'.format(b,b.shape))\n",
    "e = np.dot(a,b)\n",
    "print('c:\\n{0}\\nDIM: {1}\\nDot Product\\n'.format(e,e.shape))"
   ]
  },
  {
   "cell_type": "markdown",
   "metadata": {},
   "source": [
    "                            <!-- a = np.random.rand(5,1)\n",
    "                            b = np.random.rand(3,3)\n",
    "                            print('a:\\n{0}\\nDIM: {1}\\n-----------------\\n'.format(a,a.shape))\n",
    "                            print('b:\\n{0}\\nDIM: {1}\\n-----------------\\n'.format(b,b.shape))\n",
    "                            c = np.dot(a,b)\n",
    "                            print('c:\\n{0}\\nDIM: {1}\\nDot Product\\n'.format(c,c.shape))\n",
    "                             -->\n",
    "The number of colums in the first matrix should match with the no of rows in second\n",
    "ValueError                                Traceback (most recent call last)\n",
    "<ipython-input-104-53d9a6edb776> in <module>\n",
    "      3 print('a:\\n{0}\\nDIM: {1}\\n-----------------\\n'.format(a,a.shape))\n",
    "      4 print('b:\\n{0}\\nDIM: {1}\\n-----------------\\n'.format(b,b.shape))\n",
    "----> 5 c = np.dot(a,b)\n",
    "      6 print('c:\\n{0}\\nDIM: {1}\\nDot Product\\n'.format(c,c.shape))\n",
    "\n",
    "<__array_function__ internals> in dot(*args, **kwargs)\n",
    "\n",
    "ValueError: shapes (5,1) and (3,3) not aligned: 1 (dim 1) != 3 (dim 0)"
   ]
  },
  {
   "cell_type": "markdown",
   "metadata": {},
   "source": [
    "While doing a Multi dot product oprtation, it works only if the number of colums's in dirst matrix is equal to number of rowa in second matris\n",
    "f = np.linalg.multi_dot([d,e,c])\n",
    "        else we would get below error\n",
    "\n",
    "ValueError                                Traceback (most recent call last)\n",
    "<ipython-input-111-be0a13f13e25> in <module>\n",
    "----> 1 f = np.linalg.multi_dot([d,e,c])\n",
    "\n",
    "<__array_function__ internals> in multi_dot(*args, **kwargs)\n",
    "\n",
    "c:\\program files\\python37\\lib\\site-packages\\numpy\\linalg\\linalg.py in multi_dot(arrays)\n",
    "   2662     # _multi_dot_three is much faster than _multi_dot_matrix_chain_order\n",
    "   2663     if n == 3:\n",
    "-> 2664         result = _multi_dot_three(arrays[0], arrays[1], arrays[2])\n",
    "   2665     else:\n",
    "   2666         order = _multi_dot_matrix_chain_order(arrays)\n",
    "\n",
    "c:\\program files\\python37\\lib\\site-packages\\numpy\\linalg\\linalg.py in _multi_dot_three(A, B, C)\n",
    "   2694         return dot(dot(A, B), C)\n",
    "   2695     else:\n",
    "-> 2696         return dot(A, dot(B, C))\n",
    "   2697 \n",
    "   2698 \n",
    "\n",
    "<__array_function__ internals> in dot(*args, **kwargs)\n",
    "\n",
    "ValueError: shapes (5,1) and (3,3) not aligned: 1 (dim 1) != 3 (dim 0)\n"
   ]
  },
  {
   "cell_type": "code",
   "execution_count": 82,
   "metadata": {},
   "outputs": [
    {
     "name": "stdout",
     "output_type": "stream",
     "text": [
      "Matrix G: \n",
      "[[27.16429269  6.01424165 30.07121142]\n",
      " [42.35857611  9.37839989 46.89370944]\n",
      " [44.79026595  9.91677975 49.58557211]\n",
      " [41.95110155  9.28821701 46.44332413]\n",
      " [43.55476697  9.64332652 48.21973849]]\n",
      "Type: <class 'numpy.ndarray'>\n",
      "Dimensions: 2\n",
      "Shape: (5, 3)\n",
      "Size: 15\n"
     ]
    }
   ],
   "source": [
    "## In the below example we could see that the Column length of first matrix is equal to Row length of second. \n",
    "a = np.random.rand(5,10)\n",
    "b = np.random.rand(10,7)\n",
    "c = np.random.rand(7,3)\n",
    "d = np.random.rand(3,5)\n",
    "e = np.random.rand(5,2)\n",
    "f = np.random.rand(2,3)\n",
    "\n",
    "g = np.linalg.multi_dot([a,b,c,d,e,f])\n",
    "\n",
    "print('Matrix G: \\n{0}\\nType: {1}\\nDimensions: {2}\\nShape: {3}\\nSize: {4}'.format(g,type(g),g.ndim,g.shape,g.size))"
   ]
  },
  {
   "cell_type": "markdown",
   "metadata": {},
   "source": [
    "# Vector Product"
   ]
  },
  {
   "cell_type": "markdown",
   "metadata": {},
   "source": [
    "The rules of dot would not apply for Vector. 'vdot' method is specifically designed for single dimension vector but not matrices or arrays, can also work for list, series object\n",
    "\n",
    "                       1. <!-- VectorG = np.vdot(a,b) -->\n",
    "\n",
    "ValueError                                Traceback (most recent call last)\n",
    "<ipython-input-85-a005b0a41e6b> in <module>\n",
    "----> 1 VectorG = np.vdot(a,b)\n",
    "\n",
    "<__array_function__ internals> in vdot(*args, **kwargs)\n",
    "\n",
    "ValueError: cannot reshape array of size 70 into shape (50,)"
   ]
  },
  {
   "cell_type": "code",
   "execution_count": 92,
   "metadata": {},
   "outputs": [
    {
     "name": "stdout",
     "output_type": "stream",
     "text": [
      "a: [3 7 1 2 3 5 3 4 5 5 7 2]\n",
      "b: [11 17 15 16 11 13 16 12 14 17 17 17]\n",
      "c: 701\n",
      "c.Shape: 1\n"
     ]
    }
   ],
   "source": [
    "a = np.random.randint(1,10,12)\n",
    "b = np.random.randint(11,20,12)\n",
    "c = np.vdot(a,b)\n",
    "print('a: {0}\\nb: {1}\\nc: {2}\\nc.Shape: {3}'.format(a,b,c,c.size))"
   ]
  },
  {
   "cell_type": "code",
   "execution_count": 93,
   "metadata": {},
   "outputs": [
    {
     "name": "stdout",
     "output_type": "stream",
     "text": [
      "a: [ 1. +5.j 10.+12.j]\n",
      "b: [11.+20.j 12. +1.j]\n",
      "c: (243-169j)\n",
      "c.Shape: 1\n",
      "\n",
      "d: (243-169j)\n",
      "d.Shape: 1\n"
     ]
    }
   ],
   "source": [
    "a = np.array([ 1 + 5j , 10 + 12j])\n",
    "b = np.array([ 11 + 20j , 12 + 1j])\n",
    "c = np.vdot(a,b)\n",
    "d = np.vdot(b,a)\n",
    "print('a: {0}\\nb: {1}\\nc: {2}\\nc.Shape: {3}'.format(a,b,c,c.size))\n",
    "print('\\nd: {0}\\nd.Shape: {1}'.format(c,c.size))"
   ]
  },
  {
   "cell_type": "code",
   "execution_count": 111,
   "metadata": {},
   "outputs": [
    {
     "data": {
      "text/plain": [
       "2"
      ]
     },
     "execution_count": 111,
     "metadata": {},
     "output_type": "execute_result"
    }
   ],
   "source": [
    "# Inner Product\n",
    "a = [1,1]\n",
    "b = [1,1]\n",
    "c = np.inner(a,b)\n",
    "c"
   ]
  },
  {
   "cell_type": "code",
   "execution_count": 126,
   "metadata": {},
   "outputs": [
    {
     "name": "stdout",
     "output_type": "stream",
     "text": [
      "a: [[0.85673336 0.59184079 0.51127339]\n",
      " [0.72309976 0.2895832  0.59275445]\n",
      " [0.31351627 0.35795678 0.52398562]]\n",
      "\n",
      "\n",
      "q: [[-0.73595413  0.28834405 -0.61255957]\n",
      " [-0.62115972 -0.64748415  0.44150297]\n",
      " [-0.26931786  0.70542327  0.65562635]]\n",
      "\n",
      "r: [[-1.16411244 -0.71184925 -0.88558764]\n",
      " [ 0.          0.23566428  0.13325517]\n",
      " [ 0.          0.          0.29205622]]\n"
     ]
    }
   ],
   "source": [
    "#Decomposition [dividing a matrix into two equal parts]\n",
    "a = np.array([[0.85673336, 0.59184079, 0.51127339], [0.72309976, 0.2895832,  0.59275445], [0.31351627, 0.35795678, 0.52398562]])\n",
    "print('a: {0}\\n'.format(a))\n",
    "q,r = np.linalg.qr(a)\n",
    "print('\\nq: {0}\\n\\nr: {1}'.format(q,r))"
   ]
  },
  {
   "cell_type": "code",
   "execution_count": 168,
   "metadata": {},
   "outputs": [
    {
     "name": "stdout",
     "output_type": "stream",
     "text": [
      "a: [[-14840  26481    659]\n",
      " [     0 -12728  26481]\n",
      " [   659      0 -14904]]\n",
      "\n",
      "\n",
      "q: [[-0.99901546  0.00407737  0.04417552]\n",
      " [ 0.         -0.99576745  0.09190854]\n",
      " [ 0.04436329  0.09181805  0.99478708]]\n",
      "\n",
      "r: [[ 14854.6249027  -26454.92852051  -1319.54163288]\n",
      " [     0.          12782.10084355 -27734.68719398]\n",
      " [     0.              0.         -12363.36500031]]\n"
     ]
    }
   ],
   "source": [
    "a = np.array([[-14840,  26481,    659],\n",
    "       [     0, -12728,  26481],\n",
    "       [   659,      0, -14904]], np.int16)\n",
    "print('a: {0}\\n'.format(a))\n",
    "q,r = np.linalg.qr(a)\n",
    "print('\\nq: {0}\\n\\nr: {1}'.format(q,r))"
   ]
  },
  {
   "cell_type": "code",
   "execution_count": null,
   "metadata": {},
   "outputs": [],
   "source": []
  },
  {
   "cell_type": "code",
   "execution_count": null,
   "metadata": {},
   "outputs": [],
   "source": []
  }
 ],
 "metadata": {
  "kernelspec": {
   "display_name": "Python 3",
   "language": "python",
   "name": "python3"
  },
  "language_info": {
   "codemirror_mode": {
    "name": "ipython",
    "version": 3
   },
   "file_extension": ".py",
   "mimetype": "text/x-python",
   "name": "python",
   "nbconvert_exporter": "python",
   "pygments_lexer": "ipython3",
   "version": "3.7.4"
  }
 },
 "nbformat": 4,
 "nbformat_minor": 4
}
