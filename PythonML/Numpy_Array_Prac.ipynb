{
 "cells": [
  {
   "cell_type": "code",
   "execution_count": 1,
   "metadata": {},
   "outputs": [],
   "source": [
    "import numpy as np"
   ]
  },
  {
   "cell_type": "markdown",
   "metadata": {},
   "source": [
    "# NumPy Constants"
   ]
  },
  {
   "cell_type": "code",
   "execution_count": 2,
   "metadata": {},
   "outputs": [
    {
     "name": "stdout",
     "output_type": "stream",
     "text": [
      "Inifinity (neg,pos): (-inf,inf)\n",
      "Zero (neg,pos): (-0.0,0.0)\n",
      "Pi: 3.141592653589793\n",
      "Euler Gamma: 0.5772156649015329\n",
      "Epsilon e: 2.718281828459045\n",
      "NotANumber: nan\n"
     ]
    }
   ],
   "source": [
    "print('Inifinity (neg,pos): ({0},{1})'.format(np.NINF,np.inf))\n",
    "print('Zero (neg,pos): ({0},{1})'.format(np.NZERO,np.PZERO))\n",
    "print('Pi: {0}\\nEuler Gamma: {1}\\nEpsilon e: {2}'.format(np.pi,np.euler_gamma,np.e))\n",
    "print('NotANumber: {0}'.format(np.nan))"
   ]
  },
  {
   "cell_type": "markdown",
   "metadata": {},
   "source": [
    "# Array: A collection of similar data types"
   ]
  },
  {
   "cell_type": "code",
   "execution_count": 3,
   "metadata": {},
   "outputs": [
    {
     "data": {
      "text/plain": [
       "array([[117, 115, 112],\n",
       "       [ 49,  48,  46],\n",
       "       [100, 108, 108]], dtype=uint16)"
      ]
     },
     "execution_count": 3,
     "metadata": {},
     "output_type": "execute_result"
    }
   ],
   "source": [
    "## Create an N dimensional array with random values\n",
    "ax = np.empty([3,3], np.uint16)\n",
    "ax"
   ]
  },
  {
   "cell_type": "code",
   "execution_count": 4,
   "metadata": {},
   "outputs": [
    {
     "data": {
      "text/plain": [
       "array([[[0.69231132, 0.94233029, 0.86142807],\n",
       "        [0.2269696 , 0.47024266, 0.24328621],\n",
       "        [0.0583185 , 0.18355402, 0.73590191]],\n",
       "\n",
       "       [[0.7995145 , 0.79287536, 0.41736813],\n",
       "        [0.5254392 , 0.25017577, 0.24221449],\n",
       "        [0.01970603, 0.47944518, 0.27652013]],\n",
       "\n",
       "       [[0.39547012, 0.11022923, 0.18287701],\n",
       "        [0.14105714, 0.25141821, 0.79544104],\n",
       "        [0.15610505, 0.79848312, 0.93024805]]])"
      ]
     },
     "execution_count": 4,
     "metadata": {},
     "output_type": "execute_result"
    }
   ],
   "source": [
    "# To generate a desired array with random numbers less than 1 used if noise must be introduced\n",
    "randArr = np.random.rand(3,3,3)\n",
    "randArr"
   ]
  },
  {
   "cell_type": "code",
   "execution_count": 5,
   "metadata": {},
   "outputs": [
    {
     "name": "stdout",
     "output_type": "stream",
     "text": [
      "size: 27\n",
      "shape: (3, 3, 3)\n"
     ]
    }
   ],
   "source": [
    "print('size: {0}\\nshape: {1}'.format(randArr.size,randArr.shape))"
   ]
  },
  {
   "cell_type": "code",
   "execution_count": 6,
   "metadata": {},
   "outputs": [
    {
     "data": {
      "text/plain": [
       "array([[1, 0, 0, 0, 0],\n",
       "       [0, 1, 0, 0, 0],\n",
       "       [0, 0, 1, 0, 0],\n",
       "       [0, 0, 0, 1, 0],\n",
       "       [0, 0, 0, 0, 1]], dtype=uint8)"
      ]
     },
     "execution_count": 6,
     "metadata": {},
     "output_type": "execute_result"
    }
   ],
   "source": [
    "## Create an array with the diagnol as 1\n",
    "bx = np.eye(5,dtype=np.uint8) \n",
    "bx\n",
    "## Similar to the below\n",
    "# bx = np.identity(5,dtype=np.uint8) \n",
    "# bx"
   ]
  },
  {
   "cell_type": "code",
   "execution_count": 7,
   "metadata": {},
   "outputs": [
    {
     "data": {
      "text/plain": [
       "array([[0, 1, 0, 0, 0],\n",
       "       [0, 0, 1, 0, 0],\n",
       "       [0, 0, 0, 1, 0],\n",
       "       [0, 0, 0, 0, 1],\n",
       "       [0, 0, 0, 0, 0]], dtype=uint8)"
      ]
     },
     "execution_count": 7,
     "metadata": {},
     "output_type": "execute_result"
    }
   ],
   "source": [
    "#To change the position of 1\n",
    "bx1 = np.eye(5, dtype=np.uint8 , k=1)\n",
    "bx1"
   ]
  },
  {
   "cell_type": "code",
   "execution_count": 8,
   "metadata": {},
   "outputs": [
    {
     "data": {
      "text/plain": [
       "array([[0, 0, 0, 0, 0],\n",
       "       [1, 0, 0, 0, 0],\n",
       "       [0, 1, 0, 0, 0],\n",
       "       [0, 0, 1, 0, 0],\n",
       "       [0, 0, 0, 1, 0]], dtype=uint8)"
      ]
     },
     "execution_count": 8,
     "metadata": {},
     "output_type": "execute_result"
    }
   ],
   "source": [
    "#To change the position of 1 down\n",
    "bx1a = np.eye(5, dtype=np.uint8 , k=-1)\n",
    "bx1a"
   ]
  },
  {
   "cell_type": "code",
   "execution_count": 9,
   "metadata": {},
   "outputs": [
    {
     "data": {
      "text/plain": [
       "array([[[1., 1., 1., 1., 1.],\n",
       "        [1., 1., 1., 1., 1.],\n",
       "        [1., 1., 1., 1., 1.]],\n",
       "\n",
       "       [[1., 1., 1., 1., 1.],\n",
       "        [1., 1., 1., 1., 1.],\n",
       "        [1., 1., 1., 1., 1.]],\n",
       "\n",
       "       [[1., 1., 1., 1., 1.],\n",
       "        [1., 1., 1., 1., 1.],\n",
       "        [1., 1., 1., 1., 1.]]])"
      ]
     },
     "execution_count": 9,
     "metadata": {},
     "output_type": "execute_result"
    }
   ],
   "source": [
    "## To create N dimentional matrix with elements as 1\n",
    "all1 = np.ones((3,3,5))\n",
    "all1"
   ]
  },
  {
   "cell_type": "code",
   "execution_count": 10,
   "metadata": {},
   "outputs": [
    {
     "data": {
      "text/plain": [
       "array([[[0., 0., 0., 0., 0.],\n",
       "        [0., 0., 0., 0., 0.],\n",
       "        [0., 0., 0., 0., 0.]],\n",
       "\n",
       "       [[0., 0., 0., 0., 0.],\n",
       "        [0., 0., 0., 0., 0.],\n",
       "        [0., 0., 0., 0., 0.]],\n",
       "\n",
       "       [[0., 0., 0., 0., 0.],\n",
       "        [0., 0., 0., 0., 0.],\n",
       "        [0., 0., 0., 0., 0.]]])"
      ]
     },
     "execution_count": 10,
     "metadata": {},
     "output_type": "execute_result"
    }
   ],
   "source": [
    "## To create N dimentional matrix with elements as 0\n",
    "all0= np.zeros((3,3,5))\n",
    "all0"
   ]
  },
  {
   "cell_type": "code",
   "execution_count": 11,
   "metadata": {
    "scrolled": true
   },
   "outputs": [
    {
     "data": {
      "text/plain": [
       "array([[[7, 7, 7],\n",
       "        [7, 7, 7],\n",
       "        [7, 7, 7]],\n",
       "\n",
       "       [[7, 7, 7],\n",
       "        [7, 7, 7],\n",
       "        [7, 7, 7]],\n",
       "\n",
       "       [[7, 7, 7],\n",
       "        [7, 7, 7],\n",
       "        [7, 7, 7]]], dtype=uint8)"
      ]
     },
     "execution_count": 11,
     "metadata": {},
     "output_type": "execute_result"
    }
   ],
   "source": [
    "## To create N dimentional matrix with desired elements\n",
    "allD = np.full((3,3,3),dtype=np.uint8,fill_value=7)\n",
    "allD"
   ]
  },
  {
   "cell_type": "code",
   "execution_count": 12,
   "metadata": {},
   "outputs": [
    {
     "data": {
      "text/plain": [
       "array([[1., 0., 0., 0., 0.],\n",
       "       [1., 1., 0., 0., 0.],\n",
       "       [1., 1., 1., 0., 0.],\n",
       "       [1., 1., 1., 1., 0.],\n",
       "       [1., 1., 1., 1., 1.]])"
      ]
     },
     "execution_count": 12,
     "metadata": {},
     "output_type": "execute_result"
    }
   ],
   "source": [
    "## Create a Triangular Matrix\n",
    "tri1 = np.tri(5,5,k=0)\n",
    "tri1"
   ]
  },
  {
   "cell_type": "code",
   "execution_count": 13,
   "metadata": {},
   "outputs": [
    {
     "data": {
      "text/plain": [
       "array([[117, 115, 112],\n",
       "       [  0,  48,  46],\n",
       "       [  0,   0, 108]], dtype=uint16)"
      ]
     },
     "execution_count": 13,
     "metadata": {},
     "output_type": "execute_result"
    }
   ],
   "source": [
    "## Upper Triangle\n",
    "ut = np.triu(ax,k=0)\n",
    "ut"
   ]
  },
  {
   "cell_type": "code",
   "execution_count": 14,
   "metadata": {},
   "outputs": [
    {
     "data": {
      "text/plain": [
       "array([[117,   0,   0],\n",
       "       [ 49,  48,   0],\n",
       "       [100, 108, 108]], dtype=uint16)"
      ]
     },
     "execution_count": 14,
     "metadata": {},
     "output_type": "execute_result"
    }
   ],
   "source": [
    "## Lower Triangle\n",
    "lt = np.tril(ax,k=0)\n",
    "lt"
   ]
  },
  {
   "cell_type": "markdown",
   "metadata": {},
   "source": [
    "Creation of custom arrays"
   ]
  },
  {
   "cell_type": "code",
   "execution_count": 15,
   "metadata": {},
   "outputs": [
    {
     "data": {
      "text/plain": [
       "array([1, 2, 3, 4, 5, 6], dtype=int8)"
      ]
     },
     "execution_count": 15,
     "metadata": {},
     "output_type": "execute_result"
    }
   ],
   "source": [
    "# Creating a unidirectional array with int16 datatype\n",
    "x = np.array([1,'2',3,4,5, 6] , np.int8)\n",
    "x # is equalent to x.view()"
   ]
  },
  {
   "cell_type": "code",
   "execution_count": 16,
   "metadata": {},
   "outputs": [
    {
     "name": "stdout",
     "output_type": "stream",
     "text": [
      "2\n",
      "int8\n"
     ]
    }
   ],
   "source": [
    "print(x[1])\n",
    "print(x[1].dtype)"
   ]
  },
  {
   "cell_type": "code",
   "execution_count": 17,
   "metadata": {},
   "outputs": [
    {
     "data": {
      "text/plain": [
       "1"
      ]
     },
     "execution_count": 17,
     "metadata": {},
     "output_type": "execute_result"
    }
   ],
   "source": [
    "## shows how many dimensions are there  in the array\n",
    "x.ndim"
   ]
  },
  {
   "cell_type": "code",
   "execution_count": 18,
   "metadata": {},
   "outputs": [
    {
     "data": {
      "text/plain": [
       "array([1, 2, 3, 4, 5, 6], dtype=int8)"
      ]
     },
     "execution_count": 18,
     "metadata": {},
     "output_type": "execute_result"
    }
   ],
   "source": [
    "## Transpose of the matrix\n",
    "x.T"
   ]
  },
  {
   "cell_type": "code",
   "execution_count": 19,
   "metadata": {},
   "outputs": [
    {
     "data": {
      "text/plain": [
       "array([[ 1,  2,  3,  4,  5],\n",
       "       [ 6,  7,  8,  9, 10]], dtype=int8)"
      ]
     },
     "execution_count": 19,
     "metadata": {},
     "output_type": "execute_result"
    }
   ],
   "source": [
    "x2 = np.array([[1,2,3,4,5], [6,7,8,9,10]], np.int8)\n",
    "x2"
   ]
  },
  {
   "cell_type": "code",
   "execution_count": 20,
   "metadata": {},
   "outputs": [
    {
     "data": {
      "text/plain": [
       "2"
      ]
     },
     "execution_count": 20,
     "metadata": {},
     "output_type": "execute_result"
    }
   ],
   "source": [
    "x2.ndim"
   ]
  },
  {
   "cell_type": "code",
   "execution_count": 21,
   "metadata": {},
   "outputs": [
    {
     "data": {
      "text/plain": [
       "dtype('int8')"
      ]
     },
     "execution_count": 21,
     "metadata": {},
     "output_type": "execute_result"
    }
   ],
   "source": [
    "# The data type of internal elements of the array\n",
    "x2.dtype"
   ]
  },
  {
   "cell_type": "markdown",
   "metadata": {},
   "source": [
    "The number of '[]' mentioned inside the array() method will decide the dimensions of the array, i.e for \n",
    "n number of dimensions use nnumber of []"
   ]
  },
  {
   "cell_type": "code",
   "execution_count": 22,
   "metadata": {},
   "outputs": [
    {
     "data": {
      "text/plain": [
       "array([[ 1,  2,  3,  4,  5],\n",
       "       [ 6,  7,  8,  9, 10]], dtype=int8)"
      ]
     },
     "execution_count": 22,
     "metadata": {},
     "output_type": "execute_result"
    }
   ],
   "source": [
    "x2.view()"
   ]
  },
  {
   "cell_type": "code",
   "execution_count": 23,
   "metadata": {},
   "outputs": [
    {
     "data": {
      "text/plain": [
       "array([[ 1,  6],\n",
       "       [ 2,  7],\n",
       "       [ 3,  8],\n",
       "       [ 4,  9],\n",
       "       [ 5, 10]], dtype=int8)"
      ]
     },
     "execution_count": 23,
     "metadata": {},
     "output_type": "execute_result"
    }
   ],
   "source": [
    "x2.T"
   ]
  },
  {
   "cell_type": "markdown",
   "metadata": {},
   "source": [
    "access values with nameofArray[ROWS,COLLUMNS]"
   ]
  },
  {
   "cell_type": "code",
   "execution_count": 24,
   "metadata": {},
   "outputs": [
    {
     "name": "stdout",
     "output_type": "stream",
     "text": [
      "First row of the array:  [1 2 3 4 5]\n",
      "Second row of the array: [ 6  7  8  9 10]\n",
      "its type is <class 'numpy.ndarray'>\n"
     ]
    }
   ],
   "source": [
    "# To access the elements of the array, \n",
    "print('First row of the array:  {0}\\nSecond row of the array: {1}\\nits type is {2}'.format(x2[0],x2[1],type(x2[0])))"
   ]
  },
  {
   "cell_type": "code",
   "execution_count": 25,
   "metadata": {},
   "outputs": [
    {
     "name": "stdout",
     "output_type": "stream",
     "text": [
      "Access Method 1 x2[1,3]:  9\n",
      "Access Method 2 x2[1][3]: 9\n",
      "Access Method 3 x2[[1],[3]]: [9]\n",
      "Access Type 1:  <class 'numpy.int8'>\n",
      "Access Type 2: <class 'numpy.int8'>\n",
      "Access Type 3: <class 'numpy.ndarray'>\n"
     ]
    }
   ],
   "source": [
    "## Printing the forth element of second row.\n",
    "print('Access Method 1 x2[1,3]:  {0}\\nAccess Method 2 x2[1][3]: {1}\\nAccess Method 3 x2[[1],[3]]: {2}'.format(x2[1,3],x2[1][3],x2[[1],[3]]))\n",
    "print('Access Type 1:  {0}\\nAccess Type 2: {1}\\nAccess Type 3: {2}'.format(type(x2[1,3]) , type(x2[1][3]) , type(x2[[1],[3]]) ))"
   ]
  },
  {
   "cell_type": "markdown",
   "metadata": {},
   "source": [
    "Slicing data from Array Objects"
   ]
  },
  {
   "cell_type": "code",
   "execution_count": 26,
   "metadata": {},
   "outputs": [
    {
     "name": "stdout",
     "output_type": "stream",
     "text": [
      "Access Method 1 x2[1,3]:  9\n",
      "Access Method 2 x2[1][3]: 9\n",
      "Access Method 3 x2[[1],[3]]: [9]\n",
      "Access Type 1:  <class 'numpy.int8'>\n",
      "Access Type 2: <class 'numpy.int8'>\n",
      "Access Type 3: <class 'numpy.ndarray'>\n"
     ]
    }
   ],
   "source": [
    "## Printing the forth element of second row.\n",
    "print('Access Method 1 x2[1,3]:  {0}\\nAccess Method 2 x2[1][3]: {1}\\nAccess Method 3 x2[[1],[3]]: {2}'.format(x2[1,3],x2[1][3],x2[[1],[3]]))\n",
    "print('Access Type 1:  {0}\\nAccess Type 2: {1}\\nAccess Type 3: {2}'.format(type(x2[1,3]) , type(x2[1][3]) , type(x2[[1],[3]]) ))"
   ]
  },
  {
   "cell_type": "code",
   "execution_count": 27,
   "metadata": {},
   "outputs": [
    {
     "data": {
      "text/plain": [
       "array([1, 6], dtype=int8)"
      ]
     },
     "execution_count": 27,
     "metadata": {},
     "output_type": "execute_result"
    }
   ],
   "source": [
    "#to print the  first column of the array\n",
    "x2[:,0]"
   ]
  },
  {
   "cell_type": "code",
   "execution_count": 28,
   "metadata": {},
   "outputs": [
    {
     "data": {
      "text/plain": [
       "array([2, 7], dtype=int8)"
      ]
     },
     "execution_count": 28,
     "metadata": {},
     "output_type": "execute_result"
    }
   ],
   "source": [
    "# Second column\n",
    "x2[:,1]"
   ]
  },
  {
   "cell_type": "code",
   "execution_count": 29,
   "metadata": {},
   "outputs": [
    {
     "data": {
      "text/plain": [
       "array([1, 2, 3, 4, 5], dtype=int8)"
      ]
     },
     "execution_count": 29,
     "metadata": {},
     "output_type": "execute_result"
    }
   ],
   "source": [
    "#To print the entire first row\n",
    "x2[0,:]"
   ]
  },
  {
   "cell_type": "code",
   "execution_count": 30,
   "metadata": {},
   "outputs": [
    {
     "data": {
      "text/plain": [
       "9"
      ]
     },
     "execution_count": 30,
     "metadata": {},
     "output_type": "execute_result"
    }
   ],
   "source": [
    "# To print an element of Second row fourth column\n",
    "x2[1,3]"
   ]
  },
  {
   "cell_type": "code",
   "execution_count": 31,
   "metadata": {},
   "outputs": [
    {
     "data": {
      "text/plain": [
       "array([2, 3, 4], dtype=int8)"
      ]
     },
     "execution_count": 31,
     "metadata": {},
     "output_type": "execute_result"
    }
   ],
   "source": [
    "# To print the elements of first row from second element to fourth element\n",
    "x2[0,1:4]"
   ]
  },
  {
   "cell_type": "code",
   "execution_count": 32,
   "metadata": {},
   "outputs": [
    {
     "data": {
      "text/plain": [
       "array([[2, 3, 4],\n",
       "       [7, 8, 9]], dtype=int8)"
      ]
     },
     "execution_count": 32,
     "metadata": {},
     "output_type": "execute_result"
    }
   ],
   "source": [
    "# To print the elements of array from all the rows but column 2 to 4\n",
    "x2[:,1:4]"
   ]
  },
  {
   "cell_type": "code",
   "execution_count": 33,
   "metadata": {},
   "outputs": [
    {
     "data": {
      "text/plain": [
       "(2, 5)"
      ]
     },
     "execution_count": 33,
     "metadata": {},
     "output_type": "execute_result"
    }
   ],
   "source": [
    "## Shape gives rows,columns value\n",
    "x2.shape"
   ]
  },
  {
   "cell_type": "code",
   "execution_count": 34,
   "metadata": {},
   "outputs": [
    {
     "data": {
      "text/plain": [
       "array([[ 1,  2,  3,  4,  5],\n",
       "       [ 6,  7,  8,  9, 10],\n",
       "       [11, 12, 13, 14, 15]], dtype=int8)"
      ]
     },
     "execution_count": 34,
     "metadata": {},
     "output_type": "execute_result"
    }
   ],
   "source": [
    "xNOT3D = np.array([[1,2,3,4,5], [6,7,8,9,10] , [11, 12, 13, 14, 15]], np.int8)\n",
    "xNOT3D"
   ]
  },
  {
   "cell_type": "code",
   "execution_count": 35,
   "metadata": {},
   "outputs": [
    {
     "name": "stdout",
     "output_type": "stream",
     "text": [
      "Dimensions: 2\n",
      "Shape: (3, 5)\n"
     ]
    }
   ],
   "source": [
    "print('Dimensions: {0}\\nShape: {1}'.format(xNOT3D.ndim,xNOT3D.shape))"
   ]
  },
  {
   "cell_type": "code",
   "execution_count": 36,
   "metadata": {},
   "outputs": [
    {
     "data": {
      "text/plain": [
       "array([[[ 1,  2,  3,  4,  5],\n",
       "        [ 6,  7,  8,  9, 10],\n",
       "        [11, 12, 13, 14, 15]],\n",
       "\n",
       "       [[11, 12, 13, 14, 15],\n",
       "        [ 1,  2,  3,  4,  5],\n",
       "        [ 6,  7,  8,  9, 10]],\n",
       "\n",
       "       [[ 6,  7,  8,  9, 10],\n",
       "        [11, 12, 13, 14, 15],\n",
       "        [ 1,  2,  3,  4,  5]]], dtype=int8)"
      ]
     },
     "execution_count": 36,
     "metadata": {},
     "output_type": "execute_result"
    }
   ],
   "source": [
    "x3 = np.array(\n",
    "    [\n",
    "        [\n",
    "            [1,2,3,4,5], [6,7,8,9,10] , [11, 12, 13, 14, 15] \n",
    "        ],\n",
    "        [\n",
    "           [11, 12, 13, 14, 15] ,  [1,2,3,4,5] , [6,7,8,9,10]\n",
    "        ],\n",
    "        [\n",
    "            [6,7,8,9,10] , [11, 12, 13, 14, 15] ,  [1,2,3,4,5]\n",
    "        ]\n",
    "    ]\n",
    "    , np.int8)\n",
    "x3"
   ]
  },
  {
   "cell_type": "code",
   "execution_count": 37,
   "metadata": {},
   "outputs": [
    {
     "name": "stdout",
     "output_type": "stream",
     "text": [
      "Dimensions: 3\n",
      "Shape: (3, 3, 5)\n"
     ]
    }
   ],
   "source": [
    "print('Dimensions: {0}\\nShape: {1}'.format(x3.ndim,x3.shape))"
   ]
  },
  {
   "cell_type": "code",
   "execution_count": 38,
   "metadata": {
    "scrolled": true
   },
   "outputs": [
    {
     "name": "stdout",
     "output_type": "stream",
     "text": [
      "From Dim 1 x3[0,2,1]: 12\n",
      "From Dim 2 x3[1,0,1]: 12\n",
      "From Dim 3 x3[2,1,1]: 12\n"
     ]
    }
   ],
   "source": [
    "## Print 12 from all the dimensions\n",
    "print('From Dim 1 x3[0,2,1]: {0}\\nFrom Dim 2 x3[1,0,1]: {1}\\nFrom Dim 3 x3[2,1,1]: {2}'.format(x3[0,2,1],x3[1,0,1],x3[2,1,1]))"
   ]
  },
  {
   "cell_type": "code",
   "execution_count": 39,
   "metadata": {},
   "outputs": [
    {
     "data": {
      "text/plain": [
       "array([[ 1,  2,  3],\n",
       "       [ 6,  7,  8],\n",
       "       [11, 12, 13]], dtype=int8)"
      ]
     },
     "execution_count": 39,
     "metadata": {},
     "output_type": "execute_result"
    }
   ],
   "source": [
    "x3[0,:,0:3]"
   ]
  },
  {
   "cell_type": "code",
   "execution_count": 40,
   "metadata": {},
   "outputs": [
    {
     "data": {
      "text/plain": [
       "array([[[ 1,  2,  3],\n",
       "        [ 6,  7,  8],\n",
       "        [11, 12, 13]],\n",
       "\n",
       "       [[11, 12, 13],\n",
       "        [ 1,  2,  3],\n",
       "        [ 6,  7,  8]],\n",
       "\n",
       "       [[ 6,  7,  8],\n",
       "        [11, 12, 13],\n",
       "        [ 1,  2,  3]]], dtype=int8)"
      ]
     },
     "execution_count": 40,
     "metadata": {},
     "output_type": "execute_result"
    }
   ],
   "source": [
    "x3[:,:,0:3]"
   ]
  },
  {
   "cell_type": "code",
   "execution_count": 41,
   "metadata": {},
   "outputs": [
    {
     "data": {
      "text/plain": [
       "array([[[ 2],\n",
       "        [ 7],\n",
       "        [12]],\n",
       "\n",
       "       [[12],\n",
       "        [ 2],\n",
       "        [ 7]],\n",
       "\n",
       "       [[ 7],\n",
       "        [12],\n",
       "        [ 2]]], dtype=int8)"
      ]
     },
     "execution_count": 41,
     "metadata": {},
     "output_type": "execute_result"
    }
   ],
   "source": [
    "x3[:,:,1:2]"
   ]
  },
  {
   "cell_type": "code",
   "execution_count": 42,
   "metadata": {},
   "outputs": [
    {
     "data": {
      "text/plain": [
       "array([[ 7],\n",
       "       [12],\n",
       "       [ 2]], dtype=int8)"
      ]
     },
     "execution_count": 42,
     "metadata": {},
     "output_type": "execute_result"
    }
   ],
   "source": [
    "x3[:,:,1:2][2]"
   ]
  },
  {
   "cell_type": "code",
   "execution_count": 43,
   "metadata": {},
   "outputs": [
    {
     "data": {
      "text/plain": [
       "array([7], dtype=int8)"
      ]
     },
     "execution_count": 43,
     "metadata": {},
     "output_type": "execute_result"
    }
   ],
   "source": [
    "x3[:,:,1:2][2][0]"
   ]
  },
  {
   "cell_type": "code",
   "execution_count": 44,
   "metadata": {},
   "outputs": [
    {
     "data": {
      "text/plain": [
       "array([[[ 1, 11,  6],\n",
       "        [ 6,  1, 11],\n",
       "        [11,  6,  1]],\n",
       "\n",
       "       [[ 2, 12,  7],\n",
       "        [ 7,  2, 12],\n",
       "        [12,  7,  2]],\n",
       "\n",
       "       [[ 3, 13,  8],\n",
       "        [ 8,  3, 13],\n",
       "        [13,  8,  3]],\n",
       "\n",
       "       [[ 4, 14,  9],\n",
       "        [ 9,  4, 14],\n",
       "        [14,  9,  4]],\n",
       "\n",
       "       [[ 5, 15, 10],\n",
       "        [10,  5, 15],\n",
       "        [15, 10,  5]]], dtype=int8)"
      ]
     },
     "execution_count": 44,
     "metadata": {},
     "output_type": "execute_result"
    }
   ],
   "source": [
    "x3.T"
   ]
  },
  {
   "cell_type": "code",
   "execution_count": 45,
   "metadata": {},
   "outputs": [
    {
     "data": {
      "text/plain": [
       "array([[[[list([20, 21, 22, 23, 24]), list([25, 26, 27, 28, 29, 30]),\n",
       "          list([31, 32, 33, 34, 35])],\n",
       "         [list([1, 2, 3, 4, 5]), list([6, 7, 8, 9, 10]),\n",
       "          list([11, 12, 13, 14, 15])],\n",
       "         [list([11, 12, 13, 14, 15]), list([1, 2, 3, 4, 5]),\n",
       "          list([6, 7, 8, 9, 10])],\n",
       "         [list([6, 7, 8, 9, 10]), list([11, 12, 13, 14, 15]),\n",
       "          list([1, 2, 3, 4, 5])],\n",
       "         [list([20, 21, 22, 23, 24]), list([25, 26, 27, 28, 29, 30]),\n",
       "          list([31, 32, 33, 34, 35])]],\n",
       "\n",
       "        [[list([20, 21, 22, 23, 24]), list([25, 26, 27, 28, 29, 30]),\n",
       "          list([31, 32, 33, 34, 35])],\n",
       "         [list([1, 2, 3, 4, 5]), list([6, 7, 8, 9, 10]),\n",
       "          list([11, 12, 13, 14, 15])],\n",
       "         [list([11, 12, 13, 14, 15]), list([1, 2, 3, 4, 5]),\n",
       "          list([6, 7, 8, 9, 10])],\n",
       "         [list([6, 7, 8, 9, 10]), list([11, 12, 13, 14, 15]),\n",
       "          list([1, 2, 3, 4, 5])],\n",
       "         [list([20, 21, 22, 23, 24]), list([25, 26, 27, 28, 29, 30]),\n",
       "          list([31, 32, 33, 34, 35])]],\n",
       "\n",
       "        [[list([20, 21, 22, 23, 24]), list([25, 26, 27, 28, 29, 30]),\n",
       "          list([31, 32, 33, 34, 35])],\n",
       "         [list([1, 2, 3, 4, 5]), list([6, 7, 8, 9, 10]),\n",
       "          list([11, 12, 13, 14, 15])],\n",
       "         [list([11, 12, 13, 14, 15]), list([1, 2, 3, 4, 5]),\n",
       "          list([6, 7, 8, 9, 10])],\n",
       "         [list([6, 7, 8, 9, 10]), list([11, 12, 13, 14, 15]),\n",
       "          list([1, 2, 3, 4, 5])],\n",
       "         [list([20, 21, 22, 23, 24]), list([25, 26, 27, 28, 29, 30]),\n",
       "          list([31, 32, 33, 34, 35])]],\n",
       "\n",
       "        [[list([20, 21, 22, 23, 24]), list([25, 26, 27, 28, 29, 30]),\n",
       "          list([31, 32, 33, 34, 35])],\n",
       "         [list([1, 2, 3, 4, 5]), list([6, 7, 8, 9, 10]),\n",
       "          list([11, 12, 13, 14, 15])],\n",
       "         [list([11, 12, 13, 14, 15]), list([1, 2, 3, 4, 5]),\n",
       "          list([6, 7, 8, 9, 10])],\n",
       "         [list([6, 7, 8, 9, 10]), list([11, 12, 13, 14, 15]),\n",
       "          list([1, 2, 3, 4, 5])],\n",
       "         [list([20, 21, 22, 23, 24]), list([25, 26, 27, 28, 29, 30]),\n",
       "          list([31, 32, 33, 34, 35])]]],\n",
       "\n",
       "\n",
       "       [[[list([20, 21, 22, 23, 24]), list([25, 26, 27, 28, 29, 30]),\n",
       "          list([31, 32, 33, 34, 35])],\n",
       "         [list([1, 2, 3, 4, 5]), list([6, 7, 8, 9, 10]),\n",
       "          list([11, 12, 13, 14, 15])],\n",
       "         [list([11, 12, 13, 14, 15]), list([1, 2, 3, 4, 5]),\n",
       "          list([6, 7, 8, 9, 10])],\n",
       "         [list([6, 7, 8, 9, 10]), list([11, 12, 13, 14, 15]),\n",
       "          list([1, 2, 3, 4, 5])],\n",
       "         [list([20, 21, 22, 23, 24]), list([25, 26, 27, 28, 29, 30]),\n",
       "          list([31, 32, 33, 34, 35])]],\n",
       "\n",
       "        [[list([20, 21, 22, 23, 24]), list([25, 26, 27, 28, 29, 30]),\n",
       "          list([31, 32, 33, 34, 35])],\n",
       "         [list([1, 2, 3, 4, 5]), list([6, 7, 8, 9, 10]),\n",
       "          list([11, 12, 13, 14, 15])],\n",
       "         [list([11, 12, 13, 14, 15]), list([1, 2, 3, 4, 5]),\n",
       "          list([6, 7, 8, 9, 10])],\n",
       "         [list([6, 7, 8, 9, 10]), list([11, 12, 13, 14, 15]),\n",
       "          list([1, 2, 3, 4, 5])],\n",
       "         [list([20, 21, 22, 23, 24]), list([25, 26, 27, 28, 29, 30]),\n",
       "          list([31, 32, 33, 34, 35])]],\n",
       "\n",
       "        [[list([20, 21, 22, 23, 24]), list([25, 26, 27, 28, 29, 30]),\n",
       "          list([31, 32, 33, 34, 35])],\n",
       "         [list([1, 2, 3, 4, 5]), list([6, 7, 8, 9, 10]),\n",
       "          list([11, 12, 13, 14, 15])],\n",
       "         [list([11, 12, 13, 14, 15]), list([1, 2, 3, 4, 5]),\n",
       "          list([6, 7, 8, 9, 10])],\n",
       "         [list([6, 7, 8, 9, 10]), list([11, 12, 13, 14, 15]),\n",
       "          list([1, 2, 3, 4, 5])],\n",
       "         [list([20, 21, 22, 23, 24]), list([25, 26, 27, 28, 29, 30]),\n",
       "          list([31, 32, 33, 34, 35])]],\n",
       "\n",
       "        [[list([20, 21, 22, 23, 24]), list([25, 26, 27, 28, 29, 30]),\n",
       "          list([31, 32, 33, 34, 35])],\n",
       "         [list([1, 2, 3, 4, 5]), list([6, 7, 8, 9, 10]),\n",
       "          list([11, 12, 13, 14, 15])],\n",
       "         [list([11, 12, 13, 14, 15]), list([1, 2, 3, 4, 5]),\n",
       "          list([6, 7, 8, 9, 10])],\n",
       "         [list([6, 7, 8, 9, 10]), list([11, 12, 13, 14, 15]),\n",
       "          list([1, 2, 3, 4, 5])],\n",
       "         [list([20, 21, 22, 23, 24]), list([25, 26, 27, 28, 29, 30]),\n",
       "          list([31, 32, 33, 34, 35])]]],\n",
       "\n",
       "\n",
       "       [[[list([20, 21, 22, 23, 24]), list([25, 26, 27, 28, 29, 30]),\n",
       "          list([31, 32, 33, 34, 35])],\n",
       "         [list([1, 2, 3, 4, 5]), list([6, 7, 8, 9, 10]),\n",
       "          list([11, 12, 13, 14, 15])],\n",
       "         [list([11, 12, 13, 14, 15]), list([1, 2, 3, 4, 5]),\n",
       "          list([6, 7, 8, 9, 10])],\n",
       "         [list([6, 7, 8, 9, 10]), list([11, 12, 13, 14, 15]),\n",
       "          list([1, 2, 3, 4, 5])],\n",
       "         [list([20, 21, 22, 23, 24]), list([25, 26, 27, 28, 29, 30]),\n",
       "          list([31, 32, 33, 34, 35])]],\n",
       "\n",
       "        [[list([20, 21, 22, 23, 24]), list([25, 26, 27, 28, 29, 30]),\n",
       "          list([31, 32, 33, 34, 35])],\n",
       "         [list([1, 2, 3, 4, 5]), list([6, 7, 8, 9, 10]),\n",
       "          list([11, 12, 13, 14, 15])],\n",
       "         [list([11, 12, 13, 14, 15]), list([1, 2, 3, 4, 5]),\n",
       "          list([6, 7, 8, 9, 10])],\n",
       "         [list([6, 7, 8, 9, 10]), list([11, 12, 13, 14, 15]),\n",
       "          list([1, 2, 3, 4, 5])],\n",
       "         [list([20, 21, 22, 23, 24]), list([25, 26, 27, 28, 29, 30]),\n",
       "          list([31, 32, 33, 34, 35])]],\n",
       "\n",
       "        [[list([20, 21, 22, 23, 24]), list([25, 26, 27, 28, 29, 30]),\n",
       "          list([31, 32, 33, 34, 35])],\n",
       "         [list([1, 2, 3, 4, 5]), list([6, 7, 8, 9, 10]),\n",
       "          list([11, 12, 13, 14, 15])],\n",
       "         [list([11, 12, 13, 14, 15]), list([1, 2, 3, 4, 5]),\n",
       "          list([6, 7, 8, 9, 10])],\n",
       "         [list([6, 7, 8, 9, 10]), list([11, 12, 13, 14, 15]),\n",
       "          list([1, 2, 3, 4, 5])],\n",
       "         [list([20, 21, 22, 23, 24]), list([25, 26, 27, 28, 29, 30]),\n",
       "          list([31, 32, 33, 34, 35])]],\n",
       "\n",
       "        [[list([20, 21, 22, 23, 24]), list([25, 26, 27, 28, 29, 30]),\n",
       "          list([31, 32, 33, 34, 35])],\n",
       "         [list([1, 2, 3, 4, 5]), list([6, 7, 8, 9, 10]),\n",
       "          list([11, 12, 13, 14, 15])],\n",
       "         [list([11, 12, 13, 14, 15]), list([1, 2, 3, 4, 5]),\n",
       "          list([6, 7, 8, 9, 10])],\n",
       "         [list([6, 7, 8, 9, 10]), list([11, 12, 13, 14, 15]),\n",
       "          list([1, 2, 3, 4, 5])],\n",
       "         [list([20, 21, 22, 23, 24]), list([25, 26, 27, 28, 29, 30]),\n",
       "          list([31, 32, 33, 34, 35])]]],\n",
       "\n",
       "\n",
       "       [[[list([20, 21, 22, 23, 24]), list([25, 26, 27, 28, 29, 30]),\n",
       "          list([31, 32, 33, 34, 35])],\n",
       "         [list([1, 2, 3, 4, 5]), list([6, 7, 8, 9, 10]),\n",
       "          list([11, 12, 13, 14, 15])],\n",
       "         [list([11, 12, 13, 14, 15]), list([1, 2, 3, 4, 5]),\n",
       "          list([6, 7, 8, 9, 10])],\n",
       "         [list([6, 7, 8, 9, 10]), list([11, 12, 13, 14, 15]),\n",
       "          list([1, 2, 3, 4, 5])],\n",
       "         [list([20, 21, 22, 23, 24]), list([25, 26, 27, 28, 29, 30]),\n",
       "          list([31, 32, 33, 34, 35])]],\n",
       "\n",
       "        [[list([20, 21, 22, 23, 24]), list([25, 26, 27, 28, 29, 30]),\n",
       "          list([31, 32, 33, 34, 35])],\n",
       "         [list([1, 2, 3, 4, 5]), list([6, 7, 8, 9, 10]),\n",
       "          list([11, 12, 13, 14, 15])],\n",
       "         [list([11, 12, 13, 14, 15]), list([1, 2, 3, 4, 5]),\n",
       "          list([6, 7, 8, 9, 10])],\n",
       "         [list([6, 7, 8, 9, 10]), list([11, 12, 13, 14, 15]),\n",
       "          list([1, 2, 3, 4, 5])],\n",
       "         [list([20, 21, 22, 23, 24]), list([25, 26, 27, 28, 29, 30]),\n",
       "          list([31, 32, 33, 34, 35])]],\n",
       "\n",
       "        [[list([20, 21, 22, 23, 24]), list([25, 26, 27, 28, 29, 30]),\n",
       "          list([31, 32, 33, 34, 35])],\n",
       "         [list([1, 2, 3, 4, 5]), list([6, 7, 8, 9, 10]),\n",
       "          list([11, 12, 13, 14, 15])],\n",
       "         [list([11, 12, 13, 14, 15]), list([1, 2, 3, 4, 5]),\n",
       "          list([6, 7, 8, 9, 10])],\n",
       "         [list([6, 7, 8, 9, 10]), list([11, 12, 13, 14, 15]),\n",
       "          list([1, 2, 3, 4, 5])],\n",
       "         [list([20, 21, 22, 23, 24]), list([25, 26, 27, 28, 29, 30]),\n",
       "          list([31, 32, 33, 34, 35])]],\n",
       "\n",
       "        [[list([20, 21, 22, 23, 24]), list([25, 26, 27, 28, 29, 30]),\n",
       "          list([31, 32, 33, 34, 35])],\n",
       "         [list([1, 2, 3, 4, 5]), list([6, 7, 8, 9, 10]),\n",
       "          list([11, 12, 13, 14, 15])],\n",
       "         [list([11, 12, 13, 14, 15]), list([1, 2, 3, 4, 5]),\n",
       "          list([6, 7, 8, 9, 10])],\n",
       "         [list([6, 7, 8, 9, 10]), list([11, 12, 13, 14, 15]),\n",
       "          list([1, 2, 3, 4, 5])],\n",
       "         [list([20, 21, 22, 23, 24]), list([25, 26, 27, 28, 29, 30]),\n",
       "          list([31, 32, 33, 34, 35])]]]], dtype=object)"
      ]
     },
     "execution_count": 45,
     "metadata": {},
     "output_type": "execute_result"
    }
   ],
   "source": [
    "x4 = np.array(\n",
    "    \n",
    "[    [\n",
    "## One Dimenssion\n",
    "        [\n",
    "        [\n",
    "            [20,21,22,23,24] , [25,26,27,28,29,30] , [31,32,33,34,35]\n",
    "        ],\n",
    "        [\n",
    "            [1,2,3,4,5], [6,7,8,9,10] , [11, 12, 13, 14, 15]\n",
    "        ],\n",
    "        [\n",
    "           [11, 12, 13, 14, 15] ,  [1,2,3,4,5] , [6,7,8,9,10]\n",
    "        ],\n",
    "        [\n",
    "            [6,7,8,9,10] , [11, 12, 13, 14, 15] ,  [1,2,3,4,5]\n",
    "        ],       \n",
    "        [\n",
    "            [20,21,22,23,24] , [25,26,27,28,29,30] , [31,32,33,34,35]\n",
    "        ]            \n",
    "        ],\n",
    "##End One Dimenssion        \n",
    "\n",
    "## Two Dimenssion        \n",
    "        [       \n",
    "        [\n",
    "            [20,21,22,23,24] , [25,26,27,28,29,30] , [31,32,33,34,35]\n",
    "        ],\n",
    "        [\n",
    "            [1,2,3,4,5], [6,7,8,9,10] , [11, 12, 13, 14, 15]\n",
    "        ],\n",
    "        [\n",
    "           [11, 12, 13, 14, 15] ,  [1,2,3,4,5] , [6,7,8,9,10]\n",
    "        ],\n",
    "        [\n",
    "            [6,7,8,9,10] , [11, 12, 13, 14, 15] ,  [1,2,3,4,5]\n",
    "        ],       \n",
    "        [\n",
    "            [20,21,22,23,24] , [25,26,27,28,29,30] , [31,32,33,34,35]\n",
    "        ]\n",
    "        ],\n",
    "##End of Two Dimenssion        \n",
    "        \n",
    "## Three Dimenssion        \n",
    "        [\n",
    "             [\n",
    "            [20,21,22,23,24] , [25,26,27,28,29,30] , [31,32,33,34,35]\n",
    "        ],\n",
    "        [\n",
    "            [1,2,3,4,5], [6,7,8,9,10] , [11, 12, 13, 14, 15]\n",
    "        ],\n",
    "        [\n",
    "           [11, 12, 13, 14, 15] ,  [1,2,3,4,5] , [6,7,8,9,10]\n",
    "        ],\n",
    "        [\n",
    "            [6,7,8,9,10] , [11, 12, 13, 14, 15] ,  [1,2,3,4,5]\n",
    "        ],       \n",
    "        \n",
    "        [\n",
    "            [20,21,22,23,24] , [25,26,27,28,29,30] , [31,32,33,34,35]\n",
    "        ]\n",
    "            \n",
    "        ],\n",
    "##End of Three Dimenssion           \n",
    "\n",
    "## Fourth Dimenssion        \n",
    "        [\n",
    "             [\n",
    "            [20,21,22,23,24] , [25,26,27,28,29,30] , [31,32,33,34,35]\n",
    "        ],\n",
    "        [\n",
    "            [1,2,3,4,5], [6,7,8,9,10] , [11, 12, 13, 14, 15]\n",
    "        ],\n",
    "        [\n",
    "           [11, 12, 13, 14, 15] ,  [1,2,3,4,5] , [6,7,8,9,10]\n",
    "        ],\n",
    "        [\n",
    "            [6,7,8,9,10] , [11, 12, 13, 14, 15] ,  [1,2,3,4,5]\n",
    "        ],       \n",
    "        \n",
    "        [\n",
    "            [20,21,22,23,24] , [25,26,27,28,29,30] , [31,32,33,34,35]\n",
    "        ]\n",
    "            \n",
    "        ]\n",
    "## End of Fourth\n",
    "        \n",
    "    ],\n",
    "\n",
    "    [\n",
    "## One Dimenssion\n",
    "        [\n",
    "        [\n",
    "            [20,21,22,23,24] , [25,26,27,28,29,30] , [31,32,33,34,35]\n",
    "        ],\n",
    "        [\n",
    "            [1,2,3,4,5], [6,7,8,9,10] , [11, 12, 13, 14, 15]\n",
    "        ],\n",
    "        [\n",
    "           [11, 12, 13, 14, 15] ,  [1,2,3,4,5] , [6,7,8,9,10]\n",
    "        ],\n",
    "        [\n",
    "            [6,7,8,9,10] , [11, 12, 13, 14, 15] ,  [1,2,3,4,5]\n",
    "        ],       \n",
    "        [\n",
    "            [20,21,22,23,24] , [25,26,27,28,29,30] , [31,32,33,34,35]\n",
    "        ]            \n",
    "        ],\n",
    "##End One Dimenssion        \n",
    "\n",
    "## Two Dimenssion        \n",
    "        [       \n",
    "        [\n",
    "            [20,21,22,23,24] , [25,26,27,28,29,30] , [31,32,33,34,35]\n",
    "        ],\n",
    "        [\n",
    "            [1,2,3,4,5], [6,7,8,9,10] , [11, 12, 13, 14, 15]\n",
    "        ],\n",
    "        [\n",
    "           [11, 12, 13, 14, 15] ,  [1,2,3,4,5] , [6,7,8,9,10]\n",
    "        ],\n",
    "        [\n",
    "            [6,7,8,9,10] , [11, 12, 13, 14, 15] ,  [1,2,3,4,5]\n",
    "        ],       \n",
    "        [\n",
    "            [20,21,22,23,24] , [25,26,27,28,29,30] , [31,32,33,34,35]\n",
    "        ]\n",
    "        ],\n",
    "##End of Two Dimenssion        \n",
    "        \n",
    "## Three Dimenssion        \n",
    "        [\n",
    "             [\n",
    "            [20,21,22,23,24] , [25,26,27,28,29,30] , [31,32,33,34,35]\n",
    "        ],\n",
    "        [\n",
    "            [1,2,3,4,5], [6,7,8,9,10] , [11, 12, 13, 14, 15]\n",
    "        ],\n",
    "        [\n",
    "           [11, 12, 13, 14, 15] ,  [1,2,3,4,5] , [6,7,8,9,10]\n",
    "        ],\n",
    "        [\n",
    "            [6,7,8,9,10] , [11, 12, 13, 14, 15] ,  [1,2,3,4,5]\n",
    "        ],       \n",
    "        \n",
    "        [\n",
    "            [20,21,22,23,24] , [25,26,27,28,29,30] , [31,32,33,34,35]\n",
    "        ]\n",
    "            \n",
    "        ],\n",
    "##End of Three Dimenssion           \n",
    "\n",
    "## Fourth Dimenssion        \n",
    "        [\n",
    "             [\n",
    "            [20,21,22,23,24] , [25,26,27,28,29,30] , [31,32,33,34,35]\n",
    "        ],\n",
    "        [\n",
    "            [1,2,3,4,5], [6,7,8,9,10] , [11, 12, 13, 14, 15]\n",
    "        ],\n",
    "        [\n",
    "           [11, 12, 13, 14, 15] ,  [1,2,3,4,5] , [6,7,8,9,10]\n",
    "        ],\n",
    "        [\n",
    "            [6,7,8,9,10] , [11, 12, 13, 14, 15] ,  [1,2,3,4,5]\n",
    "        ],       \n",
    "        \n",
    "        [\n",
    "            [20,21,22,23,24] , [25,26,27,28,29,30] , [31,32,33,34,35]\n",
    "        ]\n",
    "            \n",
    "        ]\n",
    "## End of Fourth\n",
    "        \n",
    "    ],\n",
    "    \n",
    "[\n",
    "## One Dimenssion\n",
    "        [\n",
    "        [\n",
    "            [20,21,22,23,24] , [25,26,27,28,29,30] , [31,32,33,34,35]\n",
    "        ],\n",
    "        [\n",
    "            [1,2,3,4,5], [6,7,8,9,10] , [11, 12, 13, 14, 15]\n",
    "        ],\n",
    "        [\n",
    "           [11, 12, 13, 14, 15] ,  [1,2,3,4,5] , [6,7,8,9,10]\n",
    "        ],\n",
    "        [\n",
    "            [6,7,8,9,10] , [11, 12, 13, 14, 15] ,  [1,2,3,4,5]\n",
    "        ],       \n",
    "        [\n",
    "            [20,21,22,23,24] , [25,26,27,28,29,30] , [31,32,33,34,35]\n",
    "        ]            \n",
    "        ],\n",
    "##End One Dimenssion        \n",
    "\n",
    "## Two Dimenssion        \n",
    "        [       \n",
    "        [\n",
    "            [20,21,22,23,24] , [25,26,27,28,29,30] , [31,32,33,34,35]\n",
    "        ],\n",
    "        [\n",
    "            [1,2,3,4,5], [6,7,8,9,10] , [11, 12, 13, 14, 15]\n",
    "        ],\n",
    "        [\n",
    "           [11, 12, 13, 14, 15] ,  [1,2,3,4,5] , [6,7,8,9,10]\n",
    "        ],\n",
    "        [\n",
    "            [6,7,8,9,10] , [11, 12, 13, 14, 15] ,  [1,2,3,4,5]\n",
    "        ],       \n",
    "        [\n",
    "            [20,21,22,23,24] , [25,26,27,28,29,30] , [31,32,33,34,35]\n",
    "        ]\n",
    "        ],\n",
    "##End of Two Dimenssion        \n",
    "        \n",
    "## Three Dimenssion        \n",
    "        [\n",
    "             [\n",
    "            [20,21,22,23,24] , [25,26,27,28,29,30] , [31,32,33,34,35]\n",
    "        ],\n",
    "        [\n",
    "            [1,2,3,4,5], [6,7,8,9,10] , [11, 12, 13, 14, 15]\n",
    "        ],\n",
    "        [\n",
    "           [11, 12, 13, 14, 15] ,  [1,2,3,4,5] , [6,7,8,9,10]\n",
    "        ],\n",
    "        [\n",
    "            [6,7,8,9,10] , [11, 12, 13, 14, 15] ,  [1,2,3,4,5]\n",
    "        ],       \n",
    "        \n",
    "        [\n",
    "            [20,21,22,23,24] , [25,26,27,28,29,30] , [31,32,33,34,35]\n",
    "        ]\n",
    "            \n",
    "        ],\n",
    "##End of Three Dimenssion           \n",
    "\n",
    "## Fourth Dimenssion        \n",
    "        [\n",
    "             [\n",
    "            [20,21,22,23,24] , [25,26,27,28,29,30] , [31,32,33,34,35]\n",
    "        ],\n",
    "        [\n",
    "            [1,2,3,4,5], [6,7,8,9,10] , [11, 12, 13, 14, 15]\n",
    "        ],\n",
    "        [\n",
    "           [11, 12, 13, 14, 15] ,  [1,2,3,4,5] , [6,7,8,9,10]\n",
    "        ],\n",
    "        [\n",
    "            [6,7,8,9,10] , [11, 12, 13, 14, 15] ,  [1,2,3,4,5]\n",
    "        ],       \n",
    "        \n",
    "        [\n",
    "            [20,21,22,23,24] , [25,26,27,28,29,30] , [31,32,33,34,35]\n",
    "        ]\n",
    "            \n",
    "        ]\n",
    "## End of Fourth\n",
    "        \n",
    "    ],\n",
    "    \n",
    "[\n",
    "## One Dimenssion\n",
    "        [\n",
    "        [\n",
    "            [20,21,22,23,24] , [25,26,27,28,29,30] , [31,32,33,34,35]\n",
    "        ],\n",
    "        [\n",
    "            [1,2,3,4,5], [6,7,8,9,10] , [11, 12, 13, 14, 15]\n",
    "        ],\n",
    "        [\n",
    "           [11, 12, 13, 14, 15] ,  [1,2,3,4,5] , [6,7,8,9,10]\n",
    "        ],\n",
    "        [\n",
    "            [6,7,8,9,10] , [11, 12, 13, 14, 15] ,  [1,2,3,4,5]\n",
    "        ],       \n",
    "        [\n",
    "            [20,21,22,23,24] , [25,26,27,28,29,30] , [31,32,33,34,35]\n",
    "        ]            \n",
    "        ],\n",
    "##End One Dimenssion        \n",
    "\n",
    "## Two Dimenssion        \n",
    "        [       \n",
    "        [\n",
    "            [20,21,22,23,24] , [25,26,27,28,29,30] , [31,32,33,34,35]\n",
    "        ],\n",
    "        [\n",
    "            [1,2,3,4,5], [6,7,8,9,10] , [11, 12, 13, 14, 15]\n",
    "        ],\n",
    "        [\n",
    "           [11, 12, 13, 14, 15] ,  [1,2,3,4,5] , [6,7,8,9,10]\n",
    "        ],\n",
    "        [\n",
    "            [6,7,8,9,10] , [11, 12, 13, 14, 15] ,  [1,2,3,4,5]\n",
    "        ],       \n",
    "        [\n",
    "            [20,21,22,23,24] , [25,26,27,28,29,30] , [31,32,33,34,35]\n",
    "        ]\n",
    "        ],\n",
    "##End of Two Dimenssion        \n",
    "        \n",
    "## Three Dimenssion        \n",
    "        [\n",
    "             [\n",
    "            [20,21,22,23,24] , [25,26,27,28,29,30] , [31,32,33,34,35]\n",
    "        ],\n",
    "        [\n",
    "            [1,2,3,4,5], [6,7,8,9,10] , [11, 12, 13, 14, 15]\n",
    "        ],\n",
    "        [\n",
    "           [11, 12, 13, 14, 15] ,  [1,2,3,4,5] , [6,7,8,9,10]\n",
    "        ],\n",
    "        [\n",
    "            [6,7,8,9,10] , [11, 12, 13, 14, 15] ,  [1,2,3,4,5]\n",
    "        ],       \n",
    "        \n",
    "        [\n",
    "            [20,21,22,23,24] , [25,26,27,28,29,30] , [31,32,33,34,35]\n",
    "        ]\n",
    "            \n",
    "        ],\n",
    "##End of Three Dimenssion           \n",
    "\n",
    "## Fourth Dimenssion        \n",
    "        [\n",
    "             [\n",
    "            [20,21,22,23,24] , [25,26,27,28,29,30] , [31,32,33,34,35]\n",
    "        ],\n",
    "        [\n",
    "            [1,2,3,4,5], [6,7,8,9,10] , [11, 12, 13, 14, 15]\n",
    "        ],\n",
    "        [\n",
    "           [11, 12, 13, 14, 15] ,  [1,2,3,4,5] , [6,7,8,9,10]\n",
    "        ],\n",
    "        [\n",
    "            [6,7,8,9,10] , [11, 12, 13, 14, 15] ,  [1,2,3,4,5]\n",
    "        ],       \n",
    "        \n",
    "        [\n",
    "            [20,21,22,23,24] , [25,26,27,28,29,30] , [31,32,33,34,35]\n",
    "        ]\n",
    "            \n",
    "        ]\n",
    "## End of Fourth\n",
    "        \n",
    "    ]   \n",
    "    \n",
    "    ]\n",
    ")\n",
    "\n",
    "x4"
   ]
  },
  {
   "cell_type": "code",
   "execution_count": 46,
   "metadata": {},
   "outputs": [
    {
     "name": "stdout",
     "output_type": "stream",
     "text": [
      "Dimensions: 4\n",
      "Shape: (4, 4, 5, 3)\n",
      "Size[no of elements in array] :240\n",
      "Memory Consumption in Bytes(dtype*size): 1920\n"
     ]
    }
   ],
   "source": [
    "print('Dimensions: {0}\\nShape: {1}\\nSize[no of elements in array] :{2}\\nMemory Consumption in Bytes(dtype*size): {3}'.format(x4.ndim,x4.shape,x4.size,x4.nbytes))"
   ]
  },
  {
   "cell_type": "code",
   "execution_count": 47,
   "metadata": {},
   "outputs": [
    {
     "data": {
      "text/plain": [
       "7"
      ]
     },
     "execution_count": 47,
     "metadata": {},
     "output_type": "execute_result"
    }
   ],
   "source": [
    "# To reach an element inside x4\n",
    "x4[1,1,1,1][1]"
   ]
  },
  {
   "cell_type": "markdown",
   "metadata": {},
   "source": [
    "Array Manipulation"
   ]
  },
  {
   "cell_type": "code",
   "execution_count": 48,
   "metadata": {},
   "outputs": [
    {
     "data": {
      "text/plain": [
       "array([0, 1, 2, 3, 4, 5, 6, 7, 8, 9])"
      ]
     },
     "execution_count": 48,
     "metadata": {},
     "output_type": "execute_result"
    }
   ],
   "source": [
    "ar1 = np.arange(10)\n",
    "ar1"
   ]
  },
  {
   "cell_type": "code",
   "execution_count": 49,
   "metadata": {},
   "outputs": [
    {
     "data": {
      "text/plain": [
       "array([[0, 1],\n",
       "       [2, 3],\n",
       "       [4, 5],\n",
       "       [6, 7],\n",
       "       [8, 9]])"
      ]
     },
     "execution_count": 49,
     "metadata": {},
     "output_type": "execute_result"
    }
   ],
   "source": [
    "ar2 = ar1.reshape((5,2))\n",
    "ar2"
   ]
  },
  {
   "cell_type": "code",
   "execution_count": 50,
   "metadata": {},
   "outputs": [
    {
     "data": {
      "text/plain": [
       "array([0, 1, 2, 3, 4, 5, 6, 7, 8, 9])"
      ]
     },
     "execution_count": 50,
     "metadata": {},
     "output_type": "execute_result"
    }
   ],
   "source": [
    "# Flattening the matrix/Array [mostly used in signal processing and image processing]\n",
    "# flatten(...)\n",
    "#  |      a.flatten(order='C')\n",
    "#  |      \n",
    "#  |      Return a copy of the array collapsed into one dimension.\n",
    "#  |      \n",
    "#  |      Parameters\n",
    "#  |      ----------\n",
    "#  |      order : {'C', 'F', 'A', 'K'}, optional\n",
    "#  |          'C' means to flatten in row-major (C-style) order.\n",
    "#  |          'F' means to flatten in column-major (Fortran-\n",
    "#  |          style) order. 'A' means to flatten in column-major\n",
    "#  |          order if `a` is Fortran *contiguous* in memory,\n",
    "#  |          row-major order otherwise. 'K' means to flatten\n",
    "#  |          `a` in the order the elements occur in memory.\n",
    "#  |          The default is 'C'.\n",
    "fl1 = ar2.flatten()\n",
    "fl1"
   ]
  },
  {
   "cell_type": "code",
   "execution_count": 51,
   "metadata": {},
   "outputs": [
    {
     "data": {
      "text/plain": [
       "1"
      ]
     },
     "execution_count": 51,
     "metadata": {},
     "output_type": "execute_result"
    }
   ],
   "source": [
    "fl1.ndim"
   ]
  },
  {
   "cell_type": "code",
   "execution_count": 52,
   "metadata": {},
   "outputs": [
    {
     "data": {
      "text/plain": [
       "array([list([20, 21, 22, 23, 24]), list([25, 26, 27, 28, 29, 30]),\n",
       "       list([31, 32, 33, 34, 35]), list([1, 2, 3, 4, 5]),\n",
       "       list([6, 7, 8, 9, 10]), list([11, 12, 13, 14, 15]),\n",
       "       list([11, 12, 13, 14, 15]), list([1, 2, 3, 4, 5]),\n",
       "       list([6, 7, 8, 9, 10]), list([6, 7, 8, 9, 10]),\n",
       "       list([11, 12, 13, 14, 15]), list([1, 2, 3, 4, 5]),\n",
       "       list([20, 21, 22, 23, 24]), list([25, 26, 27, 28, 29, 30]),\n",
       "       list([31, 32, 33, 34, 35]), list([20, 21, 22, 23, 24]),\n",
       "       list([25, 26, 27, 28, 29, 30]), list([31, 32, 33, 34, 35]),\n",
       "       list([1, 2, 3, 4, 5]), list([6, 7, 8, 9, 10]),\n",
       "       list([11, 12, 13, 14, 15]), list([11, 12, 13, 14, 15]),\n",
       "       list([1, 2, 3, 4, 5]), list([6, 7, 8, 9, 10]),\n",
       "       list([6, 7, 8, 9, 10]), list([11, 12, 13, 14, 15]),\n",
       "       list([1, 2, 3, 4, 5]), list([20, 21, 22, 23, 24]),\n",
       "       list([25, 26, 27, 28, 29, 30]), list([31, 32, 33, 34, 35]),\n",
       "       list([20, 21, 22, 23, 24]), list([25, 26, 27, 28, 29, 30]),\n",
       "       list([31, 32, 33, 34, 35]), list([1, 2, 3, 4, 5]),\n",
       "       list([6, 7, 8, 9, 10]), list([11, 12, 13, 14, 15]),\n",
       "       list([11, 12, 13, 14, 15]), list([1, 2, 3, 4, 5]),\n",
       "       list([6, 7, 8, 9, 10]), list([6, 7, 8, 9, 10]),\n",
       "       list([11, 12, 13, 14, 15]), list([1, 2, 3, 4, 5]),\n",
       "       list([20, 21, 22, 23, 24]), list([25, 26, 27, 28, 29, 30]),\n",
       "       list([31, 32, 33, 34, 35]), list([20, 21, 22, 23, 24]),\n",
       "       list([25, 26, 27, 28, 29, 30]), list([31, 32, 33, 34, 35]),\n",
       "       list([1, 2, 3, 4, 5]), list([6, 7, 8, 9, 10]),\n",
       "       list([11, 12, 13, 14, 15]), list([11, 12, 13, 14, 15]),\n",
       "       list([1, 2, 3, 4, 5]), list([6, 7, 8, 9, 10]),\n",
       "       list([6, 7, 8, 9, 10]), list([11, 12, 13, 14, 15]),\n",
       "       list([1, 2, 3, 4, 5]), list([20, 21, 22, 23, 24]),\n",
       "       list([25, 26, 27, 28, 29, 30]), list([31, 32, 33, 34, 35]),\n",
       "       list([20, 21, 22, 23, 24]), list([25, 26, 27, 28, 29, 30]),\n",
       "       list([31, 32, 33, 34, 35]), list([1, 2, 3, 4, 5]),\n",
       "       list([6, 7, 8, 9, 10]), list([11, 12, 13, 14, 15]),\n",
       "       list([11, 12, 13, 14, 15]), list([1, 2, 3, 4, 5]),\n",
       "       list([6, 7, 8, 9, 10]), list([6, 7, 8, 9, 10]),\n",
       "       list([11, 12, 13, 14, 15]), list([1, 2, 3, 4, 5]),\n",
       "       list([20, 21, 22, 23, 24]), list([25, 26, 27, 28, 29, 30]),\n",
       "       list([31, 32, 33, 34, 35]), list([20, 21, 22, 23, 24]),\n",
       "       list([25, 26, 27, 28, 29, 30]), list([31, 32, 33, 34, 35]),\n",
       "       list([1, 2, 3, 4, 5]), list([6, 7, 8, 9, 10]),\n",
       "       list([11, 12, 13, 14, 15]), list([11, 12, 13, 14, 15]),\n",
       "       list([1, 2, 3, 4, 5]), list([6, 7, 8, 9, 10]),\n",
       "       list([6, 7, 8, 9, 10]), list([11, 12, 13, 14, 15]),\n",
       "       list([1, 2, 3, 4, 5]), list([20, 21, 22, 23, 24]),\n",
       "       list([25, 26, 27, 28, 29, 30]), list([31, 32, 33, 34, 35]),\n",
       "       list([20, 21, 22, 23, 24]), list([25, 26, 27, 28, 29, 30]),\n",
       "       list([31, 32, 33, 34, 35]), list([1, 2, 3, 4, 5]),\n",
       "       list([6, 7, 8, 9, 10]), list([11, 12, 13, 14, 15]),\n",
       "       list([11, 12, 13, 14, 15]), list([1, 2, 3, 4, 5]),\n",
       "       list([6, 7, 8, 9, 10]), list([6, 7, 8, 9, 10]),\n",
       "       list([11, 12, 13, 14, 15]), list([1, 2, 3, 4, 5]),\n",
       "       list([20, 21, 22, 23, 24]), list([25, 26, 27, 28, 29, 30]),\n",
       "       list([31, 32, 33, 34, 35]), list([20, 21, 22, 23, 24]),\n",
       "       list([25, 26, 27, 28, 29, 30]), list([31, 32, 33, 34, 35]),\n",
       "       list([1, 2, 3, 4, 5]), list([6, 7, 8, 9, 10]),\n",
       "       list([11, 12, 13, 14, 15]), list([11, 12, 13, 14, 15]),\n",
       "       list([1, 2, 3, 4, 5]), list([6, 7, 8, 9, 10]),\n",
       "       list([6, 7, 8, 9, 10]), list([11, 12, 13, 14, 15]),\n",
       "       list([1, 2, 3, 4, 5]), list([20, 21, 22, 23, 24]),\n",
       "       list([25, 26, 27, 28, 29, 30]), list([31, 32, 33, 34, 35]),\n",
       "       list([20, 21, 22, 23, 24]), list([25, 26, 27, 28, 29, 30]),\n",
       "       list([31, 32, 33, 34, 35]), list([1, 2, 3, 4, 5]),\n",
       "       list([6, 7, 8, 9, 10]), list([11, 12, 13, 14, 15]),\n",
       "       list([11, 12, 13, 14, 15]), list([1, 2, 3, 4, 5]),\n",
       "       list([6, 7, 8, 9, 10]), list([6, 7, 8, 9, 10]),\n",
       "       list([11, 12, 13, 14, 15]), list([1, 2, 3, 4, 5]),\n",
       "       list([20, 21, 22, 23, 24]), list([25, 26, 27, 28, 29, 30]),\n",
       "       list([31, 32, 33, 34, 35]), list([20, 21, 22, 23, 24]),\n",
       "       list([25, 26, 27, 28, 29, 30]), list([31, 32, 33, 34, 35]),\n",
       "       list([1, 2, 3, 4, 5]), list([6, 7, 8, 9, 10]),\n",
       "       list([11, 12, 13, 14, 15]), list([11, 12, 13, 14, 15]),\n",
       "       list([1, 2, 3, 4, 5]), list([6, 7, 8, 9, 10]),\n",
       "       list([6, 7, 8, 9, 10]), list([11, 12, 13, 14, 15]),\n",
       "       list([1, 2, 3, 4, 5]), list([20, 21, 22, 23, 24]),\n",
       "       list([25, 26, 27, 28, 29, 30]), list([31, 32, 33, 34, 35]),\n",
       "       list([20, 21, 22, 23, 24]), list([25, 26, 27, 28, 29, 30]),\n",
       "       list([31, 32, 33, 34, 35]), list([1, 2, 3, 4, 5]),\n",
       "       list([6, 7, 8, 9, 10]), list([11, 12, 13, 14, 15]),\n",
       "       list([11, 12, 13, 14, 15]), list([1, 2, 3, 4, 5]),\n",
       "       list([6, 7, 8, 9, 10]), list([6, 7, 8, 9, 10]),\n",
       "       list([11, 12, 13, 14, 15]), list([1, 2, 3, 4, 5]),\n",
       "       list([20, 21, 22, 23, 24]), list([25, 26, 27, 28, 29, 30]),\n",
       "       list([31, 32, 33, 34, 35]), list([20, 21, 22, 23, 24]),\n",
       "       list([25, 26, 27, 28, 29, 30]), list([31, 32, 33, 34, 35]),\n",
       "       list([1, 2, 3, 4, 5]), list([6, 7, 8, 9, 10]),\n",
       "       list([11, 12, 13, 14, 15]), list([11, 12, 13, 14, 15]),\n",
       "       list([1, 2, 3, 4, 5]), list([6, 7, 8, 9, 10]),\n",
       "       list([6, 7, 8, 9, 10]), list([11, 12, 13, 14, 15]),\n",
       "       list([1, 2, 3, 4, 5]), list([20, 21, 22, 23, 24]),\n",
       "       list([25, 26, 27, 28, 29, 30]), list([31, 32, 33, 34, 35]),\n",
       "       list([20, 21, 22, 23, 24]), list([25, 26, 27, 28, 29, 30]),\n",
       "       list([31, 32, 33, 34, 35]), list([1, 2, 3, 4, 5]),\n",
       "       list([6, 7, 8, 9, 10]), list([11, 12, 13, 14, 15]),\n",
       "       list([11, 12, 13, 14, 15]), list([1, 2, 3, 4, 5]),\n",
       "       list([6, 7, 8, 9, 10]), list([6, 7, 8, 9, 10]),\n",
       "       list([11, 12, 13, 14, 15]), list([1, 2, 3, 4, 5]),\n",
       "       list([20, 21, 22, 23, 24]), list([25, 26, 27, 28, 29, 30]),\n",
       "       list([31, 32, 33, 34, 35]), list([20, 21, 22, 23, 24]),\n",
       "       list([25, 26, 27, 28, 29, 30]), list([31, 32, 33, 34, 35]),\n",
       "       list([1, 2, 3, 4, 5]), list([6, 7, 8, 9, 10]),\n",
       "       list([11, 12, 13, 14, 15]), list([11, 12, 13, 14, 15]),\n",
       "       list([1, 2, 3, 4, 5]), list([6, 7, 8, 9, 10]),\n",
       "       list([6, 7, 8, 9, 10]), list([11, 12, 13, 14, 15]),\n",
       "       list([1, 2, 3, 4, 5]), list([20, 21, 22, 23, 24]),\n",
       "       list([25, 26, 27, 28, 29, 30]), list([31, 32, 33, 34, 35]),\n",
       "       list([20, 21, 22, 23, 24]), list([25, 26, 27, 28, 29, 30]),\n",
       "       list([31, 32, 33, 34, 35]), list([1, 2, 3, 4, 5]),\n",
       "       list([6, 7, 8, 9, 10]), list([11, 12, 13, 14, 15]),\n",
       "       list([11, 12, 13, 14, 15]), list([1, 2, 3, 4, 5]),\n",
       "       list([6, 7, 8, 9, 10]), list([6, 7, 8, 9, 10]),\n",
       "       list([11, 12, 13, 14, 15]), list([1, 2, 3, 4, 5]),\n",
       "       list([20, 21, 22, 23, 24]), list([25, 26, 27, 28, 29, 30]),\n",
       "       list([31, 32, 33, 34, 35]), list([20, 21, 22, 23, 24]),\n",
       "       list([25, 26, 27, 28, 29, 30]), list([31, 32, 33, 34, 35]),\n",
       "       list([1, 2, 3, 4, 5]), list([6, 7, 8, 9, 10]),\n",
       "       list([11, 12, 13, 14, 15]), list([11, 12, 13, 14, 15]),\n",
       "       list([1, 2, 3, 4, 5]), list([6, 7, 8, 9, 10]),\n",
       "       list([6, 7, 8, 9, 10]), list([11, 12, 13, 14, 15]),\n",
       "       list([1, 2, 3, 4, 5]), list([20, 21, 22, 23, 24]),\n",
       "       list([25, 26, 27, 28, 29, 30]), list([31, 32, 33, 34, 35])],\n",
       "      dtype=object)"
      ]
     },
     "execution_count": 52,
     "metadata": {},
     "output_type": "execute_result"
    }
   ],
   "source": [
    "fl2 = x4.flatten()\n",
    "fl2"
   ]
  },
  {
   "cell_type": "code",
   "execution_count": 53,
   "metadata": {},
   "outputs": [
    {
     "data": {
      "text/plain": [
       "1"
      ]
     },
     "execution_count": 53,
     "metadata": {},
     "output_type": "execute_result"
    }
   ],
   "source": [
    "fl2.ndim"
   ]
  },
  {
   "cell_type": "code",
   "execution_count": 54,
   "metadata": {},
   "outputs": [
    {
     "data": {
      "text/plain": [
       "array([[1, 2, 3],\n",
       "       [4, 5, 6]])"
      ]
     },
     "execution_count": 54,
     "metadata": {},
     "output_type": "execute_result"
    }
   ],
   "source": [
    "xaf = np.array([[1,2,3],[4,5,6]], order='F')\n",
    "xaf"
   ]
  },
  {
   "cell_type": "code",
   "execution_count": 55,
   "metadata": {},
   "outputs": [
    {
     "data": {
      "text/plain": [
       "array([[1, 2, 3],\n",
       "       [4, 5, 6]])"
      ]
     },
     "execution_count": 55,
     "metadata": {},
     "output_type": "execute_result"
    }
   ],
   "source": [
    "xac = np.array([[1,2,3],[4,5,6]], order='C')\n",
    "xac"
   ]
  },
  {
   "cell_type": "code",
   "execution_count": 56,
   "metadata": {},
   "outputs": [
    {
     "data": {
      "text/plain": [
       "array([[ True,  True,  True],\n",
       "       [ True,  True,  True]])"
      ]
     },
     "execution_count": 56,
     "metadata": {},
     "output_type": "execute_result"
    }
   ],
   "source": [
    "xaf == xac"
   ]
  },
  {
   "cell_type": "code",
   "execution_count": 57,
   "metadata": {},
   "outputs": [
    {
     "data": {
      "text/plain": [
       "False"
      ]
     },
     "execution_count": 57,
     "metadata": {},
     "output_type": "execute_result"
    }
   ],
   "source": [
    "id(xaf) == id(xac)"
   ]
  },
  {
   "cell_type": "code",
   "execution_count": 58,
   "metadata": {},
   "outputs": [
    {
     "name": "stdout",
     "output_type": "stream",
     "text": [
      "[0 1 2 3 4 5] [ 6  7  8  9 10 11] type: <class 'numpy.ndarray'>\n"
     ]
    }
   ],
   "source": [
    "## Merging two Series or lists and making them into arrays\n",
    "vecVal1 = np.arange(6)\n",
    "vecVal2 = np.arange(6,12)\n",
    "print(vecVal1,vecVal2, 'type: {0}'.format(type(vecVal1)))"
   ]
  },
  {
   "cell_type": "code",
   "execution_count": 59,
   "metadata": {},
   "outputs": [
    {
     "data": {
      "text/plain": [
       "array([[ 0,  1,  2,  3,  4,  5],\n",
       "       [ 6,  7,  8,  9, 10, 11]])"
      ]
     },
     "execution_count": 59,
     "metadata": {},
     "output_type": "execute_result"
    }
   ],
   "source": [
    "RStk = np.stack([vecVal1, vecVal2], axis=0)\n",
    "RStk"
   ]
  },
  {
   "cell_type": "code",
   "execution_count": 60,
   "metadata": {
    "scrolled": true
   },
   "outputs": [
    {
     "name": "stdout",
     "output_type": "stream",
     "text": [
      "Matrisx: \n",
      "[[ 0  6]\n",
      " [ 1  7]\n",
      " [ 2  8]\n",
      " [ 3  9]\n",
      " [ 4 10]\n",
      " [ 5 11]]\n",
      "Type: <class 'numpy.ndarray'>\n",
      "Dimensions: 2\n",
      "Shape: (6, 2)\n",
      "Size: 12\n"
     ]
    }
   ],
   "source": [
    "CStk = np.stack([vecVal1, vecVal2], axis=1)\n",
    "print('Matrisx: \\n{0}\\nType: {1}\\nDimensions: {2}\\nShape: {3}\\nSize: {4}'.format(CStk,type(CStk),CStk.ndim,CStk.shape,CStk.size))"
   ]
  },
  {
   "cell_type": "code",
   "execution_count": 61,
   "metadata": {},
   "outputs": [
    {
     "name": "stdout",
     "output_type": "stream",
     "text": [
      "Matrix: \n",
      "[[[ 0  6]\n",
      "  [ 1  7]\n",
      "  [ 2  8]\n",
      "  [ 3  9]\n",
      "  [ 4 10]\n",
      "  [ 5 11]]]\n",
      "Type: <class 'numpy.ndarray'>\n",
      "Dimensions: 3\n",
      "Shape: (1, 6, 2)\n",
      "Size: 12\n"
     ]
    }
   ],
   "source": [
    "# To stack the data in multiple ergonomic way D-Stack\n",
    "DStk = np.dstack([vecVal1, vecVal2])\n",
    "print('Matrix: \\n{0}\\nType: {1}\\nDimensions: {2}\\nShape: {3}\\nSize: {4}'.format(DStk,type(DStk),DStk.ndim,DStk.shape,DStk.size))"
   ]
  },
  {
   "cell_type": "code",
   "execution_count": 62,
   "metadata": {},
   "outputs": [
    {
     "name": "stdout",
     "output_type": "stream",
     "text": [
      "Matrix: \n",
      "[ 0  1  2  3  4  5  6  7  8  9 10 11]\n",
      "Type: <class 'numpy.ndarray'>\n",
      "Dimensions: 1\n",
      "Shape: (12,)\n",
      "Size: 12\n"
     ]
    }
   ],
   "source": [
    "#Stacking everything Horizontally\n",
    "HStk = np.hstack([vecVal1, vecVal2])\n",
    "print('Matrix: \\n{0}\\nType: {1}\\nDimensions: {2}\\nShape: {3}\\nSize: {4}'.format(HStk,type(HStk),HStk.ndim,HStk.shape,HStk.size))"
   ]
  },
  {
   "cell_type": "code",
   "execution_count": 63,
   "metadata": {},
   "outputs": [
    {
     "name": "stdout",
     "output_type": "stream",
     "text": [
      "Matrix: \n",
      "[[ 0  1  2  3  4  5]\n",
      " [ 6  7  8  9 10 11]]\n",
      "Type: <class 'numpy.ndarray'>\n",
      "Dimensions: 2\n",
      "Shape: (2, 6)\n",
      "Size: 12\n"
     ]
    }
   ],
   "source": [
    "VStk = np.vstack([vecVal1, vecVal2])\n",
    "print('Matrix: \\n{0}\\nType: {1}\\nDimensions: {2}\\nShape: {3}\\nSize: {4}'.format(VStk,type(VStk),VStk.ndim,VStk.shape,VStk.size))"
   ]
  },
  {
   "cell_type": "code",
   "execution_count": 64,
   "metadata": {},
   "outputs": [
    {
     "data": {
      "text/plain": [
       "array([[[0.73074805, 0.99619301, 0.34369395, 0.84016738],\n",
       "        [0.97603664, 0.63804108, 0.67240863, 0.73730487],\n",
       "        [0.7709081 , 0.12848468, 0.60966725, 0.60069414],\n",
       "        [0.1586934 , 0.25562619, 0.17088176, 0.63653382]],\n",
       "\n",
       "       [[0.60997057, 0.17771788, 0.03375434, 0.65730685],\n",
       "        [0.48353025, 0.29909832, 0.25598247, 0.52397788],\n",
       "        [0.73086545, 0.09393616, 0.86411347, 0.57949989],\n",
       "        [0.85073134, 0.69600953, 0.74605616, 0.30006477]],\n",
       "\n",
       "       [[0.69924188, 0.00967286, 0.71201117, 0.92467291],\n",
       "        [0.40979764, 0.55775146, 0.27556244, 0.82360604],\n",
       "        [0.32061146, 0.39122392, 0.49150086, 0.60659507],\n",
       "        [0.73147831, 0.00931227, 0.52646143, 0.56764001]],\n",
       "\n",
       "       [[0.97606893, 0.69172378, 0.51574111, 0.24340027],\n",
       "        [0.40105051, 0.56920842, 0.22265649, 0.14371481],\n",
       "        [0.69209504, 0.16774409, 0.52960979, 0.5373983 ],\n",
       "        [0.71937502, 0.52039469, 0.76676371, 0.09965877]]])"
      ]
     },
     "execution_count": 64,
     "metadata": {},
     "output_type": "execute_result"
    }
   ],
   "source": [
    "randArray1 = np.random.rand(4,4,4)\n",
    "randArray1"
   ]
  },
  {
   "cell_type": "code",
   "execution_count": 65,
   "metadata": {},
   "outputs": [
    {
     "name": "stdout",
     "output_type": "stream",
     "text": [
      "[0 1 2] [3 4 5] [6 7 8] [ 9 10 11]\n"
     ]
    }
   ],
   "source": [
    "## Spliting data into equal parts mostly of the data is in divedents of 2\n",
    "a,b,c,d = np.split(HStk,4)\n",
    "print(a,b,c,d)"
   ]
  },
  {
   "cell_type": "code",
   "execution_count": 66,
   "metadata": {},
   "outputs": [
    {
     "name": "stdout",
     "output_type": "stream",
     "text": [
      "[[[0.73074805 0.99619301 0.34369395 0.84016738]]\n",
      "\n",
      " [[0.60997057 0.17771788 0.03375434 0.65730685]]\n",
      "\n",
      " [[0.69924188 0.00967286 0.71201117 0.92467291]]\n",
      "\n",
      " [[0.97606893 0.69172378 0.51574111 0.24340027]]] [[[0.97603664 0.63804108 0.67240863 0.73730487]]\n",
      "\n",
      " [[0.48353025 0.29909832 0.25598247 0.52397788]]\n",
      "\n",
      " [[0.40979764 0.55775146 0.27556244 0.82360604]]\n",
      "\n",
      " [[0.40105051 0.56920842 0.22265649 0.14371481]]] [[[0.7709081  0.12848468 0.60966725 0.60069414]]\n",
      "\n",
      " [[0.73086545 0.09393616 0.86411347 0.57949989]]\n",
      "\n",
      " [[0.32061146 0.39122392 0.49150086 0.60659507]]\n",
      "\n",
      " [[0.69209504 0.16774409 0.52960979 0.5373983 ]]] [[[0.1586934  0.25562619 0.17088176 0.63653382]]\n",
      "\n",
      " [[0.85073134 0.69600953 0.74605616 0.30006477]]\n",
      "\n",
      " [[0.73147831 0.00931227 0.52646143 0.56764001]]\n",
      "\n",
      " [[0.71937502 0.52039469 0.76676371 0.09965877]]]\n"
     ]
    }
   ],
   "source": [
    "a,b,c,d = np.hsplit(randArray1,4)\n",
    "print(a,b,c,d)"
   ]
  },
  {
   "cell_type": "code",
   "execution_count": 67,
   "metadata": {},
   "outputs": [
    {
     "name": "stdout",
     "output_type": "stream",
     "text": [
      "Matrix: \n",
      "[[[0.73074805 0.99619301 0.34369395 0.84016738]]\n",
      "\n",
      " [[0.60997057 0.17771788 0.03375434 0.65730685]]\n",
      "\n",
      " [[0.69924188 0.00967286 0.71201117 0.92467291]]\n",
      "\n",
      " [[0.97606893 0.69172378 0.51574111 0.24340027]]]\n",
      "Type: <class 'numpy.ndarray'>\n",
      "Dimensions: 3\n",
      "Shape: (4, 1, 4)\n",
      "Size: 16\n"
     ]
    }
   ],
   "source": [
    "print('Matrix: \\n{0}\\nType: {1}\\nDimensions: {2}\\nShape: {3}\\nSize: {4}'.format(a,type(a),a.ndim,a.shape,a.size))"
   ]
  },
  {
   "cell_type": "code",
   "execution_count": 68,
   "metadata": {},
   "outputs": [
    {
     "name": "stdout",
     "output_type": "stream",
     "text": [
      "[[[0.73074805 0.99619301 0.34369395 0.84016738]\n",
      "  [0.97603664 0.63804108 0.67240863 0.73730487]\n",
      "  [0.7709081  0.12848468 0.60966725 0.60069414]\n",
      "  [0.1586934  0.25562619 0.17088176 0.63653382]]] [[[0.60997057 0.17771788 0.03375434 0.65730685]\n",
      "  [0.48353025 0.29909832 0.25598247 0.52397788]\n",
      "  [0.73086545 0.09393616 0.86411347 0.57949989]\n",
      "  [0.85073134 0.69600953 0.74605616 0.30006477]]] [[[0.69924188 0.00967286 0.71201117 0.92467291]\n",
      "  [0.40979764 0.55775146 0.27556244 0.82360604]\n",
      "  [0.32061146 0.39122392 0.49150086 0.60659507]\n",
      "  [0.73147831 0.00931227 0.52646143 0.56764001]]] [[[0.97606893 0.69172378 0.51574111 0.24340027]\n",
      "  [0.40105051 0.56920842 0.22265649 0.14371481]\n",
      "  [0.69209504 0.16774409 0.52960979 0.5373983 ]\n",
      "  [0.71937502 0.52039469 0.76676371 0.09965877]]]\n"
     ]
    }
   ],
   "source": [
    "a,b,c,d = np.vsplit(randArray1,4)\n",
    "print(a,b,c,d)"
   ]
  },
  {
   "cell_type": "code",
   "execution_count": 69,
   "metadata": {},
   "outputs": [
    {
     "name": "stdout",
     "output_type": "stream",
     "text": [
      "Matrix: \n",
      "[[[0.73074805 0.99619301 0.34369395 0.84016738]\n",
      "  [0.97603664 0.63804108 0.67240863 0.73730487]\n",
      "  [0.7709081  0.12848468 0.60966725 0.60069414]\n",
      "  [0.1586934  0.25562619 0.17088176 0.63653382]]]\n",
      "Type: <class 'numpy.ndarray'>\n",
      "Dimensions: 3\n",
      "Shape: (1, 4, 4)\n",
      "Size: 16\n"
     ]
    }
   ],
   "source": [
    "print('Matrix: \\n{0}\\nType: {1}\\nDimensions: {2}\\nShape: {3}\\nSize: {4}'.format(a,type(a),a.ndim,a.shape,a.size))"
   ]
  },
  {
   "cell_type": "code",
   "execution_count": 71,
   "metadata": {},
   "outputs": [
    {
     "data": {
      "text/plain": [
       "array([[[0.73074805, 0.99619301, 0.34369395, 0.84016738],\n",
       "        [0.97603664, 0.63804108, 0.67240863, 0.73730487],\n",
       "        [0.7709081 , 0.12848468, 0.60966725, 0.60069414],\n",
       "        [0.1586934 , 0.25562619, 0.17088176, 0.63653382]]])"
      ]
     },
     "execution_count": 71,
     "metadata": {},
     "output_type": "execute_result"
    }
   ],
   "source": [
    "a"
   ]
  },
  {
   "cell_type": "code",
   "execution_count": 76,
   "metadata": {},
   "outputs": [
    {
     "data": {
      "text/plain": [
       "array([[[0.1586934 , 0.25562619, 0.17088176, 0.63653382],\n",
       "        [0.7709081 , 0.12848468, 0.60966725, 0.60069414],\n",
       "        [0.97603664, 0.63804108, 0.67240863, 0.73730487],\n",
       "        [0.73074805, 0.99619301, 0.34369395, 0.84016738]]])"
      ]
     },
     "execution_count": 76,
     "metadata": {},
     "output_type": "execute_result"
    }
   ],
   "source": [
    "## It litraly flips as per the axis: -ve(Ndim - 1),+ve(Ndim - 1)\n",
    "np.flip(a, axis=1)"
   ]
  },
  {
   "cell_type": "code",
   "execution_count": 79,
   "metadata": {},
   "outputs": [
    {
     "data": {
      "text/plain": [
       "array([[[0.84016738, 0.34369395, 0.99619301, 0.73074805],\n",
       "        [0.73730487, 0.67240863, 0.63804108, 0.97603664],\n",
       "        [0.60069414, 0.60966725, 0.12848468, 0.7709081 ],\n",
       "        [0.63653382, 0.17088176, 0.25562619, 0.1586934 ]]])"
      ]
     },
     "execution_count": 79,
     "metadata": {},
     "output_type": "execute_result"
    }
   ],
   "source": [
    "np.flip(a, axis=-1)"
   ]
  },
  {
   "cell_type": "code",
   "execution_count": 80,
   "metadata": {},
   "outputs": [
    {
     "data": {
      "text/plain": [
       "array([[[0.60997057, 0.17771788, 0.03375434, 0.65730685],\n",
       "        [0.48353025, 0.29909832, 0.25598247, 0.52397788],\n",
       "        [0.73086545, 0.09393616, 0.86411347, 0.57949989],\n",
       "        [0.85073134, 0.69600953, 0.74605616, 0.30006477]]])"
      ]
     },
     "execution_count": 80,
     "metadata": {},
     "output_type": "execute_result"
    }
   ],
   "source": [
    "b"
   ]
  },
  {
   "cell_type": "code",
   "execution_count": 81,
   "metadata": {},
   "outputs": [
    {
     "data": {
      "text/plain": [
       "array([[[0.85073134, 0.69600953, 0.74605616, 0.30006477],\n",
       "        [0.60997057, 0.17771788, 0.03375434, 0.65730685],\n",
       "        [0.48353025, 0.29909832, 0.25598247, 0.52397788],\n",
       "        [0.73086545, 0.09393616, 0.86411347, 0.57949989]]])"
      ]
     },
     "execution_count": 81,
     "metadata": {},
     "output_type": "execute_result"
    }
   ],
   "source": [
    "## Swaps the bottom most N elements to up\n",
    "np.roll(b,4)"
   ]
  },
  {
   "cell_type": "code",
   "execution_count": 84,
   "metadata": {},
   "outputs": [
    {
     "name": "stdout",
     "output_type": "stream",
     "text": [
      "[0 0 0 1]\n",
      "[0 1 1 1]\n",
      "[0 1 1 0]\n",
      "[255 255 254 254]\n"
     ]
    }
   ],
   "source": [
    "# BitWise Opperations\n",
    "x = np.array([0,1,0,1], np.uint8)\n",
    "y = np.array([0,0,1,1], np.uint8)\n",
    "\n",
    "print(np.bitwise_and(x,y))\n",
    "print(np.bitwise_or(x,y))\n",
    "print(np.bitwise_xor(x,y))\n",
    "print(np.bitwise_not(y))"
   ]
  },
  {
   "cell_type": "code",
   "execution_count": null,
   "metadata": {},
   "outputs": [],
   "source": []
  }
 ],
 "metadata": {
  "kernelspec": {
   "display_name": "Python 3",
   "language": "python",
   "name": "python3"
  },
  "language_info": {
   "codemirror_mode": {
    "name": "ipython",
    "version": 3
   },
   "file_extension": ".py",
   "mimetype": "text/x-python",
   "name": "python",
   "nbconvert_exporter": "python",
   "pygments_lexer": "ipython3",
   "version": "3.7.4"
  }
 },
 "nbformat": 4,
 "nbformat_minor": 4
}
