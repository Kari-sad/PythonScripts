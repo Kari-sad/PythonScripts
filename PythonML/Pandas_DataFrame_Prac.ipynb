{
 "cells": [
  {
   "cell_type": "code",
   "execution_count": 228,
   "metadata": {},
   "outputs": [],
   "source": [
    "import pandas as pd"
   ]
  },
  {
   "cell_type": "markdown",
   "metadata": {},
   "source": [
    "Creating a DataFrame from couple of series Objects, the only condition would be all the objects should have similar indices"
   ]
  },
  {
   "cell_type": "code",
   "execution_count": 229,
   "metadata": {},
   "outputs": [],
   "source": [
    "ID_uname = ['sgutter' , 'lnarmen' , 'vvoghan' , 'kkoltin']  ## Index of all the series Objects is in list type\n",
    "Fname = pd.Series(data=[\"Steve\" , \"Lia\" , \"Vin\" , \"Katie\"] , index=[ID_uname])\n",
    "LName = pd.Series(data=[\"Gutter\" , \"Narmen\" , \"Voughan\" , \"Koltin\" ], index=[ID_uname])\n",
    "Age\t= pd.Series(data=[32 , 28 , 45 ,38], index=[ID_uname])\n",
    "Gender\t= pd.Series(data=[\"Male\" , \"Female\" , \"Male\" , \"Female\"], index=[ID_uname])\t\n",
    "Rating = pd.Series(data=[3.45, 4.6, 3.9, 2.78], index=[ID_uname])\n",
    "Nationality = pd.Series(data ='IN', index=[ID_uname])"
   ]
  },
  {
   "cell_type": "markdown",
   "metadata": {},
   "source": [
    "Syntax: pandas.DataFrame({'Column_name': Series_Object, 'Column_name': Series_Object, 'Column_name': Series_Object})"
   ]
  },
  {
   "cell_type": "code",
   "execution_count": 230,
   "metadata": {},
   "outputs": [
    {
     "data": {
      "text/html": [
       "<div>\n",
       "<style scoped>\n",
       "    .dataframe tbody tr th:only-of-type {\n",
       "        vertical-align: middle;\n",
       "    }\n",
       "\n",
       "    .dataframe tbody tr th {\n",
       "        vertical-align: top;\n",
       "    }\n",
       "\n",
       "    .dataframe thead th {\n",
       "        text-align: right;\n",
       "    }\n",
       "</style>\n",
       "<table border=\"1\" class=\"dataframe\">\n",
       "  <thead>\n",
       "    <tr style=\"text-align: right;\">\n",
       "      <th></th>\n",
       "      <th>First_Name</th>\n",
       "      <th>Last_Name</th>\n",
       "      <th>Age</th>\n",
       "      <th>Gender</th>\n",
       "      <th>Rating</th>\n",
       "      <th>Nationality</th>\n",
       "    </tr>\n",
       "  </thead>\n",
       "  <tbody>\n",
       "    <tr>\n",
       "      <th>sgutter</th>\n",
       "      <td>Steve</td>\n",
       "      <td>Gutter</td>\n",
       "      <td>32</td>\n",
       "      <td>Male</td>\n",
       "      <td>3.45</td>\n",
       "      <td>IN</td>\n",
       "    </tr>\n",
       "    <tr>\n",
       "      <th>lnarmen</th>\n",
       "      <td>Lia</td>\n",
       "      <td>Narmen</td>\n",
       "      <td>28</td>\n",
       "      <td>Female</td>\n",
       "      <td>4.60</td>\n",
       "      <td>IN</td>\n",
       "    </tr>\n",
       "    <tr>\n",
       "      <th>vvoghan</th>\n",
       "      <td>Vin</td>\n",
       "      <td>Voughan</td>\n",
       "      <td>45</td>\n",
       "      <td>Male</td>\n",
       "      <td>3.90</td>\n",
       "      <td>IN</td>\n",
       "    </tr>\n",
       "    <tr>\n",
       "      <th>kkoltin</th>\n",
       "      <td>Katie</td>\n",
       "      <td>Koltin</td>\n",
       "      <td>38</td>\n",
       "      <td>Female</td>\n",
       "      <td>2.78</td>\n",
       "      <td>IN</td>\n",
       "    </tr>\n",
       "  </tbody>\n",
       "</table>\n",
       "</div>"
      ],
      "text/plain": [
       "        First_Name Last_Name  Age  Gender  Rating Nationality\n",
       "sgutter      Steve    Gutter   32    Male    3.45          IN\n",
       "lnarmen        Lia    Narmen   28  Female    4.60          IN\n",
       "vvoghan        Vin   Voughan   45    Male    3.90          IN\n",
       "kkoltin      Katie    Koltin   38  Female    2.78          IN"
      ]
     },
     "execution_count": 230,
     "metadata": {},
     "output_type": "execute_result"
    }
   ],
   "source": [
    "Df_12 = pd.DataFrame({'First_Name': Fname, \n",
    "                      'Last_Name': LName , \n",
    "                      'Age': Age ,\n",
    "                      \"Gender\" : Gender , \n",
    "                      'Rating' : Rating , \n",
    "                      'Nationality' : Nationality})\n",
    "Df_12"
   ]
  },
  {
   "cell_type": "markdown",
   "metadata": {},
   "source": [
    "Slicing and accessing values from dataframe, \n",
    "example:\n",
    "   1. dataframe[['Column name']] --> returns a DF\n",
    "   2. dataframe['Column name'] --> returns a series object\n",
    "   3. dataframe.Column_Name --> returns a series object with column values and indices\n",
    "   4. dataframe.Column_Name.loc['index_name'] --> returns series object with a specific value\n",
    "    "
   ]
  },
  {
   "cell_type": "code",
   "execution_count": 231,
   "metadata": {},
   "outputs": [
    {
     "data": {
      "text/plain": [
       "sgutter    Steve\n",
       "lnarmen      Lia\n",
       "vvoghan      Vin\n",
       "kkoltin    Katie\n",
       "Name: First_Name, dtype: object"
      ]
     },
     "execution_count": 231,
     "metadata": {},
     "output_type": "execute_result"
    }
   ],
   "source": [
    "Df_12['First_Name']"
   ]
  },
  {
   "cell_type": "code",
   "execution_count": 232,
   "metadata": {},
   "outputs": [
    {
     "data": {
      "text/plain": [
       "pandas.core.series.Series"
      ]
     },
     "execution_count": 232,
     "metadata": {},
     "output_type": "execute_result"
    }
   ],
   "source": [
    "type(Df_12['First_Name'])"
   ]
  },
  {
   "cell_type": "code",
   "execution_count": 233,
   "metadata": {},
   "outputs": [
    {
     "data": {
      "text/html": [
       "<div>\n",
       "<style scoped>\n",
       "    .dataframe tbody tr th:only-of-type {\n",
       "        vertical-align: middle;\n",
       "    }\n",
       "\n",
       "    .dataframe tbody tr th {\n",
       "        vertical-align: top;\n",
       "    }\n",
       "\n",
       "    .dataframe thead th {\n",
       "        text-align: right;\n",
       "    }\n",
       "</style>\n",
       "<table border=\"1\" class=\"dataframe\">\n",
       "  <thead>\n",
       "    <tr style=\"text-align: right;\">\n",
       "      <th></th>\n",
       "      <th>First_Name</th>\n",
       "    </tr>\n",
       "  </thead>\n",
       "  <tbody>\n",
       "    <tr>\n",
       "      <th>sgutter</th>\n",
       "      <td>Steve</td>\n",
       "    </tr>\n",
       "    <tr>\n",
       "      <th>lnarmen</th>\n",
       "      <td>Lia</td>\n",
       "    </tr>\n",
       "    <tr>\n",
       "      <th>vvoghan</th>\n",
       "      <td>Vin</td>\n",
       "    </tr>\n",
       "    <tr>\n",
       "      <th>kkoltin</th>\n",
       "      <td>Katie</td>\n",
       "    </tr>\n",
       "  </tbody>\n",
       "</table>\n",
       "</div>"
      ],
      "text/plain": [
       "        First_Name\n",
       "sgutter      Steve\n",
       "lnarmen        Lia\n",
       "vvoghan        Vin\n",
       "kkoltin      Katie"
      ]
     },
     "execution_count": 233,
     "metadata": {},
     "output_type": "execute_result"
    }
   ],
   "source": [
    "Df_12[['First_Name']]"
   ]
  },
  {
   "cell_type": "code",
   "execution_count": 234,
   "metadata": {},
   "outputs": [
    {
     "data": {
      "text/plain": [
       "pandas.core.frame.DataFrame"
      ]
     },
     "execution_count": 234,
     "metadata": {},
     "output_type": "execute_result"
    }
   ],
   "source": [
    "type(Df_12[['First_Name']])"
   ]
  },
  {
   "cell_type": "code",
   "execution_count": 236,
   "metadata": {},
   "outputs": [
    {
     "ename": "KeyError",
     "evalue": "'sgutter'",
     "output_type": "error",
     "traceback": [
      "\u001b[1;31m---------------------------------------------------------------------------\u001b[0m",
      "\u001b[1;31mKeyError\u001b[0m                                  Traceback (most recent call last)",
      "\u001b[1;32mc:\\program files\\python37\\lib\\site-packages\\pandas\\core\\indexes\\base.py\u001b[0m in \u001b[0;36mget_loc\u001b[1;34m(self, key, method, tolerance)\u001b[0m\n\u001b[0;32m   2645\u001b[0m             \u001b[1;32mtry\u001b[0m\u001b[1;33m:\u001b[0m\u001b[1;33m\u001b[0m\u001b[1;33m\u001b[0m\u001b[0m\n\u001b[1;32m-> 2646\u001b[1;33m                 \u001b[1;32mreturn\u001b[0m \u001b[0mself\u001b[0m\u001b[1;33m.\u001b[0m\u001b[0m_engine\u001b[0m\u001b[1;33m.\u001b[0m\u001b[0mget_loc\u001b[0m\u001b[1;33m(\u001b[0m\u001b[0mkey\u001b[0m\u001b[1;33m)\u001b[0m\u001b[1;33m\u001b[0m\u001b[1;33m\u001b[0m\u001b[0m\n\u001b[0m\u001b[0;32m   2647\u001b[0m             \u001b[1;32mexcept\u001b[0m \u001b[0mKeyError\u001b[0m\u001b[1;33m:\u001b[0m\u001b[1;33m\u001b[0m\u001b[1;33m\u001b[0m\u001b[0m\n",
      "\u001b[1;32mpandas\\_libs\\index.pyx\u001b[0m in \u001b[0;36mpandas._libs.index.IndexEngine.get_loc\u001b[1;34m()\u001b[0m\n",
      "\u001b[1;32mpandas\\_libs\\index.pyx\u001b[0m in \u001b[0;36mpandas._libs.index.IndexEngine.get_loc\u001b[1;34m()\u001b[0m\n",
      "\u001b[1;32mpandas\\_libs\\hashtable_class_helper.pxi\u001b[0m in \u001b[0;36mpandas._libs.hashtable.PyObjectHashTable.get_item\u001b[1;34m()\u001b[0m\n",
      "\u001b[1;32mpandas\\_libs\\hashtable_class_helper.pxi\u001b[0m in \u001b[0;36mpandas._libs.hashtable.PyObjectHashTable.get_item\u001b[1;34m()\u001b[0m\n",
      "\u001b[1;31mKeyError\u001b[0m: 'sgutter'",
      "\nDuring handling of the above exception, another exception occurred:\n",
      "\u001b[1;31mKeyError\u001b[0m                                  Traceback (most recent call last)",
      "\u001b[1;32m<ipython-input-236-e364848af45b>\u001b[0m in \u001b[0;36m<module>\u001b[1;34m\u001b[0m\n\u001b[1;32m----> 1\u001b[1;33m \u001b[0mDf_12\u001b[0m\u001b[1;33m[\u001b[0m\u001b[1;33m[\u001b[0m\u001b[1;34m'First_Name'\u001b[0m\u001b[1;33m]\u001b[0m\u001b[1;33m]\u001b[0m\u001b[1;33m[\u001b[0m\u001b[1;34m'sgutter'\u001b[0m\u001b[1;33m]\u001b[0m\u001b[1;31m### Error\u001b[0m\u001b[1;33m\u001b[0m\u001b[1;33m\u001b[0m\u001b[0m\n\u001b[0m",
      "\u001b[1;32mc:\\program files\\python37\\lib\\site-packages\\pandas\\core\\frame.py\u001b[0m in \u001b[0;36m__getitem__\u001b[1;34m(self, key)\u001b[0m\n\u001b[0;32m   2798\u001b[0m             \u001b[1;32mif\u001b[0m \u001b[0mself\u001b[0m\u001b[1;33m.\u001b[0m\u001b[0mcolumns\u001b[0m\u001b[1;33m.\u001b[0m\u001b[0mnlevels\u001b[0m \u001b[1;33m>\u001b[0m \u001b[1;36m1\u001b[0m\u001b[1;33m:\u001b[0m\u001b[1;33m\u001b[0m\u001b[1;33m\u001b[0m\u001b[0m\n\u001b[0;32m   2799\u001b[0m                 \u001b[1;32mreturn\u001b[0m \u001b[0mself\u001b[0m\u001b[1;33m.\u001b[0m\u001b[0m_getitem_multilevel\u001b[0m\u001b[1;33m(\u001b[0m\u001b[0mkey\u001b[0m\u001b[1;33m)\u001b[0m\u001b[1;33m\u001b[0m\u001b[1;33m\u001b[0m\u001b[0m\n\u001b[1;32m-> 2800\u001b[1;33m             \u001b[0mindexer\u001b[0m \u001b[1;33m=\u001b[0m \u001b[0mself\u001b[0m\u001b[1;33m.\u001b[0m\u001b[0mcolumns\u001b[0m\u001b[1;33m.\u001b[0m\u001b[0mget_loc\u001b[0m\u001b[1;33m(\u001b[0m\u001b[0mkey\u001b[0m\u001b[1;33m)\u001b[0m\u001b[1;33m\u001b[0m\u001b[1;33m\u001b[0m\u001b[0m\n\u001b[0m\u001b[0;32m   2801\u001b[0m             \u001b[1;32mif\u001b[0m \u001b[0mis_integer\u001b[0m\u001b[1;33m(\u001b[0m\u001b[0mindexer\u001b[0m\u001b[1;33m)\u001b[0m\u001b[1;33m:\u001b[0m\u001b[1;33m\u001b[0m\u001b[1;33m\u001b[0m\u001b[0m\n\u001b[0;32m   2802\u001b[0m                 \u001b[0mindexer\u001b[0m \u001b[1;33m=\u001b[0m \u001b[1;33m[\u001b[0m\u001b[0mindexer\u001b[0m\u001b[1;33m]\u001b[0m\u001b[1;33m\u001b[0m\u001b[1;33m\u001b[0m\u001b[0m\n",
      "\u001b[1;32mc:\\program files\\python37\\lib\\site-packages\\pandas\\core\\indexes\\base.py\u001b[0m in \u001b[0;36mget_loc\u001b[1;34m(self, key, method, tolerance)\u001b[0m\n\u001b[0;32m   2646\u001b[0m                 \u001b[1;32mreturn\u001b[0m \u001b[0mself\u001b[0m\u001b[1;33m.\u001b[0m\u001b[0m_engine\u001b[0m\u001b[1;33m.\u001b[0m\u001b[0mget_loc\u001b[0m\u001b[1;33m(\u001b[0m\u001b[0mkey\u001b[0m\u001b[1;33m)\u001b[0m\u001b[1;33m\u001b[0m\u001b[1;33m\u001b[0m\u001b[0m\n\u001b[0;32m   2647\u001b[0m             \u001b[1;32mexcept\u001b[0m \u001b[0mKeyError\u001b[0m\u001b[1;33m:\u001b[0m\u001b[1;33m\u001b[0m\u001b[1;33m\u001b[0m\u001b[0m\n\u001b[1;32m-> 2648\u001b[1;33m                 \u001b[1;32mreturn\u001b[0m \u001b[0mself\u001b[0m\u001b[1;33m.\u001b[0m\u001b[0m_engine\u001b[0m\u001b[1;33m.\u001b[0m\u001b[0mget_loc\u001b[0m\u001b[1;33m(\u001b[0m\u001b[0mself\u001b[0m\u001b[1;33m.\u001b[0m\u001b[0m_maybe_cast_indexer\u001b[0m\u001b[1;33m(\u001b[0m\u001b[0mkey\u001b[0m\u001b[1;33m)\u001b[0m\u001b[1;33m)\u001b[0m\u001b[1;33m\u001b[0m\u001b[1;33m\u001b[0m\u001b[0m\n\u001b[0m\u001b[0;32m   2649\u001b[0m         \u001b[0mindexer\u001b[0m \u001b[1;33m=\u001b[0m \u001b[0mself\u001b[0m\u001b[1;33m.\u001b[0m\u001b[0mget_indexer\u001b[0m\u001b[1;33m(\u001b[0m\u001b[1;33m[\u001b[0m\u001b[0mkey\u001b[0m\u001b[1;33m]\u001b[0m\u001b[1;33m,\u001b[0m \u001b[0mmethod\u001b[0m\u001b[1;33m=\u001b[0m\u001b[0mmethod\u001b[0m\u001b[1;33m,\u001b[0m \u001b[0mtolerance\u001b[0m\u001b[1;33m=\u001b[0m\u001b[0mtolerance\u001b[0m\u001b[1;33m)\u001b[0m\u001b[1;33m\u001b[0m\u001b[1;33m\u001b[0m\u001b[0m\n\u001b[0;32m   2650\u001b[0m         \u001b[1;32mif\u001b[0m \u001b[0mindexer\u001b[0m\u001b[1;33m.\u001b[0m\u001b[0mndim\u001b[0m \u001b[1;33m>\u001b[0m \u001b[1;36m1\u001b[0m \u001b[1;32mor\u001b[0m \u001b[0mindexer\u001b[0m\u001b[1;33m.\u001b[0m\u001b[0msize\u001b[0m \u001b[1;33m>\u001b[0m \u001b[1;36m1\u001b[0m\u001b[1;33m:\u001b[0m\u001b[1;33m\u001b[0m\u001b[1;33m\u001b[0m\u001b[0m\n",
      "\u001b[1;32mpandas\\_libs\\index.pyx\u001b[0m in \u001b[0;36mpandas._libs.index.IndexEngine.get_loc\u001b[1;34m()\u001b[0m\n",
      "\u001b[1;32mpandas\\_libs\\index.pyx\u001b[0m in \u001b[0;36mpandas._libs.index.IndexEngine.get_loc\u001b[1;34m()\u001b[0m\n",
      "\u001b[1;32mpandas\\_libs\\hashtable_class_helper.pxi\u001b[0m in \u001b[0;36mpandas._libs.hashtable.PyObjectHashTable.get_item\u001b[1;34m()\u001b[0m\n",
      "\u001b[1;32mpandas\\_libs\\hashtable_class_helper.pxi\u001b[0m in \u001b[0;36mpandas._libs.hashtable.PyObjectHashTable.get_item\u001b[1;34m()\u001b[0m\n",
      "\u001b[1;31mKeyError\u001b[0m: 'sgutter'"
     ]
    }
   ],
   "source": [
    "Df_12[['First_Name']]['sgutter']### Error"
   ]
  },
  {
   "cell_type": "code",
   "execution_count": 237,
   "metadata": {},
   "outputs": [
    {
     "ename": "KeyError",
     "evalue": "'gutter'",
     "output_type": "error",
     "traceback": [
      "\u001b[1;31m---------------------------------------------------------------------------\u001b[0m",
      "\u001b[1;31mTypeError\u001b[0m                                 Traceback (most recent call last)",
      "\u001b[1;32mc:\\program files\\python37\\lib\\site-packages\\pandas\\core\\indexes\\multi.py\u001b[0m in \u001b[0;36mget_value\u001b[1;34m(self, series, key)\u001b[0m\n\u001b[0;32m   1496\u001b[0m             \u001b[1;32mtry\u001b[0m\u001b[1;33m:\u001b[0m\u001b[1;33m\u001b[0m\u001b[1;33m\u001b[0m\u001b[0m\n\u001b[1;32m-> 1497\u001b[1;33m                 \u001b[1;32mreturn\u001b[0m \u001b[0mlibindex\u001b[0m\u001b[1;33m.\u001b[0m\u001b[0mget_value_at\u001b[0m\u001b[1;33m(\u001b[0m\u001b[0ms\u001b[0m\u001b[1;33m,\u001b[0m \u001b[0mk\u001b[0m\u001b[1;33m)\u001b[0m\u001b[1;33m\u001b[0m\u001b[1;33m\u001b[0m\u001b[0m\n\u001b[0m\u001b[0;32m   1498\u001b[0m             \u001b[1;32mexcept\u001b[0m \u001b[0mIndexError\u001b[0m\u001b[1;33m:\u001b[0m\u001b[1;33m\u001b[0m\u001b[1;33m\u001b[0m\u001b[0m\n",
      "\u001b[1;32mpandas\\_libs\\index.pyx\u001b[0m in \u001b[0;36mpandas._libs.index.get_value_at\u001b[1;34m()\u001b[0m\n",
      "\u001b[1;32mpandas\\_libs\\index.pyx\u001b[0m in \u001b[0;36mpandas._libs.index.get_value_at\u001b[1;34m()\u001b[0m\n",
      "\u001b[1;32mpandas\\_libs\\util.pxd\u001b[0m in \u001b[0;36mpandas._libs.util.get_value_at\u001b[1;34m()\u001b[0m\n",
      "\u001b[1;32mpandas\\_libs\\util.pxd\u001b[0m in \u001b[0;36mpandas._libs.util.validate_indexer\u001b[1;34m()\u001b[0m\n",
      "\u001b[1;31mTypeError\u001b[0m: 'str' object cannot be interpreted as an integer",
      "\nDuring handling of the above exception, another exception occurred:\n",
      "\u001b[1;31mKeyError\u001b[0m                                  Traceback (most recent call last)",
      "\u001b[1;32m<ipython-input-237-1b91213b0149>\u001b[0m in \u001b[0;36m<module>\u001b[1;34m\u001b[0m\n\u001b[1;32m----> 1\u001b[1;33m \u001b[0mDf_12\u001b[0m\u001b[1;33m[\u001b[0m\u001b[1;34m'First_Name'\u001b[0m\u001b[1;33m]\u001b[0m\u001b[1;33m[\u001b[0m\u001b[1;34m'gutter'\u001b[0m\u001b[1;33m]\u001b[0m\u001b[1;33m\u001b[0m\u001b[1;33m\u001b[0m\u001b[0m\n\u001b[0m",
      "\u001b[1;32mc:\\program files\\python37\\lib\\site-packages\\pandas\\core\\series.py\u001b[0m in \u001b[0;36m__getitem__\u001b[1;34m(self, key)\u001b[0m\n\u001b[0;32m    869\u001b[0m         \u001b[0mkey\u001b[0m \u001b[1;33m=\u001b[0m \u001b[0mcom\u001b[0m\u001b[1;33m.\u001b[0m\u001b[0mapply_if_callable\u001b[0m\u001b[1;33m(\u001b[0m\u001b[0mkey\u001b[0m\u001b[1;33m,\u001b[0m \u001b[0mself\u001b[0m\u001b[1;33m)\u001b[0m\u001b[1;33m\u001b[0m\u001b[1;33m\u001b[0m\u001b[0m\n\u001b[0;32m    870\u001b[0m         \u001b[1;32mtry\u001b[0m\u001b[1;33m:\u001b[0m\u001b[1;33m\u001b[0m\u001b[1;33m\u001b[0m\u001b[0m\n\u001b[1;32m--> 871\u001b[1;33m             \u001b[0mresult\u001b[0m \u001b[1;33m=\u001b[0m \u001b[0mself\u001b[0m\u001b[1;33m.\u001b[0m\u001b[0mindex\u001b[0m\u001b[1;33m.\u001b[0m\u001b[0mget_value\u001b[0m\u001b[1;33m(\u001b[0m\u001b[0mself\u001b[0m\u001b[1;33m,\u001b[0m \u001b[0mkey\u001b[0m\u001b[1;33m)\u001b[0m\u001b[1;33m\u001b[0m\u001b[1;33m\u001b[0m\u001b[0m\n\u001b[0m\u001b[0;32m    872\u001b[0m \u001b[1;33m\u001b[0m\u001b[0m\n\u001b[0;32m    873\u001b[0m             \u001b[1;32mif\u001b[0m \u001b[1;32mnot\u001b[0m \u001b[0mis_scalar\u001b[0m\u001b[1;33m(\u001b[0m\u001b[0mresult\u001b[0m\u001b[1;33m)\u001b[0m\u001b[1;33m:\u001b[0m\u001b[1;33m\u001b[0m\u001b[1;33m\u001b[0m\u001b[0m\n",
      "\u001b[1;32mc:\\program files\\python37\\lib\\site-packages\\pandas\\core\\indexes\\multi.py\u001b[0m in \u001b[0;36mget_value\u001b[1;34m(self, series, key)\u001b[0m\n\u001b[0;32m   1503\u001b[0m                     \u001b[1;32mraise\u001b[0m \u001b[0mInvalidIndexError\u001b[0m\u001b[1;33m(\u001b[0m\u001b[0mkey\u001b[0m\u001b[1;33m)\u001b[0m\u001b[1;33m\u001b[0m\u001b[1;33m\u001b[0m\u001b[0m\n\u001b[0;32m   1504\u001b[0m                 \u001b[1;32melse\u001b[0m\u001b[1;33m:\u001b[0m\u001b[1;33m\u001b[0m\u001b[1;33m\u001b[0m\u001b[0m\n\u001b[1;32m-> 1505\u001b[1;33m                     \u001b[1;32mraise\u001b[0m \u001b[0me1\u001b[0m\u001b[1;33m\u001b[0m\u001b[1;33m\u001b[0m\u001b[0m\n\u001b[0m\u001b[0;32m   1506\u001b[0m             \u001b[1;32mexcept\u001b[0m \u001b[0mException\u001b[0m\u001b[1;33m:\u001b[0m  \u001b[1;31m# pragma: no cover\u001b[0m\u001b[1;33m\u001b[0m\u001b[1;33m\u001b[0m\u001b[0m\n\u001b[0;32m   1507\u001b[0m                 \u001b[1;32mraise\u001b[0m \u001b[0me1\u001b[0m\u001b[1;33m\u001b[0m\u001b[1;33m\u001b[0m\u001b[0m\n",
      "\u001b[1;32mc:\\program files\\python37\\lib\\site-packages\\pandas\\core\\indexes\\multi.py\u001b[0m in \u001b[0;36mget_value\u001b[1;34m(self, series, key)\u001b[0m\n\u001b[0;32m   1487\u001b[0m \u001b[1;33m\u001b[0m\u001b[0m\n\u001b[0;32m   1488\u001b[0m         \u001b[1;32mtry\u001b[0m\u001b[1;33m:\u001b[0m\u001b[1;33m\u001b[0m\u001b[1;33m\u001b[0m\u001b[0m\n\u001b[1;32m-> 1489\u001b[1;33m             \u001b[1;32mreturn\u001b[0m \u001b[0mself\u001b[0m\u001b[1;33m.\u001b[0m\u001b[0m_engine\u001b[0m\u001b[1;33m.\u001b[0m\u001b[0mget_value\u001b[0m\u001b[1;33m(\u001b[0m\u001b[0ms\u001b[0m\u001b[1;33m,\u001b[0m \u001b[0mk\u001b[0m\u001b[1;33m)\u001b[0m\u001b[1;33m\u001b[0m\u001b[1;33m\u001b[0m\u001b[0m\n\u001b[0m\u001b[0;32m   1490\u001b[0m         \u001b[1;32mexcept\u001b[0m \u001b[0mKeyError\u001b[0m \u001b[1;32mas\u001b[0m \u001b[0me1\u001b[0m\u001b[1;33m:\u001b[0m\u001b[1;33m\u001b[0m\u001b[1;33m\u001b[0m\u001b[0m\n\u001b[0;32m   1491\u001b[0m             \u001b[1;32mtry\u001b[0m\u001b[1;33m:\u001b[0m\u001b[1;33m\u001b[0m\u001b[1;33m\u001b[0m\u001b[0m\n",
      "\u001b[1;32mpandas\\_libs\\index.pyx\u001b[0m in \u001b[0;36mpandas._libs.index.IndexEngine.get_value\u001b[1;34m()\u001b[0m\n",
      "\u001b[1;32mpandas\\_libs\\index.pyx\u001b[0m in \u001b[0;36mpandas._libs.index.IndexEngine.get_value\u001b[1;34m()\u001b[0m\n",
      "\u001b[1;32mpandas\\_libs\\index.pyx\u001b[0m in \u001b[0;36mpandas._libs.index.IndexEngine.get_loc\u001b[1;34m()\u001b[0m\n",
      "\u001b[1;32mpandas\\_libs\\index.pyx\u001b[0m in \u001b[0;36mpandas._libs.index.BaseMultiIndexCodesEngine.get_loc\u001b[1;34m()\u001b[0m\n",
      "\u001b[1;31mKeyError\u001b[0m: 'gutter'"
     ]
    }
   ],
   "source": [
    "Df_12['First_Name']['gutter']"
   ]
  },
  {
   "cell_type": "code",
   "execution_count": 238,
   "metadata": {},
   "outputs": [
    {
     "data": {
      "text/plain": [
       "sgutter    Steve\n",
       "Name: First_Name, dtype: object"
      ]
     },
     "execution_count": 238,
     "metadata": {},
     "output_type": "execute_result"
    }
   ],
   "source": [
    "Df_12['First_Name']['sgutter'] ## The correct way of slicing"
   ]
  },
  {
   "cell_type": "code",
   "execution_count": 239,
   "metadata": {},
   "outputs": [
    {
     "data": {
      "text/html": [
       "<div>\n",
       "<style scoped>\n",
       "    .dataframe tbody tr th:only-of-type {\n",
       "        vertical-align: middle;\n",
       "    }\n",
       "\n",
       "    .dataframe tbody tr th {\n",
       "        vertical-align: top;\n",
       "    }\n",
       "\n",
       "    .dataframe thead th {\n",
       "        text-align: right;\n",
       "    }\n",
       "</style>\n",
       "<table border=\"1\" class=\"dataframe\">\n",
       "  <thead>\n",
       "    <tr style=\"text-align: right;\">\n",
       "      <th></th>\n",
       "      <th>First_Name</th>\n",
       "      <th>Age</th>\n",
       "    </tr>\n",
       "  </thead>\n",
       "  <tbody>\n",
       "    <tr>\n",
       "      <th>sgutter</th>\n",
       "      <td>Steve</td>\n",
       "      <td>32</td>\n",
       "    </tr>\n",
       "    <tr>\n",
       "      <th>lnarmen</th>\n",
       "      <td>Lia</td>\n",
       "      <td>28</td>\n",
       "    </tr>\n",
       "    <tr>\n",
       "      <th>vvoghan</th>\n",
       "      <td>Vin</td>\n",
       "      <td>45</td>\n",
       "    </tr>\n",
       "    <tr>\n",
       "      <th>kkoltin</th>\n",
       "      <td>Katie</td>\n",
       "      <td>38</td>\n",
       "    </tr>\n",
       "  </tbody>\n",
       "</table>\n",
       "</div>"
      ],
      "text/plain": [
       "        First_Name  Age\n",
       "sgutter      Steve   32\n",
       "lnarmen        Lia   28\n",
       "vvoghan        Vin   45\n",
       "kkoltin      Katie   38"
      ]
     },
     "execution_count": 239,
     "metadata": {},
     "output_type": "execute_result"
    }
   ],
   "source": [
    "Df_12[['First_Name','Age']]## Calling out multiple collumns"
   ]
  },
  {
   "cell_type": "code",
   "execution_count": 240,
   "metadata": {},
   "outputs": [
    {
     "data": {
      "text/html": [
       "<div>\n",
       "<style scoped>\n",
       "    .dataframe tbody tr th:only-of-type {\n",
       "        vertical-align: middle;\n",
       "    }\n",
       "\n",
       "    .dataframe tbody tr th {\n",
       "        vertical-align: top;\n",
       "    }\n",
       "\n",
       "    .dataframe thead th {\n",
       "        text-align: right;\n",
       "    }\n",
       "</style>\n",
       "<table border=\"1\" class=\"dataframe\">\n",
       "  <thead>\n",
       "    <tr style=\"text-align: right;\">\n",
       "      <th></th>\n",
       "      <th>First_Name</th>\n",
       "      <th>Age</th>\n",
       "    </tr>\n",
       "  </thead>\n",
       "  <tbody>\n",
       "    <tr>\n",
       "      <th>sgutter</th>\n",
       "      <td>Steve</td>\n",
       "      <td>32</td>\n",
       "    </tr>\n",
       "    <tr>\n",
       "      <th>lnarmen</th>\n",
       "      <td>Lia</td>\n",
       "      <td>28</td>\n",
       "    </tr>\n",
       "  </tbody>\n",
       "</table>\n",
       "</div>"
      ],
      "text/plain": [
       "        First_Name  Age\n",
       "sgutter      Steve   32\n",
       "lnarmen        Lia   28"
      ]
     },
     "execution_count": 240,
     "metadata": {},
     "output_type": "execute_result"
    }
   ],
   "source": [
    "Df_12[['First_Name','Age']].head(2)"
   ]
  },
  {
   "cell_type": "code",
   "execution_count": 241,
   "metadata": {},
   "outputs": [
    {
     "data": {
      "text/html": [
       "<div>\n",
       "<style scoped>\n",
       "    .dataframe tbody tr th:only-of-type {\n",
       "        vertical-align: middle;\n",
       "    }\n",
       "\n",
       "    .dataframe tbody tr th {\n",
       "        vertical-align: top;\n",
       "    }\n",
       "\n",
       "    .dataframe thead th {\n",
       "        text-align: right;\n",
       "    }\n",
       "</style>\n",
       "<table border=\"1\" class=\"dataframe\">\n",
       "  <thead>\n",
       "    <tr style=\"text-align: right;\">\n",
       "      <th></th>\n",
       "      <th>First_Name</th>\n",
       "      <th>Age</th>\n",
       "    </tr>\n",
       "  </thead>\n",
       "  <tbody>\n",
       "    <tr>\n",
       "      <th>vvoghan</th>\n",
       "      <td>Vin</td>\n",
       "      <td>45</td>\n",
       "    </tr>\n",
       "    <tr>\n",
       "      <th>kkoltin</th>\n",
       "      <td>Katie</td>\n",
       "      <td>38</td>\n",
       "    </tr>\n",
       "  </tbody>\n",
       "</table>\n",
       "</div>"
      ],
      "text/plain": [
       "        First_Name  Age\n",
       "vvoghan        Vin   45\n",
       "kkoltin      Katie   38"
      ]
     },
     "execution_count": 241,
     "metadata": {},
     "output_type": "execute_result"
    }
   ],
   "source": [
    "Df_12[['First_Name','Age']].tail(2)"
   ]
  },
  {
   "cell_type": "code",
   "execution_count": 242,
   "metadata": {},
   "outputs": [
    {
     "data": {
      "text/plain": [
       "sgutter    Steve\n",
       "lnarmen      Lia\n",
       "vvoghan      Vin\n",
       "kkoltin    Katie\n",
       "Name: First_Name, dtype: object"
      ]
     },
     "execution_count": 242,
     "metadata": {},
     "output_type": "execute_result"
    }
   ],
   "source": [
    "Df_12.First_Name"
   ]
  },
  {
   "cell_type": "code",
   "execution_count": 243,
   "metadata": {},
   "outputs": [
    {
     "data": {
      "text/plain": [
       "pandas.core.series.Series"
      ]
     },
     "execution_count": 243,
     "metadata": {},
     "output_type": "execute_result"
    }
   ],
   "source": [
    "type(Df_12.First_Name)"
   ]
  },
  {
   "cell_type": "code",
   "execution_count": 244,
   "metadata": {},
   "outputs": [
    {
     "data": {
      "text/plain": [
       "2"
      ]
     },
     "execution_count": 244,
     "metadata": {},
     "output_type": "execute_result"
    }
   ],
   "source": [
    "Df_12.columns.get_loc('Age') ## gets the column location number"
   ]
  },
  {
   "cell_type": "markdown",
   "metadata": {},
   "source": [
    "Slicing data out of DataFrame object, DFObject[ starting positional index : ending positional index - 1 : steps to hop ]\n",
    "If none are given, complete DataFrame Object will be displayed. The values can be given in negative as well.\n",
    "\n",
    "    Example:\n",
    "        1. [ : ending positional index - 1 : steps to hop ] --> displays from start to (ending -1)\n",
    "        2. [ starting positional index : : steps to hop ] --> displays drom starting till ending\n",
    "        3. [ starting positional index : ending positional index - 1 : -step ] --> displays indices in reverse order\n",
    "        4. [From index lable name : To index lable name \n",
    "        5. dataFrame.at[row , collumn] --> Access with the lables, returns a specific value\n",
    "        6. dataFrame.iat[row,collumn] --> Access with the index values, returns a specific value\n",
    "        7. DataFrame[::]['Column'] --> Will return a specific value at the position"
   ]
  },
  {
   "cell_type": "code",
   "execution_count": 245,
   "metadata": {},
   "outputs": [
    {
     "data": {
      "text/html": [
       "<div>\n",
       "<style scoped>\n",
       "    .dataframe tbody tr th:only-of-type {\n",
       "        vertical-align: middle;\n",
       "    }\n",
       "\n",
       "    .dataframe tbody tr th {\n",
       "        vertical-align: top;\n",
       "    }\n",
       "\n",
       "    .dataframe thead th {\n",
       "        text-align: right;\n",
       "    }\n",
       "</style>\n",
       "<table border=\"1\" class=\"dataframe\">\n",
       "  <thead>\n",
       "    <tr style=\"text-align: right;\">\n",
       "      <th></th>\n",
       "      <th>First_Name</th>\n",
       "      <th>Last_Name</th>\n",
       "      <th>Age</th>\n",
       "      <th>Gender</th>\n",
       "      <th>Rating</th>\n",
       "      <th>Nationality</th>\n",
       "    </tr>\n",
       "  </thead>\n",
       "  <tbody>\n",
       "    <tr>\n",
       "      <th>sgutter</th>\n",
       "      <td>Steve</td>\n",
       "      <td>Gutter</td>\n",
       "      <td>32</td>\n",
       "      <td>Male</td>\n",
       "      <td>3.45</td>\n",
       "      <td>IN</td>\n",
       "    </tr>\n",
       "    <tr>\n",
       "      <th>lnarmen</th>\n",
       "      <td>Lia</td>\n",
       "      <td>Narmen</td>\n",
       "      <td>28</td>\n",
       "      <td>Female</td>\n",
       "      <td>4.60</td>\n",
       "      <td>IN</td>\n",
       "    </tr>\n",
       "    <tr>\n",
       "      <th>vvoghan</th>\n",
       "      <td>Vin</td>\n",
       "      <td>Voughan</td>\n",
       "      <td>45</td>\n",
       "      <td>Male</td>\n",
       "      <td>3.90</td>\n",
       "      <td>IN</td>\n",
       "    </tr>\n",
       "    <tr>\n",
       "      <th>kkoltin</th>\n",
       "      <td>Katie</td>\n",
       "      <td>Koltin</td>\n",
       "      <td>38</td>\n",
       "      <td>Female</td>\n",
       "      <td>2.78</td>\n",
       "      <td>IN</td>\n",
       "    </tr>\n",
       "  </tbody>\n",
       "</table>\n",
       "</div>"
      ],
      "text/plain": [
       "        First_Name Last_Name  Age  Gender  Rating Nationality\n",
       "sgutter      Steve    Gutter   32    Male    3.45          IN\n",
       "lnarmen        Lia    Narmen   28  Female    4.60          IN\n",
       "vvoghan        Vin   Voughan   45    Male    3.90          IN\n",
       "kkoltin      Katie    Koltin   38  Female    2.78          IN"
      ]
     },
     "execution_count": 245,
     "metadata": {},
     "output_type": "execute_result"
    }
   ],
   "source": [
    "Df_12[::]## Displays full dataframe"
   ]
  },
  {
   "cell_type": "code",
   "execution_count": 246,
   "metadata": {},
   "outputs": [
    {
     "data": {
      "text/html": [
       "<div>\n",
       "<style scoped>\n",
       "    .dataframe tbody tr th:only-of-type {\n",
       "        vertical-align: middle;\n",
       "    }\n",
       "\n",
       "    .dataframe tbody tr th {\n",
       "        vertical-align: top;\n",
       "    }\n",
       "\n",
       "    .dataframe thead th {\n",
       "        text-align: right;\n",
       "    }\n",
       "</style>\n",
       "<table border=\"1\" class=\"dataframe\">\n",
       "  <thead>\n",
       "    <tr style=\"text-align: right;\">\n",
       "      <th></th>\n",
       "      <th>First_Name</th>\n",
       "      <th>Last_Name</th>\n",
       "      <th>Age</th>\n",
       "      <th>Gender</th>\n",
       "      <th>Rating</th>\n",
       "      <th>Nationality</th>\n",
       "    </tr>\n",
       "  </thead>\n",
       "  <tbody>\n",
       "    <tr>\n",
       "      <th>lnarmen</th>\n",
       "      <td>Lia</td>\n",
       "      <td>Narmen</td>\n",
       "      <td>28</td>\n",
       "      <td>Female</td>\n",
       "      <td>4.60</td>\n",
       "      <td>IN</td>\n",
       "    </tr>\n",
       "    <tr>\n",
       "      <th>vvoghan</th>\n",
       "      <td>Vin</td>\n",
       "      <td>Voughan</td>\n",
       "      <td>45</td>\n",
       "      <td>Male</td>\n",
       "      <td>3.90</td>\n",
       "      <td>IN</td>\n",
       "    </tr>\n",
       "    <tr>\n",
       "      <th>kkoltin</th>\n",
       "      <td>Katie</td>\n",
       "      <td>Koltin</td>\n",
       "      <td>38</td>\n",
       "      <td>Female</td>\n",
       "      <td>2.78</td>\n",
       "      <td>IN</td>\n",
       "    </tr>\n",
       "  </tbody>\n",
       "</table>\n",
       "</div>"
      ],
      "text/plain": [
       "        First_Name Last_Name  Age  Gender  Rating Nationality\n",
       "lnarmen        Lia    Narmen   28  Female    4.60          IN\n",
       "vvoghan        Vin   Voughan   45    Male    3.90          IN\n",
       "kkoltin      Katie    Koltin   38  Female    2.78          IN"
      ]
     },
     "execution_count": 246,
     "metadata": {},
     "output_type": "execute_result"
    }
   ],
   "source": [
    " Df_12[1:4:] # from index 1 : to index n-1 :"
   ]
  },
  {
   "cell_type": "code",
   "execution_count": 247,
   "metadata": {},
   "outputs": [
    {
     "data": {
      "text/plain": [
       "sgutter    Steve\n",
       "Name: First_Name, dtype: object"
      ]
     },
     "execution_count": 247,
     "metadata": {},
     "output_type": "execute_result"
    }
   ],
   "source": [
    "Df_12.First_Name.loc[['sgutter']]"
   ]
  },
  {
   "cell_type": "code",
   "execution_count": 248,
   "metadata": {},
   "outputs": [
    {
     "data": {
      "text/plain": [
       "pandas.core.series.Series"
      ]
     },
     "execution_count": 248,
     "metadata": {},
     "output_type": "execute_result"
    }
   ],
   "source": [
    "type(Df_12.First_Name.loc['sgutter'])"
   ]
  },
  {
   "cell_type": "markdown",
   "metadata": {},
   "source": [
    "to run a logical operation on the dataFrame column"
   ]
  },
  {
   "cell_type": "code",
   "execution_count": 249,
   "metadata": {},
   "outputs": [
    {
     "data": {
      "text/plain": [
       "sgutter     True\n",
       "lnarmen    False\n",
       "vvoghan     True\n",
       "kkoltin     True\n",
       "Name: Age, dtype: bool"
      ]
     },
     "execution_count": 249,
     "metadata": {},
     "output_type": "execute_result"
    }
   ],
   "source": [
    "Df_12.Age > 30 ## Returns a boolean values where the condition is True or False"
   ]
  },
  {
   "cell_type": "code",
   "execution_count": 250,
   "metadata": {},
   "outputs": [
    {
     "data": {
      "text/plain": [
       "sgutter    32\n",
       "vvoghan    45\n",
       "kkoltin    38\n",
       "Name: Age, dtype: int64"
      ]
     },
     "execution_count": 250,
     "metadata": {},
     "output_type": "execute_result"
    }
   ],
   "source": [
    "Df_12.Age[Df_12.Age > 30]"
   ]
  },
  {
   "cell_type": "code",
   "execution_count": 251,
   "metadata": {},
   "outputs": [
    {
     "data": {
      "text/plain": [
       "array([32], dtype=int64)"
      ]
     },
     "execution_count": 251,
     "metadata": {},
     "output_type": "execute_result"
    }
   ],
   "source": [
    "Df_12.at['sgutter', 'Age']"
   ]
  },
  {
   "cell_type": "code",
   "execution_count": 252,
   "metadata": {},
   "outputs": [
    {
     "data": {
      "text/plain": [
       "32"
      ]
     },
     "execution_count": 252,
     "metadata": {},
     "output_type": "execute_result"
    }
   ],
   "source": [
    "Df_12.iat[0,2]"
   ]
  },
  {
   "cell_type": "markdown",
   "metadata": {},
   "source": [
    "Modifying DataFrame"
   ]
  },
  {
   "cell_type": "code",
   "execution_count": 253,
   "metadata": {},
   "outputs": [
    {
     "data": {
      "text/plain": [
       "Index(['First_Name', 'Last_Name', 'YearsOld', 'Gender', 'Rating',\n",
       "       'Nationality'],\n",
       "      dtype='object')"
      ]
     },
     "execution_count": 253,
     "metadata": {},
     "output_type": "execute_result"
    }
   ],
   "source": [
    "## Renaming a column, 'inplace=True' would make changes to the original dataSet, defaultly it is set to 'False'\n",
    "Df_12.rename(columns={'Age':'YearsOld'}, inplace=True)\n",
    "Df_12.columns"
   ]
  },
  {
   "cell_type": "code",
   "execution_count": 254,
   "metadata": {},
   "outputs": [
    {
     "data": {
      "text/plain": [
       "Index(['First_Name', 'Last_Name', 'Age', 'Gender', 'Rating', 'Nationality'], dtype='object')"
      ]
     },
     "execution_count": 254,
     "metadata": {},
     "output_type": "execute_result"
    }
   ],
   "source": [
    "## Defaulting the infalse\n",
    "Df_15=Df_12.rename(columns={'YearsOld':'Age'})\n",
    "Df_15.columns"
   ]
  },
  {
   "cell_type": "code",
   "execution_count": 255,
   "metadata": {},
   "outputs": [
    {
     "data": {
      "text/plain": [
       "Index(['First_Name', 'Last_Name', 'YearsOld', 'Gender', 'Rating',\n",
       "       'Nationality'],\n",
       "      dtype='object')"
      ]
     },
     "execution_count": 255,
     "metadata": {},
     "output_type": "execute_result"
    }
   ],
   "source": [
    "Df_12.columns# We can see that the original Dataframe is not changed"
   ]
  },
  {
   "cell_type": "code",
   "execution_count": 256,
   "metadata": {},
   "outputs": [
    {
     "data": {
      "text/html": [
       "<div>\n",
       "<style scoped>\n",
       "    .dataframe tbody tr th:only-of-type {\n",
       "        vertical-align: middle;\n",
       "    }\n",
       "\n",
       "    .dataframe tbody tr th {\n",
       "        vertical-align: top;\n",
       "    }\n",
       "\n",
       "    .dataframe thead th {\n",
       "        text-align: right;\n",
       "    }\n",
       "</style>\n",
       "<table border=\"1\" class=\"dataframe\">\n",
       "  <thead>\n",
       "    <tr style=\"text-align: right;\">\n",
       "      <th></th>\n",
       "      <th>First_Name</th>\n",
       "      <th>Last_Name</th>\n",
       "      <th>YearsOld</th>\n",
       "      <th>Gender</th>\n",
       "      <th>Rating</th>\n",
       "      <th>Nationality</th>\n",
       "      <th>Salary</th>\n",
       "    </tr>\n",
       "  </thead>\n",
       "  <tbody>\n",
       "    <tr>\n",
       "      <th>sgutter</th>\n",
       "      <td>Steve</td>\n",
       "      <td>Gutter</td>\n",
       "      <td>32</td>\n",
       "      <td>Male</td>\n",
       "      <td>3.45</td>\n",
       "      <td>IN</td>\n",
       "      <td>1000</td>\n",
       "    </tr>\n",
       "    <tr>\n",
       "      <th>lnarmen</th>\n",
       "      <td>Lia</td>\n",
       "      <td>Narmen</td>\n",
       "      <td>28</td>\n",
       "      <td>Female</td>\n",
       "      <td>4.60</td>\n",
       "      <td>IN</td>\n",
       "      <td>1200</td>\n",
       "    </tr>\n",
       "    <tr>\n",
       "      <th>vvoghan</th>\n",
       "      <td>Vin</td>\n",
       "      <td>Voughan</td>\n",
       "      <td>45</td>\n",
       "      <td>Male</td>\n",
       "      <td>3.90</td>\n",
       "      <td>IN</td>\n",
       "      <td>750</td>\n",
       "    </tr>\n",
       "    <tr>\n",
       "      <th>kkoltin</th>\n",
       "      <td>Katie</td>\n",
       "      <td>Koltin</td>\n",
       "      <td>38</td>\n",
       "      <td>Female</td>\n",
       "      <td>2.78</td>\n",
       "      <td>IN</td>\n",
       "      <td>2000</td>\n",
       "    </tr>\n",
       "  </tbody>\n",
       "</table>\n",
       "</div>"
      ],
      "text/plain": [
       "        First_Name Last_Name  YearsOld  Gender  Rating Nationality  Salary\n",
       "sgutter      Steve    Gutter        32    Male    3.45          IN    1000\n",
       "lnarmen        Lia    Narmen        28  Female    4.60          IN    1200\n",
       "vvoghan        Vin   Voughan        45    Male    3.90          IN     750\n",
       "kkoltin      Katie    Koltin        38  Female    2.78          IN    2000"
      ]
     },
     "execution_count": 256,
     "metadata": {},
     "output_type": "execute_result"
    }
   ],
   "source": [
    "## Adding a new column at the end of the dataframe existing index\n",
    "Df_12['Salary']=([1000,1200,750,2000])\n",
    "Df_12"
   ]
  },
  {
   "cell_type": "code",
   "execution_count": 257,
   "metadata": {},
   "outputs": [
    {
     "data": {
      "text/html": [
       "<div>\n",
       "<style scoped>\n",
       "    .dataframe tbody tr th:only-of-type {\n",
       "        vertical-align: middle;\n",
       "    }\n",
       "\n",
       "    .dataframe tbody tr th {\n",
       "        vertical-align: top;\n",
       "    }\n",
       "\n",
       "    .dataframe thead th {\n",
       "        text-align: right;\n",
       "    }\n",
       "</style>\n",
       "<table border=\"1\" class=\"dataframe\">\n",
       "  <thead>\n",
       "    <tr style=\"text-align: right;\">\n",
       "      <th></th>\n",
       "      <th>First_Name</th>\n",
       "      <th>Last_Name</th>\n",
       "      <th>YearsOld</th>\n",
       "      <th>Gender</th>\n",
       "      <th>Rating</th>\n",
       "      <th>Nationality</th>\n",
       "      <th>Salary</th>\n",
       "    </tr>\n",
       "  </thead>\n",
       "  <tbody>\n",
       "    <tr>\n",
       "      <th>sgutter</th>\n",
       "      <td>Steve</td>\n",
       "      <td>Gutter</td>\n",
       "      <td>32</td>\n",
       "      <td>Male</td>\n",
       "      <td>3.45</td>\n",
       "      <td>IN</td>\n",
       "      <td>1000</td>\n",
       "    </tr>\n",
       "    <tr>\n",
       "      <th>lnarmen</th>\n",
       "      <td>Lia</td>\n",
       "      <td>Narmen</td>\n",
       "      <td>28</td>\n",
       "      <td>Female</td>\n",
       "      <td>4.60</td>\n",
       "      <td>IN</td>\n",
       "      <td>1200</td>\n",
       "    </tr>\n",
       "    <tr>\n",
       "      <th>vvoghan</th>\n",
       "      <td>Vin</td>\n",
       "      <td>Voughan</td>\n",
       "      <td>45</td>\n",
       "      <td>Male</td>\n",
       "      <td>3.90</td>\n",
       "      <td>IN</td>\n",
       "      <td>750</td>\n",
       "    </tr>\n",
       "    <tr>\n",
       "      <th>kkoltin</th>\n",
       "      <td>Katie</td>\n",
       "      <td>Koltin</td>\n",
       "      <td>38</td>\n",
       "      <td>Female</td>\n",
       "      <td>2.78</td>\n",
       "      <td>IN</td>\n",
       "      <td>3000</td>\n",
       "    </tr>\n",
       "  </tbody>\n",
       "</table>\n",
       "</div>"
      ],
      "text/plain": [
       "        First_Name Last_Name  YearsOld  Gender  Rating Nationality  Salary\n",
       "sgutter      Steve    Gutter        32    Male    3.45          IN    1000\n",
       "lnarmen        Lia    Narmen        28  Female    4.60          IN    1200\n",
       "vvoghan        Vin   Voughan        45    Male    3.90          IN     750\n",
       "kkoltin      Katie    Koltin        38  Female    2.78          IN    3000"
      ]
     },
     "execution_count": 257,
     "metadata": {},
     "output_type": "execute_result"
    }
   ],
   "source": [
    "## To perminantly update a value in a specific space\n",
    "Df_12.at['kkoltin','Salary'] = 3000\n",
    "Df_12"
   ]
  },
  {
   "cell_type": "code",
   "execution_count": 258,
   "metadata": {},
   "outputs": [
    {
     "data": {
      "text/plain": [
       "sgutter    1000\n",
       "Name: Salary, dtype: int64"
      ]
     },
     "execution_count": 258,
     "metadata": {},
     "output_type": "execute_result"
    }
   ],
   "source": [
    "# To access the value directly from the data frame which returns a series object\n",
    "Df_12[0:1:1]['Salary']"
   ]
  },
  {
   "cell_type": "code",
   "execution_count": 259,
   "metadata": {},
   "outputs": [
    {
     "data": {
      "text/html": [
       "<div>\n",
       "<style scoped>\n",
       "    .dataframe tbody tr th:only-of-type {\n",
       "        vertical-align: middle;\n",
       "    }\n",
       "\n",
       "    .dataframe tbody tr th {\n",
       "        vertical-align: top;\n",
       "    }\n",
       "\n",
       "    .dataframe thead th {\n",
       "        text-align: right;\n",
       "    }\n",
       "</style>\n",
       "<table border=\"1\" class=\"dataframe\">\n",
       "  <thead>\n",
       "    <tr style=\"text-align: right;\">\n",
       "      <th></th>\n",
       "      <th>Salary</th>\n",
       "    </tr>\n",
       "  </thead>\n",
       "  <tbody>\n",
       "    <tr>\n",
       "      <th>sgutter</th>\n",
       "      <td>1000</td>\n",
       "    </tr>\n",
       "    <tr>\n",
       "      <th>lnarmen</th>\n",
       "      <td>1200</td>\n",
       "    </tr>\n",
       "    <tr>\n",
       "      <th>vvoghan</th>\n",
       "      <td>750</td>\n",
       "    </tr>\n",
       "  </tbody>\n",
       "</table>\n",
       "</div>"
      ],
      "text/plain": [
       "         Salary\n",
       "sgutter    1000\n",
       "lnarmen    1200\n",
       "vvoghan     750"
      ]
     },
     "execution_count": 259,
     "metadata": {},
     "output_type": "execute_result"
    }
   ],
   "source": [
    "# To access multiple values of the same collumn, returns a dataframe\n",
    "Df_12[0:3:1][['Salary']]"
   ]
  },
  {
   "cell_type": "code",
   "execution_count": 260,
   "metadata": {},
   "outputs": [
    {
     "data": {
      "text/html": [
       "<div>\n",
       "<style scoped>\n",
       "    .dataframe tbody tr th:only-of-type {\n",
       "        vertical-align: middle;\n",
       "    }\n",
       "\n",
       "    .dataframe tbody tr th {\n",
       "        vertical-align: top;\n",
       "    }\n",
       "\n",
       "    .dataframe thead th {\n",
       "        text-align: right;\n",
       "    }\n",
       "</style>\n",
       "<table border=\"1\" class=\"dataframe\">\n",
       "  <thead>\n",
       "    <tr style=\"text-align: right;\">\n",
       "      <th></th>\n",
       "      <th>First_Name</th>\n",
       "      <th>Last_Name</th>\n",
       "      <th>YearsOld</th>\n",
       "      <th>Gender</th>\n",
       "      <th>Rating</th>\n",
       "      <th>Nationality</th>\n",
       "      <th>Salary</th>\n",
       "    </tr>\n",
       "  </thead>\n",
       "  <tbody>\n",
       "    <tr>\n",
       "      <th>sgutter</th>\n",
       "      <td>Steve</td>\n",
       "      <td>Gutter</td>\n",
       "      <td>32</td>\n",
       "      <td>Male</td>\n",
       "      <td>3.45</td>\n",
       "      <td>IN</td>\n",
       "      <td>1000</td>\n",
       "    </tr>\n",
       "    <tr>\n",
       "      <th>lnarmen</th>\n",
       "      <td>Lia</td>\n",
       "      <td>Narmen</td>\n",
       "      <td>28</td>\n",
       "      <td>Female</td>\n",
       "      <td>4.60</td>\n",
       "      <td>IN</td>\n",
       "      <td>1200</td>\n",
       "    </tr>\n",
       "    <tr>\n",
       "      <th>vvoghan</th>\n",
       "      <td>Vin</td>\n",
       "      <td>Voughan</td>\n",
       "      <td>33</td>\n",
       "      <td>Male</td>\n",
       "      <td>3.90</td>\n",
       "      <td>IN</td>\n",
       "      <td>750</td>\n",
       "    </tr>\n",
       "    <tr>\n",
       "      <th>kkoltin</th>\n",
       "      <td>Katie</td>\n",
       "      <td>Koltin</td>\n",
       "      <td>38</td>\n",
       "      <td>Female</td>\n",
       "      <td>2.78</td>\n",
       "      <td>IN</td>\n",
       "      <td>3000</td>\n",
       "    </tr>\n",
       "  </tbody>\n",
       "</table>\n",
       "</div>"
      ],
      "text/plain": [
       "        First_Name Last_Name  YearsOld  Gender  Rating Nationality  Salary\n",
       "sgutter      Steve    Gutter        32    Male    3.45          IN    1000\n",
       "lnarmen        Lia    Narmen        28  Female    4.60          IN    1200\n",
       "vvoghan        Vin   Voughan        33    Male    3.90          IN     750\n",
       "kkoltin      Katie    Koltin        38  Female    2.78          IN    3000"
      ]
     },
     "execution_count": 260,
     "metadata": {},
     "output_type": "execute_result"
    }
   ],
   "source": [
    "# Can also be achieved by loc\n",
    "Df_12.loc['vvoghan' , 'YearsOld'] = 33\n",
    "Df_12\n",
    "#Can also be achived through index location"
   ]
  },
  {
   "cell_type": "code",
   "execution_count": 261,
   "metadata": {},
   "outputs": [
    {
     "data": {
      "text/html": [
       "<div>\n",
       "<style scoped>\n",
       "    .dataframe tbody tr th:only-of-type {\n",
       "        vertical-align: middle;\n",
       "    }\n",
       "\n",
       "    .dataframe tbody tr th {\n",
       "        vertical-align: top;\n",
       "    }\n",
       "\n",
       "    .dataframe thead th {\n",
       "        text-align: right;\n",
       "    }\n",
       "</style>\n",
       "<table border=\"1\" class=\"dataframe\">\n",
       "  <thead>\n",
       "    <tr style=\"text-align: right;\">\n",
       "      <th></th>\n",
       "      <th>First_Name</th>\n",
       "      <th>Last_Name</th>\n",
       "      <th>YearsOld</th>\n",
       "      <th>Gender</th>\n",
       "      <th>Rating</th>\n",
       "      <th>Hike</th>\n",
       "      <th>Rank</th>\n",
       "      <th>Nationality</th>\n",
       "      <th>Eligiblity</th>\n",
       "      <th>Salary</th>\n",
       "    </tr>\n",
       "  </thead>\n",
       "  <tbody>\n",
       "    <tr>\n",
       "      <th>sgutter</th>\n",
       "      <td>Steve</td>\n",
       "      <td>Gutter</td>\n",
       "      <td>32</td>\n",
       "      <td>Male</td>\n",
       "      <td>3.45</td>\n",
       "      <td>20</td>\n",
       "      <td>2</td>\n",
       "      <td>IN</td>\n",
       "      <td>1</td>\n",
       "      <td>1000</td>\n",
       "    </tr>\n",
       "    <tr>\n",
       "      <th>lnarmen</th>\n",
       "      <td>Lia</td>\n",
       "      <td>Narmen</td>\n",
       "      <td>28</td>\n",
       "      <td>Female</td>\n",
       "      <td>4.60</td>\n",
       "      <td>10</td>\n",
       "      <td>3</td>\n",
       "      <td>IN</td>\n",
       "      <td>1</td>\n",
       "      <td>1200</td>\n",
       "    </tr>\n",
       "    <tr>\n",
       "      <th>vvoghan</th>\n",
       "      <td>Vin</td>\n",
       "      <td>Voughan</td>\n",
       "      <td>33</td>\n",
       "      <td>Male</td>\n",
       "      <td>3.90</td>\n",
       "      <td>30</td>\n",
       "      <td>1</td>\n",
       "      <td>IN</td>\n",
       "      <td>1</td>\n",
       "      <td>750</td>\n",
       "    </tr>\n",
       "    <tr>\n",
       "      <th>kkoltin</th>\n",
       "      <td>Katie</td>\n",
       "      <td>Koltin</td>\n",
       "      <td>38</td>\n",
       "      <td>Female</td>\n",
       "      <td>2.78</td>\n",
       "      <td>5</td>\n",
       "      <td>4</td>\n",
       "      <td>IN</td>\n",
       "      <td>1</td>\n",
       "      <td>3000</td>\n",
       "    </tr>\n",
       "  </tbody>\n",
       "</table>\n",
       "</div>"
      ],
      "text/plain": [
       "        First_Name Last_Name  YearsOld  Gender  Rating  Hike  Rank  \\\n",
       "sgutter      Steve    Gutter        32    Male    3.45    20     2   \n",
       "lnarmen        Lia    Narmen        28  Female    4.60    10     3   \n",
       "vvoghan        Vin   Voughan        33    Male    3.90    30     1   \n",
       "kkoltin      Katie    Koltin        38  Female    2.78     5     4   \n",
       "\n",
       "        Nationality  Eligiblity  Salary  \n",
       "sgutter          IN           1    1000  \n",
       "lnarmen          IN           1    1200  \n",
       "vvoghan          IN           1     750  \n",
       "kkoltin          IN           1    3000  "
      ]
     },
     "execution_count": 261,
     "metadata": {},
     "output_type": "execute_result"
    }
   ],
   "source": [
    "## To insert a value inside the dataframe after a specific index\n",
    "## If a column already exists it will throw an error\n",
    "Df_12.insert(loc=5,column='Hike',value=[20,10,30,5])\n",
    "Df_12.insert(loc=6,column='Rank',value=[2,3,1,4])\n",
    "Df_12.insert(loc=8,column='Eligiblity',value=[1,1,1,1])\n",
    "Df_12"
   ]
  },
  {
   "cell_type": "code",
   "execution_count": 262,
   "metadata": {},
   "outputs": [],
   "source": [
    "## To remove a complete column out of the DataFrame\n",
    "## If the Column is not found it will throw an error\n",
    "Df_12.pop('Eligiblity') ## --> returns the series which is popped out of dataFrame, can be saved in a different valriables\n",
    "del(Df_12['Hike']) ##--> del can also be used\n",
    "Df_15=Df_12.drop(['Rank'], axis=1)## Returns dataframe,useful as we can create new data frames out of it. \n",
    "# inplace: False-> to refrain from editing the original dataset, True-> to make changes to original Dataset\n",
    "# Can delete both rows and column values with axis parameter: axis=[0,1] which is row,column"
   ]
  },
  {
   "cell_type": "code",
   "execution_count": 263,
   "metadata": {},
   "outputs": [
    {
     "data": {
      "text/html": [
       "<div>\n",
       "<style scoped>\n",
       "    .dataframe tbody tr th:only-of-type {\n",
       "        vertical-align: middle;\n",
       "    }\n",
       "\n",
       "    .dataframe tbody tr th {\n",
       "        vertical-align: top;\n",
       "    }\n",
       "\n",
       "    .dataframe thead th {\n",
       "        text-align: right;\n",
       "    }\n",
       "</style>\n",
       "<table border=\"1\" class=\"dataframe\">\n",
       "  <thead>\n",
       "    <tr style=\"text-align: right;\">\n",
       "      <th></th>\n",
       "      <th>First_Name</th>\n",
       "      <th>Last_Name</th>\n",
       "      <th>YearsOld</th>\n",
       "      <th>Gender</th>\n",
       "      <th>Rating</th>\n",
       "      <th>Nationality</th>\n",
       "      <th>Salary</th>\n",
       "    </tr>\n",
       "  </thead>\n",
       "  <tbody>\n",
       "    <tr>\n",
       "      <th>sgutter</th>\n",
       "      <td>Steve</td>\n",
       "      <td>Gutter</td>\n",
       "      <td>32</td>\n",
       "      <td>Male</td>\n",
       "      <td>3.45</td>\n",
       "      <td>IN</td>\n",
       "      <td>1000</td>\n",
       "    </tr>\n",
       "    <tr>\n",
       "      <th>lnarmen</th>\n",
       "      <td>Lia</td>\n",
       "      <td>Narmen</td>\n",
       "      <td>28</td>\n",
       "      <td>Female</td>\n",
       "      <td>4.60</td>\n",
       "      <td>IN</td>\n",
       "      <td>1200</td>\n",
       "    </tr>\n",
       "    <tr>\n",
       "      <th>vvoghan</th>\n",
       "      <td>Vin</td>\n",
       "      <td>Voughan</td>\n",
       "      <td>33</td>\n",
       "      <td>Male</td>\n",
       "      <td>3.90</td>\n",
       "      <td>IN</td>\n",
       "      <td>750</td>\n",
       "    </tr>\n",
       "    <tr>\n",
       "      <th>kkoltin</th>\n",
       "      <td>Katie</td>\n",
       "      <td>Koltin</td>\n",
       "      <td>38</td>\n",
       "      <td>Female</td>\n",
       "      <td>2.78</td>\n",
       "      <td>IN</td>\n",
       "      <td>3000</td>\n",
       "    </tr>\n",
       "  </tbody>\n",
       "</table>\n",
       "</div>"
      ],
      "text/plain": [
       "        First_Name Last_Name  YearsOld  Gender  Rating Nationality  Salary\n",
       "sgutter      Steve    Gutter        32    Male    3.45          IN    1000\n",
       "lnarmen        Lia    Narmen        28  Female    4.60          IN    1200\n",
       "vvoghan        Vin   Voughan        33    Male    3.90          IN     750\n",
       "kkoltin      Katie    Koltin        38  Female    2.78          IN    3000"
      ]
     },
     "execution_count": 263,
     "metadata": {},
     "output_type": "execute_result"
    }
   ],
   "source": [
    "Df_15"
   ]
  },
  {
   "cell_type": "markdown",
   "metadata": {},
   "source": [
    "Append two dataframes\n",
    "1. DF1 = Df_12.append(Df_15) #If the column names are different then Missibg values will be added as NaN.\n",
    "2. DF1 = Df_12.append(Df_15, ignore_index = T) # all the index lables will be converted to integers 0,1,2,3....\n",
    "\n",
    "To add a new row to the dataframe\n",
    "1. DF.loc['NameOfRow'] = ['its values'] --> if all the values are not provided it will place NaN"
   ]
  },
  {
   "cell_type": "markdown",
   "metadata": {},
   "source": [
    "Arthematic Operations"
   ]
  },
  {
   "cell_type": "code",
   "execution_count": 264,
   "metadata": {},
   "outputs": [
    {
     "data": {
      "text/html": [
       "<div>\n",
       "<style scoped>\n",
       "    .dataframe tbody tr th:only-of-type {\n",
       "        vertical-align: middle;\n",
       "    }\n",
       "\n",
       "    .dataframe tbody tr th {\n",
       "        vertical-align: top;\n",
       "    }\n",
       "\n",
       "    .dataframe thead th {\n",
       "        text-align: right;\n",
       "    }\n",
       "</style>\n",
       "<table border=\"1\" class=\"dataframe\">\n",
       "  <thead>\n",
       "    <tr style=\"text-align: right;\">\n",
       "      <th></th>\n",
       "      <th>First_Name</th>\n",
       "      <th>Last_Name</th>\n",
       "      <th>YearsOld</th>\n",
       "      <th>Gender</th>\n",
       "      <th>Rating</th>\n",
       "      <th>Rank</th>\n",
       "      <th>Nationality</th>\n",
       "      <th>Salary</th>\n",
       "    </tr>\n",
       "  </thead>\n",
       "  <tbody>\n",
       "    <tr>\n",
       "      <th>sgutter</th>\n",
       "      <td>Steve</td>\n",
       "      <td>Gutter</td>\n",
       "      <td>32</td>\n",
       "      <td>Male</td>\n",
       "      <td>3.45</td>\n",
       "      <td>2</td>\n",
       "      <td>IN</td>\n",
       "      <td>2000</td>\n",
       "    </tr>\n",
       "    <tr>\n",
       "      <th>lnarmen</th>\n",
       "      <td>Lia</td>\n",
       "      <td>Narmen</td>\n",
       "      <td>28</td>\n",
       "      <td>Female</td>\n",
       "      <td>4.60</td>\n",
       "      <td>3</td>\n",
       "      <td>IN</td>\n",
       "      <td>2400</td>\n",
       "    </tr>\n",
       "    <tr>\n",
       "      <th>vvoghan</th>\n",
       "      <td>Vin</td>\n",
       "      <td>Voughan</td>\n",
       "      <td>33</td>\n",
       "      <td>Male</td>\n",
       "      <td>3.90</td>\n",
       "      <td>1</td>\n",
       "      <td>IN</td>\n",
       "      <td>1500</td>\n",
       "    </tr>\n",
       "    <tr>\n",
       "      <th>kkoltin</th>\n",
       "      <td>Katie</td>\n",
       "      <td>Koltin</td>\n",
       "      <td>38</td>\n",
       "      <td>Female</td>\n",
       "      <td>2.78</td>\n",
       "      <td>4</td>\n",
       "      <td>IN</td>\n",
       "      <td>6000</td>\n",
       "    </tr>\n",
       "  </tbody>\n",
       "</table>\n",
       "</div>"
      ],
      "text/plain": [
       "        First_Name Last_Name  YearsOld  Gender  Rating  Rank Nationality  \\\n",
       "sgutter      Steve    Gutter        32    Male    3.45     2          IN   \n",
       "lnarmen        Lia    Narmen        28  Female    4.60     3          IN   \n",
       "vvoghan        Vin   Voughan        33    Male    3.90     1          IN   \n",
       "kkoltin      Katie    Koltin        38  Female    2.78     4          IN   \n",
       "\n",
       "         Salary  \n",
       "sgutter    2000  \n",
       "lnarmen    2400  \n",
       "vvoghan    1500  \n",
       "kkoltin    6000  "
      ]
     },
     "execution_count": 264,
     "metadata": {},
     "output_type": "execute_result"
    }
   ],
   "source": [
    "Df_12['Salary'] = Df_12['Salary'] * 2\n",
    "Df_12"
   ]
  },
  {
   "cell_type": "code",
   "execution_count": 265,
   "metadata": {},
   "outputs": [
    {
     "data": {
      "text/html": [
       "<div>\n",
       "<style scoped>\n",
       "    .dataframe tbody tr th:only-of-type {\n",
       "        vertical-align: middle;\n",
       "    }\n",
       "\n",
       "    .dataframe tbody tr th {\n",
       "        vertical-align: top;\n",
       "    }\n",
       "\n",
       "    .dataframe thead th {\n",
       "        text-align: right;\n",
       "    }\n",
       "</style>\n",
       "<table border=\"1\" class=\"dataframe\">\n",
       "  <thead>\n",
       "    <tr style=\"text-align: right;\">\n",
       "      <th></th>\n",
       "      <th>First_Name</th>\n",
       "      <th>Last_Name</th>\n",
       "      <th>YearsOld</th>\n",
       "      <th>Gender</th>\n",
       "      <th>Rating</th>\n",
       "      <th>Rank</th>\n",
       "      <th>Nationality</th>\n",
       "      <th>Salary</th>\n",
       "    </tr>\n",
       "  </thead>\n",
       "  <tbody>\n",
       "    <tr>\n",
       "      <th>sgutter</th>\n",
       "      <td>Steve</td>\n",
       "      <td>Gutter</td>\n",
       "      <td>32</td>\n",
       "      <td>Male</td>\n",
       "      <td>3.45</td>\n",
       "      <td>2</td>\n",
       "      <td>IN</td>\n",
       "      <td>2040</td>\n",
       "    </tr>\n",
       "    <tr>\n",
       "      <th>lnarmen</th>\n",
       "      <td>Lia</td>\n",
       "      <td>Narmen</td>\n",
       "      <td>28</td>\n",
       "      <td>Female</td>\n",
       "      <td>4.60</td>\n",
       "      <td>3</td>\n",
       "      <td>IN</td>\n",
       "      <td>2400</td>\n",
       "    </tr>\n",
       "    <tr>\n",
       "      <th>vvoghan</th>\n",
       "      <td>Vin</td>\n",
       "      <td>Voughan</td>\n",
       "      <td>33</td>\n",
       "      <td>Male</td>\n",
       "      <td>3.90</td>\n",
       "      <td>1</td>\n",
       "      <td>IN</td>\n",
       "      <td>1500</td>\n",
       "    </tr>\n",
       "    <tr>\n",
       "      <th>kkoltin</th>\n",
       "      <td>Katie</td>\n",
       "      <td>Koltin</td>\n",
       "      <td>38</td>\n",
       "      <td>Female</td>\n",
       "      <td>2.78</td>\n",
       "      <td>4</td>\n",
       "      <td>IN</td>\n",
       "      <td>6000</td>\n",
       "    </tr>\n",
       "  </tbody>\n",
       "</table>\n",
       "</div>"
      ],
      "text/plain": [
       "        First_Name Last_Name  YearsOld  Gender  Rating  Rank Nationality  \\\n",
       "sgutter      Steve    Gutter        32    Male    3.45     2          IN   \n",
       "lnarmen        Lia    Narmen        28  Female    4.60     3          IN   \n",
       "vvoghan        Vin   Voughan        33    Male    3.90     1          IN   \n",
       "kkoltin      Katie    Koltin        38  Female    2.78     4          IN   \n",
       "\n",
       "         Salary  \n",
       "sgutter    2040  \n",
       "lnarmen    2400  \n",
       "vvoghan    1500  \n",
       "kkoltin    6000  "
      ]
     },
     "execution_count": 265,
     "metadata": {},
     "output_type": "execute_result"
    }
   ],
   "source": [
    "Df_12.at['sgutter','Salary'] =  Df_12.loc['sgutter','Salary'] + 40\n",
    "Df_12"
   ]
  },
  {
   "cell_type": "code",
   "execution_count": 266,
   "metadata": {},
   "outputs": [
    {
     "data": {
      "text/plain": [
       "sgutter    2040\n",
       "Name: Salary, dtype: int64"
      ]
     },
     "execution_count": 266,
     "metadata": {},
     "output_type": "execute_result"
    }
   ],
   "source": [
    "Df_12.loc['sgutter','Salary']"
   ]
  },
  {
   "cell_type": "markdown",
   "metadata": {},
   "source": [
    "Re-Indexing"
   ]
  },
  {
   "cell_type": "code",
   "execution_count": 267,
   "metadata": {},
   "outputs": [
    {
     "data": {
      "text/html": [
       "<div>\n",
       "<style scoped>\n",
       "    .dataframe tbody tr th:only-of-type {\n",
       "        vertical-align: middle;\n",
       "    }\n",
       "\n",
       "    .dataframe tbody tr th {\n",
       "        vertical-align: top;\n",
       "    }\n",
       "\n",
       "    .dataframe thead th {\n",
       "        text-align: right;\n",
       "    }\n",
       "</style>\n",
       "<table border=\"1\" class=\"dataframe\">\n",
       "  <thead>\n",
       "    <tr style=\"text-align: right;\">\n",
       "      <th></th>\n",
       "      <th>level_0</th>\n",
       "      <th>First_Name</th>\n",
       "      <th>Last_Name</th>\n",
       "      <th>YearsOld</th>\n",
       "      <th>Gender</th>\n",
       "      <th>Rating</th>\n",
       "      <th>Rank</th>\n",
       "      <th>Nationality</th>\n",
       "      <th>Salary</th>\n",
       "    </tr>\n",
       "  </thead>\n",
       "  <tbody>\n",
       "    <tr>\n",
       "      <th>0</th>\n",
       "      <td>sgutter</td>\n",
       "      <td>Steve</td>\n",
       "      <td>Gutter</td>\n",
       "      <td>32</td>\n",
       "      <td>Male</td>\n",
       "      <td>3.45</td>\n",
       "      <td>2</td>\n",
       "      <td>IN</td>\n",
       "      <td>2040</td>\n",
       "    </tr>\n",
       "    <tr>\n",
       "      <th>1</th>\n",
       "      <td>lnarmen</td>\n",
       "      <td>Lia</td>\n",
       "      <td>Narmen</td>\n",
       "      <td>28</td>\n",
       "      <td>Female</td>\n",
       "      <td>4.60</td>\n",
       "      <td>3</td>\n",
       "      <td>IN</td>\n",
       "      <td>2400</td>\n",
       "    </tr>\n",
       "    <tr>\n",
       "      <th>2</th>\n",
       "      <td>vvoghan</td>\n",
       "      <td>Vin</td>\n",
       "      <td>Voughan</td>\n",
       "      <td>33</td>\n",
       "      <td>Male</td>\n",
       "      <td>3.90</td>\n",
       "      <td>1</td>\n",
       "      <td>IN</td>\n",
       "      <td>1500</td>\n",
       "    </tr>\n",
       "    <tr>\n",
       "      <th>3</th>\n",
       "      <td>kkoltin</td>\n",
       "      <td>Katie</td>\n",
       "      <td>Koltin</td>\n",
       "      <td>38</td>\n",
       "      <td>Female</td>\n",
       "      <td>2.78</td>\n",
       "      <td>4</td>\n",
       "      <td>IN</td>\n",
       "      <td>6000</td>\n",
       "    </tr>\n",
       "  </tbody>\n",
       "</table>\n",
       "</div>"
      ],
      "text/plain": [
       "   level_0 First_Name Last_Name  YearsOld  Gender  Rating  Rank Nationality  \\\n",
       "0  sgutter      Steve    Gutter        32    Male    3.45     2          IN   \n",
       "1  lnarmen        Lia    Narmen        28  Female    4.60     3          IN   \n",
       "2  vvoghan        Vin   Voughan        33    Male    3.90     1          IN   \n",
       "3  kkoltin      Katie    Koltin        38  Female    2.78     4          IN   \n",
       "\n",
       "   Salary  \n",
       "0    2040  \n",
       "1    2400  \n",
       "2    1500  \n",
       "3    6000  "
      ]
     },
     "execution_count": 267,
     "metadata": {},
     "output_type": "execute_result"
    }
   ],
   "source": [
    "## To save the existing index into a new column, change will alwasys be set to new variable but not original DataFrame\n",
    "Df_13 = Df_12.reset_index()\n",
    "Df_13"
   ]
  },
  {
   "cell_type": "code",
   "execution_count": 268,
   "metadata": {},
   "outputs": [
    {
     "data": {
      "text/html": [
       "<div>\n",
       "<style scoped>\n",
       "    .dataframe tbody tr th:only-of-type {\n",
       "        vertical-align: middle;\n",
       "    }\n",
       "\n",
       "    .dataframe tbody tr th {\n",
       "        vertical-align: top;\n",
       "    }\n",
       "\n",
       "    .dataframe thead th {\n",
       "        text-align: right;\n",
       "    }\n",
       "</style>\n",
       "<table border=\"1\" class=\"dataframe\">\n",
       "  <thead>\n",
       "    <tr style=\"text-align: right;\">\n",
       "      <th></th>\n",
       "      <th>level_0</th>\n",
       "      <th>Last_Name</th>\n",
       "      <th>YearsOld</th>\n",
       "      <th>Gender</th>\n",
       "      <th>Rating</th>\n",
       "      <th>Rank</th>\n",
       "      <th>Nationality</th>\n",
       "      <th>Salary</th>\n",
       "    </tr>\n",
       "    <tr>\n",
       "      <th>First_Name</th>\n",
       "      <th></th>\n",
       "      <th></th>\n",
       "      <th></th>\n",
       "      <th></th>\n",
       "      <th></th>\n",
       "      <th></th>\n",
       "      <th></th>\n",
       "      <th></th>\n",
       "    </tr>\n",
       "  </thead>\n",
       "  <tbody>\n",
       "    <tr>\n",
       "      <th>Steve</th>\n",
       "      <td>sgutter</td>\n",
       "      <td>Gutter</td>\n",
       "      <td>32</td>\n",
       "      <td>Male</td>\n",
       "      <td>3.45</td>\n",
       "      <td>2</td>\n",
       "      <td>IN</td>\n",
       "      <td>2040</td>\n",
       "    </tr>\n",
       "    <tr>\n",
       "      <th>Lia</th>\n",
       "      <td>lnarmen</td>\n",
       "      <td>Narmen</td>\n",
       "      <td>28</td>\n",
       "      <td>Female</td>\n",
       "      <td>4.60</td>\n",
       "      <td>3</td>\n",
       "      <td>IN</td>\n",
       "      <td>2400</td>\n",
       "    </tr>\n",
       "    <tr>\n",
       "      <th>Vin</th>\n",
       "      <td>vvoghan</td>\n",
       "      <td>Voughan</td>\n",
       "      <td>33</td>\n",
       "      <td>Male</td>\n",
       "      <td>3.90</td>\n",
       "      <td>1</td>\n",
       "      <td>IN</td>\n",
       "      <td>1500</td>\n",
       "    </tr>\n",
       "    <tr>\n",
       "      <th>Katie</th>\n",
       "      <td>kkoltin</td>\n",
       "      <td>Koltin</td>\n",
       "      <td>38</td>\n",
       "      <td>Female</td>\n",
       "      <td>2.78</td>\n",
       "      <td>4</td>\n",
       "      <td>IN</td>\n",
       "      <td>6000</td>\n",
       "    </tr>\n",
       "  </tbody>\n",
       "</table>\n",
       "</div>"
      ],
      "text/plain": [
       "            level_0 Last_Name  YearsOld  Gender  Rating  Rank Nationality  \\\n",
       "First_Name                                                                  \n",
       "Steve       sgutter    Gutter        32    Male    3.45     2          IN   \n",
       "Lia         lnarmen    Narmen        28  Female    4.60     3          IN   \n",
       "Vin         vvoghan   Voughan        33    Male    3.90     1          IN   \n",
       "Katie       kkoltin    Koltin        38  Female    2.78     4          IN   \n",
       "\n",
       "            Salary  \n",
       "First_Name          \n",
       "Steve         2040  \n",
       "Lia           2400  \n",
       "Vin           1500  \n",
       "Katie         6000  "
      ]
     },
     "execution_count": 268,
     "metadata": {},
     "output_type": "execute_result"
    }
   ],
   "source": [
    "# To set a column values into index, change will alwasys be set to new variable but not original DataFrame\n",
    "Df_13 = Df_12.set_index('First_Name')\n",
    "Df_13"
   ]
  },
  {
   "cell_type": "code",
   "execution_count": 272,
   "metadata": {},
   "outputs": [
    {
     "data": {
      "text/html": [
       "<div>\n",
       "<style scoped>\n",
       "    .dataframe tbody tr th:only-of-type {\n",
       "        vertical-align: middle;\n",
       "    }\n",
       "\n",
       "    .dataframe tbody tr th {\n",
       "        vertical-align: top;\n",
       "    }\n",
       "\n",
       "    .dataframe thead th {\n",
       "        text-align: right;\n",
       "    }\n",
       "</style>\n",
       "<table border=\"1\" class=\"dataframe\">\n",
       "  <thead>\n",
       "    <tr style=\"text-align: right;\">\n",
       "      <th></th>\n",
       "      <th>First_Name</th>\n",
       "      <th>Last_Name</th>\n",
       "      <th>YearsOld</th>\n",
       "      <th>Gender</th>\n",
       "      <th>Rating</th>\n",
       "      <th>Nationality</th>\n",
       "      <th>Salary</th>\n",
       "    </tr>\n",
       "  </thead>\n",
       "  <tbody>\n",
       "    <tr>\n",
       "      <th>sgutter</th>\n",
       "      <td>Steve</td>\n",
       "      <td>Gutter</td>\n",
       "      <td>32</td>\n",
       "      <td>Male</td>\n",
       "      <td>3.45</td>\n",
       "      <td>IN</td>\n",
       "      <td>1000</td>\n",
       "    </tr>\n",
       "    <tr>\n",
       "      <th>lnarmen</th>\n",
       "      <td>Lia</td>\n",
       "      <td>Narmen</td>\n",
       "      <td>28</td>\n",
       "      <td>Female</td>\n",
       "      <td>4.60</td>\n",
       "      <td>IN</td>\n",
       "      <td>1200</td>\n",
       "    </tr>\n",
       "    <tr>\n",
       "      <th>vvoghan</th>\n",
       "      <td>Vin</td>\n",
       "      <td>Voughan</td>\n",
       "      <td>33</td>\n",
       "      <td>Male</td>\n",
       "      <td>3.90</td>\n",
       "      <td>IN</td>\n",
       "      <td>750</td>\n",
       "    </tr>\n",
       "    <tr>\n",
       "      <th>kkoltin</th>\n",
       "      <td>Katie</td>\n",
       "      <td>Koltin</td>\n",
       "      <td>38</td>\n",
       "      <td>Female</td>\n",
       "      <td>2.78</td>\n",
       "      <td>IN</td>\n",
       "      <td>3000</td>\n",
       "    </tr>\n",
       "  </tbody>\n",
       "</table>\n",
       "</div>"
      ],
      "text/plain": [
       "        First_Name Last_Name  YearsOld  Gender  Rating Nationality  Salary\n",
       "sgutter      Steve    Gutter        32    Male    3.45          IN    1000\n",
       "lnarmen        Lia    Narmen        28  Female    4.60          IN    1200\n",
       "vvoghan        Vin   Voughan        33    Male    3.90          IN     750\n",
       "kkoltin      Katie    Koltin        38  Female    2.78          IN    3000"
      ]
     },
     "execution_count": 272,
     "metadata": {},
     "output_type": "execute_result"
    }
   ],
   "source": [
    "#To reindex the column values, Data will be lost if the mapping is incorrect\n",
    "Df_13 = Df_15.reindex()\n",
    "Df_13"
   ]
  },
  {
   "cell_type": "code",
   "execution_count": 274,
   "metadata": {},
   "outputs": [],
   "source": [
    "Df_13 = Df_15.reset_index()\n",
    "Df_13['id_No'] = [4374,4373,4375,4372]"
   ]
  },
  {
   "cell_type": "code",
   "execution_count": 275,
   "metadata": {},
   "outputs": [
    {
     "data": {
      "text/html": [
       "<div>\n",
       "<style scoped>\n",
       "    .dataframe tbody tr th:only-of-type {\n",
       "        vertical-align: middle;\n",
       "    }\n",
       "\n",
       "    .dataframe tbody tr th {\n",
       "        vertical-align: top;\n",
       "    }\n",
       "\n",
       "    .dataframe thead th {\n",
       "        text-align: right;\n",
       "    }\n",
       "</style>\n",
       "<table border=\"1\" class=\"dataframe\">\n",
       "  <thead>\n",
       "    <tr style=\"text-align: right;\">\n",
       "      <th></th>\n",
       "      <th></th>\n",
       "      <th>First_Name</th>\n",
       "      <th>Last_Name</th>\n",
       "      <th>YearsOld</th>\n",
       "      <th>Gender</th>\n",
       "      <th>Rating</th>\n",
       "      <th>Nationality</th>\n",
       "      <th>Salary</th>\n",
       "    </tr>\n",
       "    <tr>\n",
       "      <th>level_0</th>\n",
       "      <th>id_No</th>\n",
       "      <th></th>\n",
       "      <th></th>\n",
       "      <th></th>\n",
       "      <th></th>\n",
       "      <th></th>\n",
       "      <th></th>\n",
       "      <th></th>\n",
       "    </tr>\n",
       "  </thead>\n",
       "  <tbody>\n",
       "    <tr>\n",
       "      <th>sgutter</th>\n",
       "      <th>4374</th>\n",
       "      <td>Steve</td>\n",
       "      <td>Gutter</td>\n",
       "      <td>32</td>\n",
       "      <td>Male</td>\n",
       "      <td>3.45</td>\n",
       "      <td>IN</td>\n",
       "      <td>1000</td>\n",
       "    </tr>\n",
       "    <tr>\n",
       "      <th>lnarmen</th>\n",
       "      <th>4373</th>\n",
       "      <td>Lia</td>\n",
       "      <td>Narmen</td>\n",
       "      <td>28</td>\n",
       "      <td>Female</td>\n",
       "      <td>4.60</td>\n",
       "      <td>IN</td>\n",
       "      <td>1200</td>\n",
       "    </tr>\n",
       "    <tr>\n",
       "      <th>vvoghan</th>\n",
       "      <th>4375</th>\n",
       "      <td>Vin</td>\n",
       "      <td>Voughan</td>\n",
       "      <td>33</td>\n",
       "      <td>Male</td>\n",
       "      <td>3.90</td>\n",
       "      <td>IN</td>\n",
       "      <td>750</td>\n",
       "    </tr>\n",
       "    <tr>\n",
       "      <th>kkoltin</th>\n",
       "      <th>4372</th>\n",
       "      <td>Katie</td>\n",
       "      <td>Koltin</td>\n",
       "      <td>38</td>\n",
       "      <td>Female</td>\n",
       "      <td>2.78</td>\n",
       "      <td>IN</td>\n",
       "      <td>3000</td>\n",
       "    </tr>\n",
       "  </tbody>\n",
       "</table>\n",
       "</div>"
      ],
      "text/plain": [
       "              First_Name Last_Name  YearsOld  Gender  Rating Nationality  \\\n",
       "level_0 id_No                                                              \n",
       "sgutter 4374       Steve    Gutter        32    Male    3.45          IN   \n",
       "lnarmen 4373         Lia    Narmen        28  Female    4.60          IN   \n",
       "vvoghan 4375         Vin   Voughan        33    Male    3.90          IN   \n",
       "kkoltin 4372       Katie    Koltin        38  Female    2.78          IN   \n",
       "\n",
       "               Salary  \n",
       "level_0 id_No          \n",
       "sgutter 4374     1000  \n",
       "lnarmen 4373     1200  \n",
       "vvoghan 4375      750  \n",
       "kkoltin 4372     3000  "
      ]
     },
     "execution_count": 275,
     "metadata": {},
     "output_type": "execute_result"
    }
   ],
   "source": [
    "Df_13 = Df_13.set_index(['level_0' ,'id_No'])\n",
    "Df_13"
   ]
  },
  {
   "cell_type": "code",
   "execution_count": 298,
   "metadata": {},
   "outputs": [
    {
     "data": {
      "text/html": [
       "<div>\n",
       "<style scoped>\n",
       "    .dataframe tbody tr th:only-of-type {\n",
       "        vertical-align: middle;\n",
       "    }\n",
       "\n",
       "    .dataframe tbody tr th {\n",
       "        vertical-align: top;\n",
       "    }\n",
       "\n",
       "    .dataframe thead th {\n",
       "        text-align: right;\n",
       "    }\n",
       "</style>\n",
       "<table border=\"1\" class=\"dataframe\">\n",
       "  <thead>\n",
       "    <tr style=\"text-align: right;\">\n",
       "      <th></th>\n",
       "      <th>one</th>\n",
       "      <th>two</th>\n",
       "    </tr>\n",
       "  </thead>\n",
       "  <tbody>\n",
       "    <tr>\n",
       "      <th>a</th>\n",
       "      <td>1.0</td>\n",
       "      <td>1</td>\n",
       "    </tr>\n",
       "    <tr>\n",
       "      <th>b</th>\n",
       "      <td>2.0</td>\n",
       "      <td>2</td>\n",
       "    </tr>\n",
       "    <tr>\n",
       "      <th>c</th>\n",
       "      <td>3.0</td>\n",
       "      <td>3</td>\n",
       "    </tr>\n",
       "    <tr>\n",
       "      <th>d</th>\n",
       "      <td>NaN</td>\n",
       "      <td>4</td>\n",
       "    </tr>\n",
       "  </tbody>\n",
       "</table>\n",
       "</div>"
      ],
      "text/plain": [
       "   one  two\n",
       "a  1.0    1\n",
       "b  2.0    2\n",
       "c  3.0    3\n",
       "d  NaN    4"
      ]
     },
     "execution_count": 298,
     "metadata": {},
     "output_type": "execute_result"
    }
   ],
   "source": [
    "d = {'one' : pd.Series([1, 2, 3], index=['a', 'b', 'c']),\n",
    "   'two' : pd.Series([1, 2, 3, 4], index=['a', 'b', 'c', 'd'])}\n",
    "\n",
    "df = pd.DataFrame(d)\n",
    "df"
   ]
  },
  {
   "cell_type": "code",
   "execution_count": 299,
   "metadata": {},
   "outputs": [
    {
     "data": {
      "text/html": [
       "<div>\n",
       "<style scoped>\n",
       "    .dataframe tbody tr th:only-of-type {\n",
       "        vertical-align: middle;\n",
       "    }\n",
       "\n",
       "    .dataframe tbody tr th {\n",
       "        vertical-align: top;\n",
       "    }\n",
       "\n",
       "    .dataframe thead th {\n",
       "        text-align: right;\n",
       "    }\n",
       "</style>\n",
       "<table border=\"1\" class=\"dataframe\">\n",
       "  <thead>\n",
       "    <tr style=\"text-align: right;\">\n",
       "      <th></th>\n",
       "      <th>one</th>\n",
       "      <th>two</th>\n",
       "      <th>three</th>\n",
       "    </tr>\n",
       "  </thead>\n",
       "  <tbody>\n",
       "    <tr>\n",
       "      <th>a</th>\n",
       "      <td>1.0</td>\n",
       "      <td>1</td>\n",
       "      <td>2.0</td>\n",
       "    </tr>\n",
       "    <tr>\n",
       "      <th>b</th>\n",
       "      <td>2.0</td>\n",
       "      <td>2</td>\n",
       "      <td>4.0</td>\n",
       "    </tr>\n",
       "    <tr>\n",
       "      <th>c</th>\n",
       "      <td>3.0</td>\n",
       "      <td>3</td>\n",
       "      <td>6.0</td>\n",
       "    </tr>\n",
       "    <tr>\n",
       "      <th>d</th>\n",
       "      <td>NaN</td>\n",
       "      <td>4</td>\n",
       "      <td>NaN</td>\n",
       "    </tr>\n",
       "  </tbody>\n",
       "</table>\n",
       "</div>"
      ],
      "text/plain": [
       "   one  two  three\n",
       "a  1.0    1    2.0\n",
       "b  2.0    2    4.0\n",
       "c  3.0    3    6.0\n",
       "d  NaN    4    NaN"
      ]
     },
     "execution_count": 299,
     "metadata": {},
     "output_type": "execute_result"
    }
   ],
   "source": [
    "df['three']=df['one']+df['two']\n",
    "df"
   ]
  },
  {
   "cell_type": "code",
   "execution_count": 300,
   "metadata": {},
   "outputs": [
    {
     "data": {
      "text/html": [
       "<div>\n",
       "<style scoped>\n",
       "    .dataframe tbody tr th:only-of-type {\n",
       "        vertical-align: middle;\n",
       "    }\n",
       "\n",
       "    .dataframe tbody tr th {\n",
       "        vertical-align: top;\n",
       "    }\n",
       "\n",
       "    .dataframe thead th {\n",
       "        text-align: right;\n",
       "    }\n",
       "</style>\n",
       "<table border=\"1\" class=\"dataframe\">\n",
       "  <thead>\n",
       "    <tr style=\"text-align: right;\">\n",
       "      <th></th>\n",
       "      <th>one</th>\n",
       "      <th>two</th>\n",
       "      <th>three</th>\n",
       "    </tr>\n",
       "  </thead>\n",
       "  <tbody>\n",
       "    <tr>\n",
       "      <th>a</th>\n",
       "      <td>1.0</td>\n",
       "      <td>1</td>\n",
       "      <td>2.0</td>\n",
       "    </tr>\n",
       "    <tr>\n",
       "      <th>b</th>\n",
       "      <td>2.0</td>\n",
       "      <td>2</td>\n",
       "      <td>4.0</td>\n",
       "    </tr>\n",
       "    <tr>\n",
       "      <th>c</th>\n",
       "      <td>3.0</td>\n",
       "      <td>3</td>\n",
       "      <td>6.0</td>\n",
       "    </tr>\n",
       "  </tbody>\n",
       "</table>\n",
       "</div>"
      ],
      "text/plain": [
       "   one  two  three\n",
       "a  1.0    1    2.0\n",
       "b  2.0    2    4.0\n",
       "c  3.0    3    6.0"
      ]
     },
     "execution_count": 300,
     "metadata": {},
     "output_type": "execute_result"
    }
   ],
   "source": [
    "## To delete a row\n",
    "df.drop(index='d',inplace=True)\n",
    "df"
   ]
  }
 ],
 "metadata": {
  "kernelspec": {
   "display_name": "Python 3",
   "language": "python",
   "name": "python3"
  },
  "language_info": {
   "codemirror_mode": {
    "name": "ipython",
    "version": 3
   },
   "file_extension": ".py",
   "mimetype": "text/x-python",
   "name": "python",
   "nbconvert_exporter": "python",
   "pygments_lexer": "ipython3",
   "version": "3.7.4"
  }
 },
 "nbformat": 4,
 "nbformat_minor": 4
}
